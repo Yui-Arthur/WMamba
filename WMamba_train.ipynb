{
 "cells": [
  {
   "cell_type": "markdown",
   "id": "32a02576",
   "metadata": {
    "papermill": {
     "duration": 0.005455,
     "end_time": "2024-05-22T19:13:27.926690",
     "exception": false,
     "start_time": "2024-05-22T19:13:27.921235",
     "status": "completed"
    },
    "tags": []
   },
   "source": [
    "## Device use T4 * 2"
   ]
  },
  {
   "cell_type": "markdown",
   "id": "06205b22",
   "metadata": {
    "papermill": {
     "duration": 0.004796,
     "end_time": "2024-05-22T19:13:27.940381",
     "exception": false,
     "start_time": "2024-05-22T19:13:27.935585",
     "status": "completed"
    },
    "tags": []
   },
   "source": [
    "#### Clone WMamba & U-Mamba Repo"
   ]
  },
  {
   "cell_type": "code",
   "execution_count": 1,
   "id": "abda682e",
   "metadata": {
    "_cell_guid": "b1076dfc-b9ad-4769-8c92-a6c4dae69d19",
    "_uuid": "8f2839f25d086af736a60e9eeb907d3b93b6e0e5",
    "execution": {
     "iopub.execute_input": "2024-05-22T19:13:27.951198Z",
     "iopub.status.busy": "2024-05-22T19:13:27.950847Z",
     "iopub.status.idle": "2024-05-22T19:13:31.466535Z",
     "shell.execute_reply": "2024-05-22T19:13:31.465456Z"
    },
    "papermill": {
     "duration": 3.523718,
     "end_time": "2024-05-22T19:13:31.468817",
     "exception": false,
     "start_time": "2024-05-22T19:13:27.945099",
     "status": "completed"
    },
    "tags": []
   },
   "outputs": [
    {
     "name": "stdout",
     "output_type": "stream",
     "text": [
      "Cloning into 'WMamba'...\r\n",
      "remote: Enumerating objects: 202, done.\u001b[K\r\n",
      "remote: Counting objects: 100% (55/55), done.\u001b[K\r\n",
      "remote: Compressing objects: 100% (42/42), done.\u001b[K\r\n",
      "remote: Total 202 (delta 23), reused 21 (delta 13), pack-reused 147\u001b[K\r\n",
      "Receiving objects: 100% (202/202), 143.96 KiB | 2.03 MiB/s, done.\r\n",
      "Resolving deltas: 100% (102/102), done.\r\n",
      "/kaggle/working/WMamba\n",
      "Cloning into 'U-Mamba'...\r\n",
      "remote: Enumerating objects: 301, done.\u001b[K\r\n",
      "remote: Counting objects: 100% (70/70), done.\u001b[K\r\n",
      "remote: Compressing objects: 100% (54/54), done.\u001b[K\r\n",
      "remote: Total 301 (delta 46), reused 18 (delta 16), pack-reused 231\u001b[K\r\n",
      "Receiving objects: 100% (301/301), 2.91 MiB | 14.69 MiB/s, done.\r\n",
      "Resolving deltas: 100% (74/74), done.\r\n"
     ]
    }
   ],
   "source": [
    "!git clone https://github.com/Yui-Arthur/WMamba.git > /dev/null\n",
    "%cd WMamba\n",
    "!git clone https://github.com/bowang-lab/U-Mamba.git > /dev/null"
   ]
  },
  {
   "cell_type": "code",
   "execution_count": 2,
   "id": "a2df30c2",
   "metadata": {
    "execution": {
     "iopub.execute_input": "2024-05-22T19:13:31.484989Z",
     "iopub.status.busy": "2024-05-22T19:13:31.484619Z",
     "iopub.status.idle": "2024-05-22T19:13:32.482078Z",
     "shell.execute_reply": "2024-05-22T19:13:32.481169Z"
    },
    "papermill": {
     "duration": 1.00801,
     "end_time": "2024-05-22T19:13:32.484205",
     "exception": false,
     "start_time": "2024-05-22T19:13:31.476195",
     "status": "completed"
    },
    "tags": []
   },
   "outputs": [
    {
     "name": "stdout",
     "output_type": "stream",
     "text": [
      "Branch 'Kaggle' set up to track remote branch 'Kaggle' from 'origin'.\r\n",
      "Switched to a new branch 'Kaggle'\r\n"
     ]
    }
   ],
   "source": [
    "!git checkout Kaggle"
   ]
  },
  {
   "cell_type": "markdown",
   "id": "d7a3b901",
   "metadata": {
    "papermill": {
     "duration": 0.00643,
     "end_time": "2024-05-22T19:13:32.497327",
     "exception": false,
     "start_time": "2024-05-22T19:13:32.490897",
     "status": "completed"
    },
    "tags": []
   },
   "source": [
    "#### Mabma & U-Mamba & WMamba reqirement"
   ]
  },
  {
   "cell_type": "code",
   "execution_count": 3,
   "id": "a191669f",
   "metadata": {
    "execution": {
     "iopub.execute_input": "2024-05-22T19:13:32.511322Z",
     "iopub.status.busy": "2024-05-22T19:13:32.511020Z",
     "iopub.status.idle": "2024-05-22T19:15:15.126313Z",
     "shell.execute_reply": "2024-05-22T19:15:15.124965Z"
    },
    "papermill": {
     "duration": 102.625349,
     "end_time": "2024-05-22T19:15:15.128842",
     "exception": false,
     "start_time": "2024-05-22T19:13:32.503493",
     "status": "completed"
    },
    "tags": []
   },
   "outputs": [],
   "source": [
    "!pip install causal-conv1d>=1.2.0 --no-cache-dir > /dev/null\n",
    "!pip install mamba-ssm --no-cache-dir > /dev/null\n",
    "!cd U-Mamba/umamba && (pip install -e .) > /dev/null"
   ]
  },
  {
   "cell_type": "code",
   "execution_count": 4,
   "id": "0dec5eb4",
   "metadata": {
    "execution": {
     "iopub.execute_input": "2024-05-22T19:15:15.143744Z",
     "iopub.status.busy": "2024-05-22T19:15:15.143426Z",
     "iopub.status.idle": "2024-05-22T19:15:41.587966Z",
     "shell.execute_reply": "2024-05-22T19:15:41.586541Z"
    },
    "papermill": {
     "duration": 26.454809,
     "end_time": "2024-05-22T19:15:41.590617",
     "exception": false,
     "start_time": "2024-05-22T19:15:15.135808",
     "status": "completed"
    },
    "tags": []
   },
   "outputs": [
    {
     "name": "stdout",
     "output_type": "stream",
     "text": [
      "\u001b[31mERROR: pip's dependency resolver does not currently take into account all the packages that are installed. This behaviour is the source of the following dependency conflicts.\r\n",
      "jupyterlab 4.1.5 requires jupyter-lsp>=2.0.0, but you have jupyter-lsp 1.5.1 which is incompatible.\r\n",
      "jupyterlab-lsp 5.1.0 requires jupyter-lsp>=2.0.0, but you have jupyter-lsp 1.5.1 which is incompatible.\r\n",
      "libpysal 4.9.2 requires packaging>=22, but you have packaging 21.3 which is incompatible.\r\n",
      "libpysal 4.9.2 requires shapely>=2.0.1, but you have shapely 1.8.5.post1 which is incompatible.\r\n",
      "momepy 0.7.0 requires shapely>=2, but you have shapely 1.8.5.post1 which is incompatible.\r\n",
      "spopt 0.6.0 requires shapely>=2.0.1, but you have shapely 1.8.5.post1 which is incompatible.\u001b[0m\u001b[31m\r\n",
      "\u001b[0m"
     ]
    }
   ],
   "source": [
    "!pip install ptwt >  /dev/null\n",
    "!pip install PyWavelets >  /dev/null"
   ]
  },
  {
   "cell_type": "code",
   "execution_count": 5,
   "id": "b8e23f22",
   "metadata": {
    "execution": {
     "iopub.execute_input": "2024-05-22T19:15:41.606083Z",
     "iopub.status.busy": "2024-05-22T19:15:41.605753Z",
     "iopub.status.idle": "2024-05-22T19:15:42.778956Z",
     "shell.execute_reply": "2024-05-22T19:15:42.777814Z"
    },
    "papermill": {
     "duration": 1.182944,
     "end_time": "2024-05-22T19:15:42.781178",
     "exception": false,
     "start_time": "2024-05-22T19:15:41.598234",
     "status": "completed"
    },
    "tags": []
   },
   "outputs": [
    {
     "name": "stdout",
     "output_type": "stream",
     "text": [
      "Setup WMamba\r\n",
      "CP File From W-Mamba to U-Mamba\r\n",
      "Trainer:\r\n",
      "  nnUNetTrainerUMambaEnc.py\r\n",
      "  nnUNetTrainerUMambaEncNoAMP.py\r\n",
      "  nnUNetTrainerWMambaBase.py\r\n",
      "  nnUNetTrainerUMambaBot.py\r\n",
      "  nnUNetTrainerWMambaBot.py\r\n",
      "Nets:\r\n",
      "  WMambaBot_3d.py\r\n",
      "Others:\r\n",
      "  paths.py\r\n",
      "  waveletLayer.py\r\n"
     ]
    }
   ],
   "source": [
    "!sudo bash setup_wmamba.sh"
   ]
  },
  {
   "cell_type": "markdown",
   "id": "2ad8502b",
   "metadata": {
    "papermill": {
     "duration": 0.006886,
     "end_time": "2024-05-22T19:15:42.796325",
     "exception": false,
     "start_time": "2024-05-22T19:15:42.789439",
     "status": "completed"
    },
    "tags": []
   },
   "source": [
    "### set env variable"
   ]
  },
  {
   "cell_type": "code",
   "execution_count": 6,
   "id": "de7964c4",
   "metadata": {
    "execution": {
     "iopub.execute_input": "2024-05-22T19:15:42.812006Z",
     "iopub.status.busy": "2024-05-22T19:15:42.811353Z",
     "iopub.status.idle": "2024-05-22T19:15:42.820868Z",
     "shell.execute_reply": "2024-05-22T19:15:42.820103Z"
    },
    "papermill": {
     "duration": 0.019467,
     "end_time": "2024-05-22T19:15:42.822822",
     "exception": false,
     "start_time": "2024-05-22T19:15:42.803355",
     "status": "completed"
    },
    "tags": []
   },
   "outputs": [
    {
     "name": "stdout",
     "output_type": "stream",
     "text": [
      "env: ipynb=1\n",
      "env: nnUNet_preprocessed=/home/nnUNet_preprocessed/\n",
      "env: nnUNet_raw=/home/nnUNet_raw/\n",
      "env: nnUNet_results=/kaggle/working/\n"
     ]
    }
   ],
   "source": [
    "### DO NOT EDIT !!! ###\n",
    "nnUNet_preprocessed=\"/home/nnUNet_preprocessed/\"\n",
    "nnUNet_raw=\"/home/nnUNet_raw/\"\n",
    "nnUNet_results=\"/kaggle/working/\"\n",
    "\n",
    "%env ipynb=1\n",
    "%env nnUNet_preprocessed={nnUNet_preprocessed}\n",
    "%env nnUNet_raw={nnUNet_raw}\n",
    "%env nnUNet_results={nnUNet_results}\n",
    "\n"
   ]
  },
  {
   "cell_type": "markdown",
   "id": "1811cb72",
   "metadata": {
    "papermill": {
     "duration": 0.007134,
     "end_time": "2024-05-22T19:15:42.836980",
     "exception": false,
     "start_time": "2024-05-22T19:15:42.829846",
     "status": "completed"
    },
    "tags": []
   },
   "source": [
    "### parameter (can modify)"
   ]
  },
  {
   "cell_type": "code",
   "execution_count": 7,
   "id": "0f1614bf",
   "metadata": {
    "execution": {
     "iopub.execute_input": "2024-05-22T19:15:42.852376Z",
     "iopub.status.busy": "2024-05-22T19:15:42.852121Z",
     "iopub.status.idle": "2024-05-22T19:15:42.859634Z",
     "shell.execute_reply": "2024-05-22T19:15:42.858768Z"
    },
    "papermill": {
     "duration": 0.017217,
     "end_time": "2024-05-22T19:15:42.861451",
     "exception": false,
     "start_time": "2024-05-22T19:15:42.844234",
     "status": "completed"
    },
    "tags": []
   },
   "outputs": [
    {
     "name": "stdout",
     "output_type": "stream",
     "text": [
      "env: training_epochs=150\n",
      "env: checkpoint_save_every=10\n"
     ]
    }
   ],
   "source": [
    "### Epoch ###\n",
    "# **the maximum epoch include all train epoch in every session** #\n",
    "%env training_epochs=150\n",
    "\n",
    "### Checkpoint ###\n",
    "# every {checkpoint_save_every} epochs will save one checkpoint\n",
    "%env checkpoint_save_every = 10\n",
    "load_checkpoint = True\n",
    "prev_checkpoint_f0 = \"/kaggle/input/0523_1/checkpoint_best_0.pth\"\n",
    "prev_checkpoint_f1 = \"/kaggle/input/0523_1/checkpoint_best_1.pth\"\n",
    "\n",
    "### Kaggle Dataset Input Path ###\n",
    "dataset_path = \"/kaggle/input/Dataset110_CTImage.mp4\"\n",
    "### Dataset ID ###\n",
    "dataset_id = 110\n",
    "\n",
    "### Set Trainer/Model ###\n",
    "trainer = \"nnUNetTrainerWMambaBot\"\n",
    "\n",
    "### Set GPU DRAM for dataset preproccess ###\n",
    "gpu_dram = 8\n"
   ]
  },
  {
   "cell_type": "markdown",
   "id": "f76eeffb",
   "metadata": {
    "papermill": {
     "duration": 0.006743,
     "end_time": "2024-05-22T19:15:42.875339",
     "exception": false,
     "start_time": "2024-05-22T19:15:42.868596",
     "status": "completed"
    },
    "tags": []
   },
   "source": [
    "### dataset prepaired"
   ]
  },
  {
   "cell_type": "code",
   "execution_count": 8,
   "id": "6ce29ec3",
   "metadata": {
    "execution": {
     "iopub.execute_input": "2024-05-22T19:15:42.890837Z",
     "iopub.status.busy": "2024-05-22T19:15:42.890573Z",
     "iopub.status.idle": "2024-05-22T19:31:15.501530Z",
     "shell.execute_reply": "2024-05-22T19:31:15.500414Z"
    },
    "papermill": {
     "duration": 932.621602,
     "end_time": "2024-05-22T19:31:15.503922",
     "exception": false,
     "start_time": "2024-05-22T19:15:42.882320",
     "status": "completed"
    },
    "tags": []
   },
   "outputs": [
    {
     "name": "stdout",
     "output_type": "stream",
     "text": [
      "\r\n",
      "\r\n",
      "\r\n",
      "The following NEW packages will be installed:\r\n",
      "  unrar\r\n",
      "0 upgraded, 1 newly installed, 0 to remove and 51 not upgraded.\r\n",
      "Need to get 113 kB of archives.\r\n",
      "After this operation, 406 kB of additional disk space will be used.\r\n",
      "Get:1 http://archive.ubuntu.com/ubuntu focal/multiverse amd64 unrar amd64 1:5.6.6-2build1 [113 kB]\r\n",
      "Fetched 113 kB in 1s (131 kB/s)\r\n",
      "\n",
      "\u001b7\u001b[0;23r\u001b8\u001b[1ASelecting previously unselected package unrar.\r\n",
      "(Reading database ... 113807 files and directories currently installed.)\r\n",
      "Preparing to unpack .../unrar_1%3a5.6.6-2build1_amd64.deb ...\r\n",
      "\u001b7\u001b[24;0f\u001b[42m\u001b[30mProgress: [  0%]\u001b[49m\u001b[39m [..........................................................] \u001b8\u001b7\u001b[24;0f\u001b[42m\u001b[30mProgress: [ 20%]\u001b[49m\u001b[39m [###########...............................................] \u001b8Unpacking unrar (1:5.6.6-2build1) ...\r\n",
      "\u001b7\u001b[24;0f\u001b[42m\u001b[30mProgress: [ 40%]\u001b[49m\u001b[39m [#######################...................................] \u001b8Setting up unrar (1:5.6.6-2build1) ...\r\n",
      "\u001b7\u001b[24;0f\u001b[42m\u001b[30mProgress: [ 60%]\u001b[49m\u001b[39m [##################################........................] \u001b8update-alternatives: using /usr/bin/unrar-nonfree to provide /usr/bin/unrar (unrar) in auto mode\r\n",
      "update-alternatives: warning: skip creation of /usr/share/man/man1/unrar.1.gz because associated file /usr/share/man/man1/unrar-nonfree.1.gz (of link group unrar) doesn't exist\r\n",
      "\u001b7\u001b[24;0f\u001b[42m\u001b[30mProgress: [ 80%]\u001b[49m\u001b[39m [##############################################............] \u001b8Processing triggers for man-db (2.9.1-1) ...\r\n",
      "\r\n",
      "100%|█████████████████████████████████████████| 199/199 [01:13<00:00,  2.71it/s]\r\n",
      "100%|█████████████████████████████████████████| 199/199 [11:46<00:00,  3.55s/it]\r\n"
     ]
    }
   ],
   "source": [
    "if dataset_id == 110:\n",
    "    \"\"\"===== Dataset 110 Covid-19 ====\"\"\"\n",
    "    \"\"\" unrar data folder and move to home. \"\"\"\n",
    "    !apt install unrar\n",
    "    !(unrar x {dataset_path} {nnUNet_raw}) >  /dev/null\n",
    "    \"\"\"dataset preoproccess about 20 mins.\"\"\"\n",
    "    !nnUNetv2_plan_and_preprocess -d 110 --verify_dataset_integrity -c 3d_fullres -gpu_memory_target {gpu_dram} > /dev/null\n",
    "    dataset_id = 110\n",
    "    dataset_name = \"Dataset110_CTImage\"\n",
    "else:\n",
    "    \"\"\"===== Dastaset 4 Hippocampus ====\"\"\"\n",
    "    \"\"\" unzip data folder and move to home. \"\"\"\n",
    "    !(tar -C  /home/ -xvf {dataset_path}) > /dev/null\n",
    "    \"\"\" dataset preoproccess. \"\"\"\n",
    "    !nnUNetv2_convert_MSD_dataset -i /home/Task04_Hippocampus \n",
    "    !nnUNetv2_plan_and_preprocess -d 4 --verify_dataset_integrity -c 3d_fullres -gpu_memory_target {gpu_dram} > /dev/null\n",
    "    dataset_id = 4\n",
    "    dataset_name = \"Dataset004_Hippocampus\"\n"
   ]
  },
  {
   "cell_type": "markdown",
   "id": "60a09d31",
   "metadata": {
    "papermill": {
     "duration": 0.043076,
     "end_time": "2024-05-22T19:31:15.588813",
     "exception": false,
     "start_time": "2024-05-22T19:31:15.545737",
     "status": "completed"
    },
    "tags": []
   },
   "source": [
    "### train"
   ]
  },
  {
   "cell_type": "code",
   "execution_count": 9,
   "id": "571f4421",
   "metadata": {
    "execution": {
     "iopub.execute_input": "2024-05-22T19:31:15.671112Z",
     "iopub.status.busy": "2024-05-22T19:31:15.670366Z",
     "iopub.status.idle": "2024-05-22T20:51:24.632849Z",
     "shell.execute_reply": "2024-05-22T20:51:24.631566Z"
    },
    "papermill": {
     "duration": 4809.006362,
     "end_time": "2024-05-22T20:51:24.636282",
     "exception": false,
     "start_time": "2024-05-22T19:31:15.629920",
     "status": "completed"
    },
    "tags": []
   },
   "outputs": [
    {
     "name": "stdout",
     "output_type": "stream",
     "text": [
      "Load Checkpoint fold 0 ['checkpoint_best.pth']\n",
      "Load Checkpoint fold 1 ['checkpoint_best.pth']\n",
      "2024-05-22 19:32:34.379542: E external/local_xla/xla/stream_executor/cuda/cuda_dnn.cc:9261] Unable to register cuDNN factory: Attempting to register factory for plugin cuDNN when one has already been registered\r\n",
      "2024-05-22 19:32:34.379569: E external/local_xla/xla/stream_executor/cuda/cuda_dnn.cc:9261] Unable to register cuDNN factory: Attempting to register factory for plugin cuDNN when one has already been registered\r\n",
      "2024-05-22 19:32:34.379612: E external/local_xla/xla/stream_executor/cuda/cuda_fft.cc:607] Unable to register cuFFT factory: Attempting to register factory for plugin cuFFT when one has already been registered\r\n",
      "2024-05-22 19:32:34.379680: E external/local_xla/xla/stream_executor/cuda/cuda_fft.cc:607] Unable to register cuFFT factory: Attempting to register factory for plugin cuFFT when one has already been registered\r\n",
      "2024-05-22 19:32:34.667017: E external/local_xla/xla/stream_executor/cuda/cuda_blas.cc:1515] Unable to register cuBLAS factory: Attempting to register factory for plugin cuBLAS when one has already been registered\r\n",
      "2024-05-22 19:32:34.667118: E external/local_xla/xla/stream_executor/cuda/cuda_blas.cc:1515] Unable to register cuBLAS factory: Attempting to register factory for plugin cuBLAS when one has already been registered\r\n",
      "Using device: cuda:0\r\n",
      "Using device: cuda:0\r\n",
      "\r\n",
      "#######################################################################\r\n",
      "Please cite the following paper when using nnU-Net:\r\n",
      "Isensee, F., Jaeger, P. F., Kohl, S. A., Petersen, J., & Maier-Hein, K. H. (2021). nnU-Net: a self-configuring method for deep learning-based biomedical image segmentation. Nature methods, 18(2), 203-211.\r\n",
      "#######################################################################\r\n",
      "\r\n",
      "Total Epochs  150\r\n",
      "Checkpoint Save Every  10\r\n",
      "\r\n",
      "#######################################################################\r\n",
      "Please cite the following paper when using nnU-Net:\r\n",
      "Isensee, F., Jaeger, P. F., Kohl, S. A., Petersen, J., & Maier-Hein, K. H. (2021). nnU-Net: a self-configuring method for deep learning-based biomedical image segmentation. Nature methods, 18(2), 203-211.\r\n",
      "#######################################################################\r\n",
      "\r\n",
      "Total Epochs  150\r\n",
      "Checkpoint Save Every  10\r\n",
      "/kaggle/working/WMamba/U-Mamba/umamba/nnunetv2/waveletLayer.py:30: UserWarning: The wavelet_level is zero, auto set one to avoid error\r\n",
      "  warnings.warn(\"The wavelet_level is zero, auto set one to avoid error\")\r\n",
      "/kaggle/working/WMamba/U-Mamba/umamba/nnunetv2/waveletLayer.py:30: UserWarning: The wavelet_level is zero, auto set one to avoid error\r\n",
      "  warnings.warn(\"The wavelet_level is zero, auto set one to avoid error\")\r\n",
      "WMambaBot\r\n",
      "WMambaBot\r\n",
      "\r\n",
      "This is the configuration used by this training:\r\n",
      "Configuration name: 3d_fullres\r\n",
      " {'data_identifier': 'nnUNetPlans_3d_fullres', 'preprocessor_name': 'DefaultPreprocessor', 'batch_size': 2, 'patch_size': [28, 256, 256], 'median_image_size_in_voxels': [62.0, 512.0, 512.0], 'spacing': [5.0, 0.7429999709129333, 0.7429999709129333], 'normalization_schemes': ['CTNormalization'], 'use_mask_for_norm': [False], 'UNet_class_name': 'PlainConvUNet', 'UNet_base_num_features': 32, 'n_conv_per_stage_encoder': [2, 2, 2, 2, 1, 1, 1], 'n_conv_per_stage_decoder': [2, 2, 2, 2, 1, 1], 'num_pool_per_axis': [2, 6, 6], 'pool_op_kernel_sizes': [[1, 1, 1], [1, 2, 2], [1, 2, 2], [2, 2, 2], [2, 2, 2], [1, 2, 2], [1, 2, 2]], 'conv_kernel_sizes': [[1, 3, 3], [1, 3, 3], [3, 3, 3], [3, 3, 3], [3, 3, 3], [3, 3, 3], [3, 3, 3]], 'unet_max_num_features': 320, 'resampling_fn_data': 'resample_data_or_seg_to_shape', 'resampling_fn_seg': 'resample_data_or_seg_to_shape', 'resampling_fn_data_kwargs': {'is_seg': False, 'order': 3, 'order_z': 0, 'force_separate_z': None}, 'resampling_fn_seg_kwargs': {'is_seg': True, 'order': 1, 'order_z': 0, 'force_separate_z': None}, 'resampling_fn_probabilities': 'resample_data_or_seg_to_shape', 'resampling_fn_probabilities_kwargs': {'is_seg': False, 'order': 1, 'order_z': 0, 'force_separate_z': None}, 'batch_dice': True} \r\n",
      "\r\n",
      "These are the global plan.json settings:\r\n",
      " {'dataset_name': 'Dataset110_CTImage', 'plans_name': 'nnUNetPlans', 'original_median_spacing_after_transp': [5.0, 0.7429999709129333, 0.7429999709129333], 'original_median_shape_after_transp': [63, 512, 512], 'image_reader_writer': 'SimpleITKIO', 'transpose_forward': [0, 1, 2], 'transpose_backward': [0, 1, 2], 'experiment_planner_used': 'ExperimentPlanner', 'label_manager': 'LabelManager', 'foreground_intensity_properties_per_channel': {'0': {'max': 1855.0, 'mean': -599.3174438476562, 'median': -678.0, 'min': -1424.0, 'percentile_00_5': -970.0, 'percentile_99_5': 79.0, 'std': 264.9932556152344}}} \r\n",
      "\r\n",
      "2024-05-22 19:32:53.611588: unpacking dataset...\r\n",
      "\r\n",
      "This is the configuration used by this training:\r\n",
      "Configuration name: 3d_fullres\r\n",
      " {'data_identifier': 'nnUNetPlans_3d_fullres', 'preprocessor_name': 'DefaultPreprocessor', 'batch_size': 2, 'patch_size': [28, 256, 256], 'median_image_size_in_voxels': [62.0, 512.0, 512.0], 'spacing': [5.0, 0.7429999709129333, 0.7429999709129333], 'normalization_schemes': ['CTNormalization'], 'use_mask_for_norm': [False], 'UNet_class_name': 'PlainConvUNet', 'UNet_base_num_features': 32, 'n_conv_per_stage_encoder': [2, 2, 2, 2, 1, 1, 1], 'n_conv_per_stage_decoder': [2, 2, 2, 2, 1, 1], 'num_pool_per_axis': [2, 6, 6], 'pool_op_kernel_sizes': [[1, 1, 1], [1, 2, 2], [1, 2, 2], [2, 2, 2], [2, 2, 2], [1, 2, 2], [1, 2, 2]], 'conv_kernel_sizes': [[1, 3, 3], [1, 3, 3], [3, 3, 3], [3, 3, 3], [3, 3, 3], [3, 3, 3], [3, 3, 3]], 'unet_max_num_features': 320, 'resampling_fn_data': 'resample_data_or_seg_to_shape', 'resampling_fn_seg': 'resample_data_or_seg_to_shape', 'resampling_fn_data_kwargs': {'is_seg': False, 'order': 3, 'order_z': 0, 'force_separate_z': None}, 'resampling_fn_seg_kwargs': {'is_seg': True, 'order': 1, 'order_z': 0, 'force_separate_z': None}, 'resampling_fn_probabilities': 'resample_data_or_seg_to_shape', 'resampling_fn_probabilities_kwargs': {'is_seg': False, 'order': 1, 'order_z': 0, 'force_separate_z': None}, 'batch_dice': True} \r\n",
      "\r\n",
      "These are the global plan.json settings:\r\n",
      " {'dataset_name': 'Dataset110_CTImage', 'plans_name': 'nnUNetPlans', 'original_median_spacing_after_transp': [5.0, 0.7429999709129333, 0.7429999709129333], 'original_median_shape_after_transp': [63, 512, 512], 'image_reader_writer': 'SimpleITKIO', 'transpose_forward': [0, 1, 2], 'transpose_backward': [0, 1, 2], 'experiment_planner_used': 'ExperimentPlanner', 'label_manager': 'LabelManager', 'foreground_intensity_properties_per_channel': {'0': {'max': 1855.0, 'mean': -599.3174438476562, 'median': -678.0, 'min': -1424.0, 'percentile_00_5': -970.0, 'percentile_99_5': 79.0, 'std': 264.9932556152344}}} \r\n",
      "\r\n",
      "2024-05-22 19:32:53.635865: unpacking dataset...\r\n",
      "2024-05-22 19:34:35.987347: unpacking done...\r\n",
      "2024-05-22 19:34:35.992442: do_dummy_2d_data_aug: True\r\n",
      "2024-05-22 19:34:35.996894: Creating new 5-fold cross-validation split...\r\n",
      "2024-05-22 19:34:36.004390: Desired fold for training: 1\r\n",
      "2024-05-22 19:34:36.004553: This split has 159 training and 40 validation cases.\r\n",
      "2024-05-22 19:34:36.040408: Unable to plot network architecture:\r\n",
      "2024-05-22 19:34:36.040524: No module named 'hiddenlayer'\r\n",
      "2024-05-22 19:34:36.145527: unpacking done...\r\n",
      "2024-05-22 19:34:36.147847: do_dummy_2d_data_aug: True\r\n",
      "2024-05-22 19:34:36.154195: Using splits from existing split file: /home/nnUNet_preprocessed/Dataset110_CTImage/splits_final.json\r\n",
      "2024-05-22 19:34:36.155265: The split file contains 5 splits.\r\n",
      "2024-05-22 19:34:36.155398: Desired fold for training: 0\r\n",
      "2024-05-22 19:34:36.155515: This split has 159 training and 40 validation cases.\r\n",
      "2024-05-22 19:34:36.173647: Unable to plot network architecture:\r\n",
      "2024-05-22 19:34:36.173745: No module named 'hiddenlayer'\r\n",
      "2024-05-22 19:34:36.260626: \r\n",
      "2024-05-22 19:34:36.260780: Epoch 149\r\n",
      "2024-05-22 19:34:36.261024: Current learning rate: 0.00011\r\n",
      "  0%|          | 0/250 [00:00<?, ?it/s]\r\n",
      "using pin_memory on device 0\r\n",
      "2024-05-22 19:34:41.226480: Training done.\r\n",
      "2024-05-22 19:34:41.406893: Using splits from existing split file: /home/nnUNet_preprocessed/Dataset110_CTImage/splits_final.json\r\n",
      "2024-05-22 19:34:41.407788: The split file contains 5 splits.\r\n",
      "2024-05-22 19:34:41.408015: Desired fold for training: 0\r\n",
      "2024-05-22 19:34:41.408108: This split has 159 training and 40 validation cases.\r\n",
      "2024-05-22 19:34:41.408916: predicting covid19_0041\r\n",
      "2024-05-22 19:36:24.963410: predicting covid19_0066\r\n",
      "resizing data, order is 1\r\n",
      "data shape (2, 71, 510, 510)\r\n",
      "2024-05-22 19:39:03.186151: predicting covid19_0070\r\n",
      "resizing data, order is 1\r\n",
      "data shape (2, 55, 649, 649)\r\n",
      "2024-05-22 19:41:52.079037: predicting covid19_0074\r\n",
      "resizing data, order is 1\r\n",
      "data shape (2, 71, 597, 597)\r\n",
      "using pin_memory on device 0\r\n",
      "2024-05-22 19:42:37.563508: train_loss -0.7427\r\n",
      "2024-05-22 19:42:37.565083: val_loss -0.6763\r\n",
      "2024-05-22 19:42:37.565259: Pseudo dice [0.7606]\r\n",
      "2024-05-22 19:42:37.565453: Epoch time: 481.31 s\r\n",
      "2024-05-22 19:42:43.333139: Training done.\r\n",
      "2024-05-22 19:42:43.400917: Using splits from existing split file: /home/nnUNet_preprocessed/Dataset110_CTImage/splits_final.json\r\n",
      "2024-05-22 19:42:43.401468: The split file contains 5 splits.\r\n",
      "2024-05-22 19:42:43.401588: Desired fold for training: 1\r\n",
      "2024-05-22 19:42:43.401668: This split has 159 training and 40 validation cases.\r\n",
      "2024-05-22 19:42:43.402620: predicting covid19_0013\r\n",
      "2024-05-22 19:43:05.391241: predicting covid19_0016\r\n",
      "resizing data, order is 1\r\n",
      "data shape (2, 33, 309, 309)\r\n",
      "2024-05-22 19:44:07.056649: predicting covid19_0110\r\n",
      "resizing data, order is 1\r\n",
      "data shape (2, 68, 623, 623)\r\n",
      "2024-05-22 19:44:41.087921: predicting covid19_0047\r\n",
      "resizing data, order is 1\r\n",
      "data shape (2, 72, 511, 511)\r\n",
      "2024-05-22 19:45:23.229262: predicting covid19_0199\r\n",
      "resizing data, order is 1\r\n",
      "data shape (2, 58, 511, 511)\r\n",
      "2024-05-22 19:45:57.977226: predicting covid19_0054\r\n",
      "resizing data, order is 1\r\n",
      "data shape (2, 68, 510, 510)\r\n",
      "2024-05-22 19:46:55.850468: predicting covid19_0073\r\n",
      "resizing data, order is 1\r\n",
      "data shape (2, 50, 510, 510)\r\n",
      "2024-05-22 19:47:38.805678: predicting covid19_0214\r\n",
      "resizing data, order is 1\r\n",
      "data shape (2, 68, 586, 586)\r\n",
      "2024-05-22 19:48:12.204177: predicting covid19_0092\r\n",
      "resizing data, order is 1\r\n",
      "data shape (2, 68, 512, 512)\r\n",
      "2024-05-22 19:48:54.923053: predicting covid19_0228\r\n",
      "resizing data, order is 1\r\n",
      "data shape (2, 59, 511, 511)\r\n",
      "2024-05-22 19:49:09.692024: predicting covid19_0112\r\n",
      "resizing data, order is 1\r\n",
      "data shape (2, 53, 511, 511)\r\n",
      "2024-05-22 19:49:26.697342: predicting covid19_0133\r\n",
      "resizing data, order is 1\r\n",
      "data shape (2, 30, 314, 314)\r\n",
      "2024-05-22 19:50:11.155051: predicting covid19_0236\r\n",
      "resizing data, order is 1\r\n",
      "data shape (2, 69, 511, 511)\r\n",
      "2024-05-22 19:50:43.141046: predicting covid19_0151\r\n",
      "resizing data, order is 1\r\n",
      "data shape (2, 58, 470, 470)\r\n",
      "2024-05-22 19:51:08.082023: predicting covid19_0237\r\n",
      "resizing data, order is 1\r\n",
      "data shape (2, 49, 510, 510)\r\n",
      "2024-05-22 19:52:24.140881: predicting covid19_0239\r\n",
      "resizing data, order is 1\r\n",
      "data shape (2, 66, 510, 510)\r\n",
      "2024-05-22 19:52:58.536054: predicting covid19_0165\r\n",
      "resizing data, order is 1\r\n",
      "data shape (2, 57, 604, 604)\r\n",
      "2024-05-22 19:53:40.304596: predicting covid19_0252\r\n",
      "resizing data, order is 1\r\n",
      "data shape (2, 67, 511, 511)\r\n",
      "2024-05-22 19:55:48.081497: predicting covid19_0167\r\n",
      "resizing data, order is 1\r\n",
      "data shape (2, 71, 549, 549)\r\n",
      "2024-05-22 19:57:04.572820: predicting covid19_0178\r\n",
      "resizing data, order is 1\r\n",
      "data shape (2, 65, 509, 509)\r\n",
      "2024-05-22 19:57:10.906170: predicting covid19_0288\r\n",
      "resizing data, order is 1\r\n",
      "data shape (2, 63, 659, 659)\r\n",
      "2024-05-22 19:58:21.064654: predicting covid19_0201\r\n",
      "resizing data, order is 1\r\n",
      "data shape (2, 60, 511, 511)\r\n",
      "2024-05-22 20:00:36.643163: predicting covid19_0215\r\n",
      "resizing data, order is 1\r\n",
      "data shape (2, 58, 602, 602)\r\n",
      "2024-05-22 20:00:41.215065: predicting covid19_0299\r\n",
      "resizing data, order is 1\r\n",
      "data shape (2, 66, 641, 641)\r\n",
      "2024-05-22 20:01:53.241657: predicting covid19_0270\r\n",
      "resizing data, order is 1\r\n",
      "data shape (2, 63, 510, 510)\r\n",
      "2024-05-22 20:01:57.347087: predicting covid19_0316\r\n",
      "resizing data, order is 1\r\n",
      "data shape (2, 57, 511, 511)\r\n",
      "2024-05-22 20:04:08.984699: predicting covid19_0282\r\n",
      "resizing data, order is 1\r\n",
      "data shape (2, 63, 597, 597)\r\n",
      "2024-05-22 20:04:12.411023: predicting covid19_0332\r\n",
      "resizing data, order is 1\r\n",
      "data shape (2, 65, 552, 552)\r\n",
      "2024-05-22 20:05:28.543634: predicting covid19_0347\r\n",
      "resizing data, order is 1\r\n",
      "data shape (2, 67, 510, 510)\r\n",
      "2024-05-22 20:06:24.736901: predicting covid19_0315\r\n",
      "resizing data, order is 1\r\n",
      "data shape (2, 69, 588, 588)\r\n",
      "2024-05-22 20:07:43.434204: predicting covid19_0361\r\n",
      "resizing data, order is 1\r\n",
      "data shape (2, 68, 599, 599)\r\n",
      "2024-05-22 20:08:59.563098: predicting covid19_0366\r\n",
      "resizing data, order is 1\r\n",
      "data shape (2, 67, 511, 511)\r\n",
      "2024-05-22 20:09:14.130076: predicting covid19_0355\r\n",
      "resizing data, order is 1\r\n",
      "data shape (2, 71, 552, 552)\r\n",
      "2024-05-22 20:10:34.480274: predicting covid19_0383\r\n",
      "resizing data, order is 1\r\n",
      "data shape (2, 72, 510, 510)\r\n",
      "2024-05-22 20:11:29.801999: predicting covid19_0380\r\n",
      "resizing data, order is 1\r\n",
      "data shape (2, 66, 562, 562)\r\n",
      "2024-05-22 20:12:15.828722: predicting covid19_0414\r\n",
      "resizing data, order is 1\r\n",
      "data shape (2, 54, 583, 583)\r\n",
      "2024-05-22 20:13:45.475800: predicting covid19_0394\r\n",
      "resizing data, order is 1\r\n",
      "data shape (2, 60, 594, 594)\r\n",
      "2024-05-22 20:15:38.346663: predicting covid19_0443\r\n",
      "resizing data, order is 1\r\n",
      "data shape (2, 94, 531, 531)\r\n",
      "2024-05-22 20:16:01.219717: predicting covid19_0421\r\n",
      "resizing data, order is 1\r\n",
      "data shape (2, 60, 532, 532)\r\n",
      "2024-05-22 20:16:54.449139: predicting covid19_0463\r\n",
      "resizing data, order is 1\r\n",
      "data shape (2, 68, 511, 511)\r\n",
      "2024-05-22 20:18:10.441685: predicting covid19_0472\r\n",
      "resizing data, order is 1\r\n",
      "data shape (2, 62, 470, 470)\r\n",
      "2024-05-22 20:18:16.807455: predicting covid19_0422\r\n",
      "resizing data, order is 1\r\n",
      "data shape (2, 58, 573, 573)\r\n",
      "2024-05-22 20:20:25.539319: predicting covid19_0483\r\n",
      "resizing data, order is 1\r\n",
      "data shape (2, 63, 549, 549)\r\n",
      "2024-05-22 20:20:32.578346: predicting covid19_0445\r\n",
      "resizing data, order is 1\r\n",
      "data shape (2, 61, 565, 565)\r\n",
      "2024-05-22 20:21:29.789072: predicting covid19_0473\r\n",
      "resizing data, order is 1\r\n",
      "data shape (2, 45, 511, 511)\r\n",
      "2024-05-22 20:22:46.321776: predicting covid19_0476\r\n",
      "resizing data, order is 1\r\n",
      "data shape (2, 59, 471, 471)\r\n",
      "2024-05-22 20:23:14.453729: predicting covid19_0521\r\n",
      "resizing data, order is 1\r\n",
      "data shape (2, 73, 588, 588)\r\n",
      "2024-05-22 20:25:02.265259: predicting covid19_0498\r\n",
      "resizing data, order is 1\r\n",
      "data shape (2, 62, 539, 539)\r\n",
      "2024-05-22 20:25:29.364080: predicting covid19_0526\r\n",
      "resizing data, order is 1\r\n",
      "data shape (2, 58, 552, 552)\r\n",
      "2024-05-22 20:25:40.749167: predicting covid19_0502\r\n",
      "resizing data, order is 1\r\n",
      "data shape (2, 41, 511, 511)\r\n",
      "2024-05-22 20:28:17.493335: predicting covid19_0534\r\n",
      "resizing data, order is 1\r\n",
      "data shape (2, 73, 552, 552)\r\n",
      "2024-05-22 20:28:30.299515: predicting covid19_0511\r\n",
      "resizing data, order is 1\r\n",
      "data shape (2, 72, 594, 594)\r\n",
      "2024-05-22 20:29:08.492049: predicting covid19_0530\r\n",
      "resizing data, order is 1\r\n",
      "data shape (2, 39, 404, 404)\r\n",
      "2024-05-22 20:30:32.228645: predicting covid19_0562\r\n",
      "resizing data, order is 1\r\n",
      "data shape (2, 65, 588, 588)\r\n",
      "2024-05-22 20:30:49.139761: predicting covid19_0579\r\n",
      "resizing data, order is 1\r\n",
      "data shape (2, 42, 367, 367)\r\n",
      "2024-05-22 20:31:24.178531: predicting covid19_0537\r\n",
      "resizing data, order is 1\r\n",
      "data shape (2, 58, 533, 533)\r\n",
      "2024-05-22 20:32:05.053173: predicting covid19_0600\r\n",
      "resizing data, order is 1\r\n",
      "data shape (2, 61, 509, 509)\r\n",
      "2024-05-22 20:32:40.550303: predicting covid19_0560\r\n",
      "resizing data, order is 1\r\n",
      "data shape (2, 58, 511, 511)\r\n",
      "2024-05-22 20:34:20.002311: predicting covid19_0612\r\n",
      "resizing data, order is 1\r\n",
      "data shape (2, 59, 583, 583)\r\n",
      "2024-05-22 20:34:56.030199: predicting covid19_0576\r\n",
      "resizing data, order is 1\r\n",
      "data shape (2, 57, 581, 581)\r\n",
      "2024-05-22 20:35:35.870845: predicting covid19_0614\r\n",
      "resizing data, order is 1\r\n",
      "data shape (2, 67, 485, 485)\r\n",
      "2024-05-22 20:36:32.887292: predicting covid19_0629\r\n",
      "resizing data, order is 1\r\n",
      "data shape (2, 55, 498, 498)\r\n",
      "2024-05-22 20:37:11.733408: predicting covid19_0585\r\n",
      "resizing data, order is 1\r\n",
      "data shape (2, 64, 546, 546)\r\n",
      "2024-05-22 20:37:28.995041: predicting covid19_0590\r\n",
      "resizing data, order is 1\r\n",
      "data shape (2, 32, 295, 295)\r\n",
      "2024-05-22 20:37:48.854971: predicting covid19_0636\r\n",
      "resizing data, order is 1\r\n",
      "data shape (2, 62, 510, 510)\r\n",
      "2024-05-22 20:39:04.707718: predicting covid19_0657\r\n",
      "resizing data, order is 1\r\n",
      "data shape (2, 57, 511, 511)\r\n",
      "2024-05-22 20:40:20.759968: predicting covid19_0666\r\n",
      "resizing data, order is 1\r\n",
      "data shape (2, 66, 510, 510)\r\n",
      "2024-05-22 20:41:53.421396: predicting covid19_0604\r\n",
      "resizing data, order is 1\r\n",
      "data shape (2, 73, 668, 668)\r\n",
      "2024-05-22 20:43:09.505420: predicting covid19_0678\r\n",
      "resizing data, order is 1\r\n",
      "data shape (2, 73, 533, 533)\r\n",
      "2024-05-22 20:43:10.078212: predicting covid19_0643\r\n",
      "resizing data, order is 1\r\n",
      "data shape (2, 67, 471, 471)\r\n",
      "2024-05-22 20:45:24.621449: predicting covid19_0685\r\n",
      "resizing data, order is 1\r\n",
      "data shape (2, 64, 565, 565)\r\n",
      "2024-05-22 20:47:34.649395: predicting covid19_0648\r\n",
      "resizing data, order is 1\r\n",
      "data shape (2, 71, 765, 765)\r\n",
      "2024-05-22 20:48:51.215700: predicting covid19_0652\r\n",
      "resizing data, order is 1\r\n",
      "data shape (2, 64, 510, 510)\r\n",
      "2024-05-22 20:49:16.808248: predicting covid19_0660\r\n",
      "resizing data, order is 1\r\n",
      "data shape (2, 49, 313, 313)\r\n",
      "2024-05-22 20:49:33.905678: predicting covid19_0686\r\n",
      "resizing data, order is 1\r\n",
      "data shape (2, 36, 326, 326)\r\n",
      "2024-05-22 20:49:48.259672: predicting covid19_0696\r\n",
      "resizing data, order is 1\r\n",
      "data shape (2, 72, 646, 646)\r\n",
      "resizing data, order is 1\r\n",
      "data shape (2, 58, 500, 500)\r\n",
      "2024-05-22 20:51:15.848828: Validation complete\r\n",
      "2024-05-22 20:51:15.849020: Mean Validation Dice:  0.6934940326258092\r\n"
     ]
    }
   ],
   "source": [
    "from pathlib import Path\n",
    "if not load_checkpoint:\n",
    "    ### first training (no checkpoint) ###\n",
    "    !CUDA_VISIBLE_DEVICES=0 nnUNetv2_train {dataset_id} 3d_fullres 0 -tr {trainer} --npz & \\\n",
    "    CUDA_VISIBLE_DEVICES=1 nnUNetv2_train {dataset_id} 3d_fullres 1 -tr {trainer} --npz\n",
    "else:\n",
    "    ### load checkpoint, continue train\n",
    "    current_trainer_folder = f\"{nnUNet_results}{dataset_name}/{trainer}__nnUNetPlans__3d_fullres/\"\n",
    "\n",
    "    !mkdir -p {current_trainer_folder}/fold_0\n",
    "    !mkdir -p {current_trainer_folder}/fold_1\n",
    "\n",
    "    !cp {prev_checkpoint_f0} {current_trainer_folder}/fold_0/checkpoint_best.pth\n",
    "    !cp {prev_checkpoint_f1} {current_trainer_folder}/fold_1/checkpoint_best.pth\n",
    "    \n",
    "    # check the checkpoint can be successful loaded\n",
    "    f0 = [i.name for i in Path(current_trainer_folder+\"fold_0\").glob(\"*.pth\")]\n",
    "    f1 = [i.name for i in Path(current_trainer_folder+\"fold_1\").glob(\"*.pth\")]\n",
    "    print(\"Load Checkpoint fold 0\",f0)\n",
    "    print(\"Load Checkpoint fold 1\",f1)\n",
    "    if len(f0) <1 or len(f1) <1:\n",
    "        raise ValueError(\"Load Checkpoint Failed\")\n",
    "    \n",
    "    !CUDA_VISIBLE_DEVICES=0 nnUNetv2_train {dataset_id} 3d_fullres 0 -tr {trainer} --c --npz & \\\n",
    "    CUDA_VISIBLE_DEVICES=1 nnUNetv2_train {dataset_id} 3d_fullres 1 -tr {trainer} --c  --npz"
   ]
  },
  {
   "cell_type": "markdown",
   "id": "d04dd6f1",
   "metadata": {
    "papermill": {
     "duration": 0.060629,
     "end_time": "2024-05-22T20:51:24.759305",
     "exception": false,
     "start_time": "2024-05-22T20:51:24.698676",
     "status": "completed"
    },
    "tags": []
   },
   "source": [
    "### find best fold"
   ]
  },
  {
   "cell_type": "code",
   "execution_count": 10,
   "id": "b0467212",
   "metadata": {
    "execution": {
     "iopub.execute_input": "2024-05-22T20:51:24.874010Z",
     "iopub.status.busy": "2024-05-22T20:51:24.873184Z",
     "iopub.status.idle": "2024-05-22T20:52:29.252082Z",
     "shell.execute_reply": "2024-05-22T20:52:29.250840Z"
    },
    "papermill": {
     "duration": 64.439866,
     "end_time": "2024-05-22T20:52:29.254611",
     "exception": false,
     "start_time": "2024-05-22T20:51:24.814745",
     "status": "completed"
    },
    "tags": []
   },
   "outputs": [
    {
     "name": "stdout",
     "output_type": "stream",
     "text": [
      "\r\n",
      "***All results:***\r\n",
      "nnUNetTrainerWMambaBot__nnUNetPlans__3d_fullres: 0.7054335786617355\r\n",
      "\r\n",
      "*Best*: nnUNetTrainerWMambaBot__nnUNetPlans__3d_fullres: 0.7054335786617355\r\n",
      "\r\n",
      "***Determining postprocessing for best model/ensemble***\r\n",
      "WARNING: Not all files in folder_ref were found in folder_predictions. Determining postprocessing should always be done on the entire dataset!\r\n",
      "Removing all but the largest foreground region did not improve results!\r\n",
      "\r\n",
      "***Run inference like this:***\r\n",
      "\r\n",
      "nnUNetv2_predict -d Dataset110_CTImage -i INPUT_FOLDER -o OUTPUT_FOLDER -f  0 1 -tr nnUNetTrainerWMambaBot -c 3d_fullres -p nnUNetPlans\r\n",
      "\r\n",
      "***Once inference is completed, run postprocessing like this:***\r\n",
      "\r\n",
      "nnUNetv2_apply_postprocessing -i OUTPUT_FOLDER -o OUTPUT_FOLDER_PP -pp_pkl_file /kaggle/working/Dataset110_CTImage/nnUNetTrainerWMambaBot__nnUNetPlans__3d_fullres/crossval_results_folds_0_1/postprocessing.pkl -np 8 -plans_json /kaggle/working/Dataset110_CTImage/nnUNetTrainerWMambaBot__nnUNetPlans__3d_fullres/crossval_results_folds_0_1/plans.json\r\n"
     ]
    }
   ],
   "source": [
    "!nnUNetv2_find_best_configuration {dataset_id} -c 3d_fullres -tr {trainer} -f 0 1"
   ]
  },
  {
   "cell_type": "markdown",
   "id": "311144b2",
   "metadata": {
    "papermill": {
     "duration": 0.052978,
     "end_time": "2024-05-22T20:52:29.361830",
     "exception": false,
     "start_time": "2024-05-22T20:52:29.308852",
     "status": "completed"
    },
    "tags": []
   },
   "source": [
    "### predict "
   ]
  },
  {
   "cell_type": "code",
   "execution_count": 11,
   "id": "c6bd7036",
   "metadata": {
    "execution": {
     "iopub.execute_input": "2024-05-22T20:52:29.469322Z",
     "iopub.status.busy": "2024-05-22T20:52:29.468908Z",
     "iopub.status.idle": "2024-05-22T23:32:58.811749Z",
     "shell.execute_reply": "2024-05-22T23:32:58.810590Z"
    },
    "papermill": {
     "duration": 9629.399579,
     "end_time": "2024-05-22T23:32:58.814308",
     "exception": false,
     "start_time": "2024-05-22T20:52:29.414729",
     "status": "completed"
    },
    "tags": []
   },
   "outputs": [
    {
     "name": "stdout",
     "output_type": "stream",
     "text": [
      "2024-05-22 20:53:30.503054: E external/local_xla/xla/stream_executor/cuda/cuda_dnn.cc:9261] Unable to register cuDNN factory: Attempting to register factory for plugin cuDNN when one has already been registered\r\n",
      "2024-05-22 20:53:30.503201: E external/local_xla/xla/stream_executor/cuda/cuda_fft.cc:607] Unable to register cuFFT factory: Attempting to register factory for plugin cuFFT when one has already been registered\r\n",
      "2024-05-22 20:53:30.695074: E external/local_xla/xla/stream_executor/cuda/cuda_blas.cc:1515] Unable to register cuBLAS factory: Attempting to register factory for plugin cuBLAS when one has already been registered\r\n",
      "/kaggle/working/WMamba/U-Mamba/umamba/nnunetv2/waveletLayer.py:30: UserWarning: The wavelet_level is zero, auto set one to avoid error\r\n",
      "  warnings.warn(\"The wavelet_level is zero, auto set one to avoid error\")\r\n",
      "100%|█████████████████████████████████████████████| 1/1 [00:03<00:00,  3.00s/it]\r\n",
      "100%|█████████████████████████████████████████████| 1/1 [00:01<00:00,  1.93s/it]\r\n",
      "100%|███████████████████████████████████████████| 48/48 [01:42<00:00,  2.14s/it]\r\n",
      "100%|███████████████████████████████████████████| 48/48 [01:43<00:00,  2.15s/it]\r\n",
      "100%|███████████████████████████████████████████| 64/64 [02:17<00:00,  2.15s/it]\r\n",
      "100%|███████████████████████████████████████████| 64/64 [02:17<00:00,  2.15s/it]\r\n",
      "100%|███████████████████████████████████████████| 48/48 [01:43<00:00,  2.15s/it]\r\n",
      "100%|███████████████████████████████████████████| 48/48 [01:43<00:00,  2.16s/it]\r\n",
      "100%|███████████████████████████████████████████| 36/36 [01:17<00:00,  2.15s/it]\r\n",
      "100%|███████████████████████████████████████████| 36/36 [01:17<00:00,  2.15s/it]\r\n",
      "100%|███████████████████████████████████████████| 64/64 [02:17<00:00,  2.15s/it]\r\n",
      "100%|███████████████████████████████████████████| 64/64 [02:17<00:00,  2.15s/it]\r\n",
      "100%|███████████████████████████████████████████| 27/27 [00:58<00:00,  2.15s/it]\r\n",
      "100%|███████████████████████████████████████████| 27/27 [00:58<00:00,  2.15s/it]\r\n",
      "100%|███████████████████████████████████████████| 64/64 [02:17<00:00,  2.15s/it]\r\n",
      "100%|███████████████████████████████████████████| 64/64 [02:17<00:00,  2.15s/it]\r\n",
      "100%|█████████████████████████████████████████████| 4/4 [00:08<00:00,  2.14s/it]\r\n",
      "100%|█████████████████████████████████████████████| 4/4 [00:08<00:00,  2.13s/it]\r\n",
      "100%|███████████████████████████████████████████| 27/27 [00:58<00:00,  2.16s/it]\r\n",
      "100%|███████████████████████████████████████████| 27/27 [00:58<00:00,  2.16s/it]\r\n",
      "100%|███████████████████████████████████████████| 64/64 [02:17<00:00,  2.15s/it]\r\n",
      "100%|███████████████████████████████████████████| 64/64 [02:17<00:00,  2.16s/it]\r\n",
      "100%|███████████████████████████████████████████| 64/64 [02:17<00:00,  2.15s/it]\r\n",
      "100%|███████████████████████████████████████████| 64/64 [02:17<00:00,  2.15s/it]\r\n",
      "100%|███████████████████████████████████████████| 36/36 [01:17<00:00,  2.15s/it]\r\n",
      "100%|███████████████████████████████████████████| 36/36 [01:17<00:00,  2.16s/it]\r\n",
      "100%|███████████████████████████████████████████| 64/64 [02:17<00:00,  2.15s/it]\r\n",
      "100%|███████████████████████████████████████████| 64/64 [02:17<00:00,  2.15s/it]\r\n",
      "100%|███████████████████████████████████████████| 27/27 [00:58<00:00,  2.16s/it]\r\n",
      "100%|███████████████████████████████████████████| 27/27 [00:58<00:00,  2.16s/it]\r\n",
      "100%|███████████████████████████████████████████| 45/45 [01:37<00:00,  2.16s/it]\r\n",
      "100%|███████████████████████████████████████████| 45/45 [01:36<00:00,  2.15s/it]\r\n",
      "100%|███████████████████████████████████████████| 64/64 [02:17<00:00,  2.15s/it]\r\n",
      "100%|███████████████████████████████████████████| 64/64 [02:17<00:00,  2.15s/it]\r\n",
      "100%|███████████████████████████████████████████| 64/64 [02:17<00:00,  2.15s/it]\r\n",
      "100%|███████████████████████████████████████████| 64/64 [02:17<00:00,  2.16s/it]\r\n",
      "100%|█████████████████████████████████████████████| 8/8 [00:17<00:00,  2.16s/it]\r\n",
      "100%|█████████████████████████████████████████████| 8/8 [00:17<00:00,  2.15s/it]\r\n",
      "100%|███████████████████████████████████████████| 27/27 [00:58<00:00,  2.15s/it]\r\n",
      "100%|███████████████████████████████████████████| 27/27 [00:57<00:00,  2.15s/it]\r\n",
      "100%|███████████████████████████████████████████| 64/64 [02:17<00:00,  2.15s/it]\r\n",
      "100%|███████████████████████████████████████████| 64/64 [02:17<00:00,  2.15s/it]\r\n",
      "100%|███████████████████████████████████████████| 64/64 [02:17<00:00,  2.15s/it]\r\n",
      "100%|███████████████████████████████████████████| 64/64 [02:17<00:00,  2.15s/it]\r\n",
      "100%|███████████████████████████████████████████| 36/36 [01:17<00:00,  2.15s/it]\r\n",
      "100%|███████████████████████████████████████████| 36/36 [01:17<00:00,  2.15s/it]\r\n",
      "100%|███████████████████████████████████████████| 64/64 [02:17<00:00,  2.15s/it]\r\n",
      "100%|███████████████████████████████████████████| 64/64 [02:17<00:00,  2.15s/it]\r\n",
      "100%|███████████████████████████████████████████| 27/27 [00:58<00:00,  2.15s/it]\r\n",
      "100%|███████████████████████████████████████████| 27/27 [00:58<00:00,  2.15s/it]\r\n",
      "100%|█████████████████████████████████████████| 100/100 [03:35<00:00,  2.15s/it]\r\n",
      "100%|█████████████████████████████████████████| 100/100 [03:35<00:00,  2.15s/it]\r\n",
      "100%|███████████████████████████████████████████| 36/36 [01:17<00:00,  2.16s/it]\r\n",
      "100%|███████████████████████████████████████████| 36/36 [01:17<00:00,  2.16s/it]\r\n",
      "100%|███████████████████████████████████████████| 36/36 [01:17<00:00,  2.15s/it]\r\n",
      "100%|███████████████████████████████████████████| 36/36 [01:17<00:00,  2.15s/it]\r\n",
      "100%|███████████████████████████████████████████| 64/64 [02:17<00:00,  2.16s/it]\r\n",
      "100%|███████████████████████████████████████████| 64/64 [02:18<00:00,  2.16s/it]\r\n",
      "100%|█████████████████████████████████████████| 100/100 [03:35<00:00,  2.15s/it]\r\n",
      "100%|█████████████████████████████████████████| 100/100 [03:35<00:00,  2.16s/it]\r\n",
      "100%|███████████████████████████████████████████| 80/80 [02:52<00:00,  2.15s/it]\r\n",
      "100%|███████████████████████████████████████████| 80/80 [02:52<00:00,  2.15s/it]\r\n",
      "100%|███████████████████████████████████████████| 27/27 [00:57<00:00,  2.14s/it]\r\n",
      "100%|███████████████████████████████████████████| 27/27 [00:57<00:00,  2.14s/it]\r\n",
      "100%|███████████████████████████████████████████| 36/36 [01:17<00:00,  2.15s/it]\r\n",
      "100%|███████████████████████████████████████████| 36/36 [01:17<00:00,  2.15s/it]\r\n",
      "100%|█████████████████████████████████████████████| 8/8 [00:17<00:00,  2.15s/it]\r\n",
      "100%|█████████████████████████████████████████████| 8/8 [00:17<00:00,  2.15s/it]\r\n",
      "100%|███████████████████████████████████████████| 36/36 [01:17<00:00,  2.15s/it]\r\n",
      "100%|███████████████████████████████████████████| 36/36 [01:17<00:00,  2.15s/it]\r\n",
      "100%|███████████████████████████████████████████| 36/36 [01:17<00:00,  2.15s/it]\r\n",
      "100%|███████████████████████████████████████████| 36/36 [01:17<00:00,  2.15s/it]\r\n",
      "100%|███████████████████████████████████████████| 64/64 [02:17<00:00,  2.15s/it]\r\n",
      "100%|███████████████████████████████████████████| 64/64 [02:17<00:00,  2.15s/it]\r\n",
      "100%|███████████████████████████████████████████| 18/18 [00:38<00:00,  2.14s/it]\r\n",
      "100%|███████████████████████████████████████████| 18/18 [00:38<00:00,  2.14s/it]\r\n",
      "100%|███████████████████████████████████████████| 27/27 [00:58<00:00,  2.15s/it]\r\n",
      "100%|███████████████████████████████████████████| 27/27 [00:58<00:00,  2.15s/it]\r\n",
      "100%|█████████████████████████████████████████████| 8/8 [00:17<00:00,  2.15s/it]\r\n",
      "100%|█████████████████████████████████████████████| 8/8 [00:17<00:00,  2.15s/it]\r\n",
      "100%|███████████████████████████████████████████| 27/27 [00:58<00:00,  2.16s/it]\r\n",
      "100%|███████████████████████████████████████████| 27/27 [00:58<00:00,  2.16s/it]\r\n",
      "100%|███████████████████████████████████████████| 80/80 [02:52<00:00,  2.15s/it]\r\n",
      "100%|███████████████████████████████████████████| 80/80 [02:52<00:00,  2.15s/it]\r\n",
      "100%|███████████████████████████████████████████| 27/27 [00:58<00:00,  2.15s/it]\r\n",
      "100%|███████████████████████████████████████████| 27/27 [00:58<00:00,  2.16s/it]\r\n",
      "100%|███████████████████████████████████████████| 64/64 [02:18<00:00,  2.16s/it]\r\n",
      "100%|███████████████████████████████████████████| 64/64 [02:18<00:00,  2.16s/it]\r\n",
      "100%|███████████████████████████████████████████| 45/45 [01:36<00:00,  2.15s/it]\r\n",
      "100%|███████████████████████████████████████████| 45/45 [01:36<00:00,  2.15s/it]\r\n",
      "100%|███████████████████████████████████████████| 36/36 [01:17<00:00,  2.15s/it]\r\n",
      "100%|███████████████████████████████████████████| 36/36 [01:17<00:00,  2.15s/it]\r\n",
      "100%|███████████████████████████████████████████| 36/36 [01:17<00:00,  2.15s/it]\r\n",
      "100%|███████████████████████████████████████████| 36/36 [01:17<00:00,  2.15s/it]\r\n",
      "100%|███████████████████████████████████████████| 48/48 [01:43<00:00,  2.15s/it]\r\n",
      "100%|███████████████████████████████████████████| 48/48 [01:43<00:00,  2.16s/it]\r\n",
      "100%|███████████████████████████████████████████| 36/36 [01:17<00:00,  2.15s/it]\r\n",
      "100%|███████████████████████████████████████████| 36/36 [01:17<00:00,  2.16s/it]\r\n",
      "100%|███████████████████████████████████████████| 27/27 [00:58<00:00,  2.15s/it]\r\n",
      "100%|███████████████████████████████████████████| 27/27 [00:58<00:00,  2.16s/it]\r\n"
     ]
    }
   ],
   "source": [
    "!nnUNetv2_predict -i \"{nnUNet_raw}{dataset_name}/imagesTs\"\\\n",
    "-o \"{nnUNet_results}{dataset_name}/predTs\" \\\n",
    "-d {dataset_id} -c 3d_fullres -tr {trainer} -f 0 1 > /dev/null"
   ]
  },
  {
   "cell_type": "code",
   "execution_count": 12,
   "id": "2b295360",
   "metadata": {
    "execution": {
     "iopub.execute_input": "2024-05-22T23:32:59.715642Z",
     "iopub.status.busy": "2024-05-22T23:32:59.714407Z",
     "iopub.status.idle": "2024-05-22T23:33:01.889140Z",
     "shell.execute_reply": "2024-05-22T23:33:01.887930Z"
    },
    "papermill": {
     "duration": 2.593206,
     "end_time": "2024-05-22T23:33:01.891442",
     "exception": false,
     "start_time": "2024-05-22T23:32:59.298236",
     "status": "completed"
    },
    "tags": []
   },
   "outputs": [
    {
     "name": "stdout",
     "output_type": "stream",
     "text": [
      "[01/50] Convert file from /kaggle/working/Dataset110_CTImage/predTs/covid19_0369.nii.gz to /kaggle/working//predTs_rename/369_1.nii.gz\r\n",
      "[02/50] Convert file from /kaggle/working/Dataset110_CTImage/predTs/covid19_0259.nii.gz to /kaggle/working//predTs_rename/259.nii.gz\r\n",
      "[03/50] Convert file from /kaggle/working/Dataset110_CTImage/predTs/covid19_0631.nii.gz to /kaggle/working//predTs_rename/631.nii.gz\r\n",
      "[04/50] Convert file from /kaggle/working/Dataset110_CTImage/predTs/covid19_0523.nii.gz to /kaggle/working//predTs_rename/523.nii.gz\r\n",
      "[05/50] Convert file from /kaggle/working/Dataset110_CTImage/predTs/covid19_0538.nii.gz to /kaggle/working//predTs_rename/538.nii.gz\r\n",
      "[06/50] Convert file from /kaggle/working/Dataset110_CTImage/predTs/covid19_0451.nii.gz to /kaggle/working//predTs_rename/451.nii.gz\r\n",
      "[07/50] Convert file from /kaggle/working/Dataset110_CTImage/predTs/covid19_0297.nii.gz to /kaggle/working//predTs_rename/297.nii.gz\r\n",
      "[08/50] Convert file from /kaggle/working/Dataset110_CTImage/predTs/covid19_0257.nii.gz to /kaggle/working//predTs_rename/257.nii.gz\r\n",
      "[09/50] Convert file from /kaggle/working/Dataset110_CTImage/predTs/covid19_0294.nii.gz to /kaggle/working//predTs_rename/294.nii.gz\r\n",
      "[10/50] Convert file from /kaggle/working/Dataset110_CTImage/predTs/covid19_0143.nii.gz to /kaggle/working//predTs_rename/143.nii.gz\r\n",
      "[11/50] Convert file from /kaggle/working/Dataset110_CTImage/predTs/covid19_0302.nii.gz to /kaggle/working//predTs_rename/302.nii.gz\r\n",
      "[12/50] Convert file from /kaggle/working/Dataset110_CTImage/predTs/covid19_0513.nii.gz to /kaggle/working//predTs_rename/513.nii.gz\r\n",
      "[13/50] Convert file from /kaggle/working/Dataset110_CTImage/predTs/covid19_0108.nii.gz to /kaggle/working//predTs_rename/108.nii.gz\r\n",
      "[14/50] Convert file from /kaggle/working/Dataset110_CTImage/predTs/covid19_0441.nii.gz to /kaggle/working//predTs_rename/441.nii.gz\r\n",
      "[15/50] Convert file from /kaggle/working/Dataset110_CTImage/predTs/covid19_0543.nii.gz to /kaggle/working//predTs_rename/543.nii.gz\r\n",
      "[16/50] Convert file from /kaggle/working/Dataset110_CTImage/predTs/covid19_0089.nii.gz to /kaggle/working//predTs_rename/089.nii.gz\r\n",
      "[17/50] Convert file from /kaggle/working/Dataset110_CTImage/predTs/covid19_0033.nii.gz to /kaggle/working//predTs_rename/033.nii.gz\r\n",
      "[18/50] Convert file from /kaggle/working/Dataset110_CTImage/predTs/covid19_0091.nii.gz to /kaggle/working//predTs_rename/091.nii.gz\r\n",
      "[19/50] Convert file from /kaggle/working/Dataset110_CTImage/predTs/covid19_0490.nii.gz to /kaggle/working//predTs_rename/490.nii.gz\r\n",
      "[20/50] Convert file from /kaggle/working/Dataset110_CTImage/predTs/covid19_0673.nii.gz to /kaggle/working//predTs_rename/673.nii.gz\r\n",
      "[21/50] Convert file from /kaggle/working/Dataset110_CTImage/predTs/covid19_0026.nii.gz to /kaggle/working//predTs_rename/026.nii.gz\r\n",
      "[22/50] Convert file from /kaggle/working/Dataset110_CTImage/predTs/covid19_0082.nii.gz to /kaggle/working//predTs_rename/082.nii.gz\r\n",
      "[23/50] Convert file from /kaggle/working/Dataset110_CTImage/predTs/covid19_0330.nii.gz to /kaggle/working//predTs_rename/330.nii.gz\r\n",
      "[24/50] Convert file from /kaggle/working/Dataset110_CTImage/predTs/covid19_0509.nii.gz to /kaggle/working//predTs_rename/509.nii.gz\r\n",
      "[25/50] Convert file from /kaggle/working/Dataset110_CTImage/predTs/covid19_0620.nii.gz to /kaggle/working//predTs_rename/620.nii.gz\r\n",
      "[26/50] Convert file from /kaggle/working/Dataset110_CTImage/predTs/covid19_0318.nii.gz to /kaggle/working//predTs_rename/318_0.nii.gz\r\n",
      "[27/50] Convert file from /kaggle/working/Dataset110_CTImage/predTs/covid19_0345.nii.gz to /kaggle/working//predTs_rename/345.nii.gz\r\n",
      "[28/50] Convert file from /kaggle/working/Dataset110_CTImage/predTs/covid19_0420.nii.gz to /kaggle/working//predTs_rename/420.nii.gz\r\n",
      "[29/50] Convert file from /kaggle/working/Dataset110_CTImage/predTs/covid19_0457.nii.gz to /kaggle/working//predTs_rename/457.nii.gz\r\n",
      "[30/50] Convert file from /kaggle/working/Dataset110_CTImage/predTs/covid19_0004.nii.gz to /kaggle/working//predTs_rename/004.nii.gz\r\n",
      "[31/50] Convert file from /kaggle/working/Dataset110_CTImage/predTs/covid19_0584.nii.gz to /kaggle/working//predTs_rename/584.nii.gz\r\n",
      "[32/50] Convert file from /kaggle/working/Dataset110_CTImage/predTs/covid19_0654.nii.gz to /kaggle/working//predTs_rename/654.nii.gz\r\n",
      "[33/50] Convert file from /kaggle/working/Dataset110_CTImage/predTs/covid19_0180.nii.gz to /kaggle/working//predTs_rename/180_0.nii.gz\r\n",
      "[34/50] Convert file from /kaggle/working/Dataset110_CTImage/predTs/covid19_0229.nii.gz to /kaggle/working//predTs_rename/229.nii.gz\r\n",
      "[35/50] Convert file from /kaggle/working/Dataset110_CTImage/predTs/covid19_0408.nii.gz to /kaggle/working//predTs_rename/408.nii.gz\r\n",
      "[36/50] Convert file from /kaggle/working/Dataset110_CTImage/predTs/covid19_0287.nii.gz to /kaggle/working//predTs_rename/287_0.nii.gz\r\n",
      "[37/50] Convert file from /kaggle/working/Dataset110_CTImage/predTs/covid19_0268.nii.gz to /kaggle/working//predTs_rename/268.nii.gz\r\n",
      "[38/50] Convert file from /kaggle/working/Dataset110_CTImage/predTs/covid19_0489.nii.gz to /kaggle/working//predTs_rename/489.nii.gz\r\n",
      "[39/50] Convert file from /kaggle/working/Dataset110_CTImage/predTs/covid19_0170.nii.gz to /kaggle/working//predTs_rename/170.nii.gz\r\n",
      "[40/50] Convert file from /kaggle/working/Dataset110_CTImage/predTs/covid19_0697.nii.gz to /kaggle/working//predTs_rename/697.nii.gz\r\n",
      "[41/50] Convert file from /kaggle/working/Dataset110_CTImage/predTs/covid19_0218.nii.gz to /kaggle/working//predTs_rename/218.nii.gz\r\n",
      "[42/50] Convert file from /kaggle/working/Dataset110_CTImage/predTs/covid19_0676.nii.gz to /kaggle/working//predTs_rename/676.nii.gz\r\n",
      "[43/50] Convert file from /kaggle/working/Dataset110_CTImage/predTs/covid19_0156.nii.gz to /kaggle/working//predTs_rename/156.nii.gz\r\n",
      "[44/50] Convert file from /kaggle/working/Dataset110_CTImage/predTs/covid19_0343.nii.gz to /kaggle/working//predTs_rename/343.nii.gz\r\n",
      "[45/50] Convert file from /kaggle/working/Dataset110_CTImage/predTs/covid19_0690.nii.gz to /kaggle/working//predTs_rename/690.nii.gz\r\n",
      "[46/50] Convert file from /kaggle/working/Dataset110_CTImage/predTs/covid19_0075.nii.gz to /kaggle/working//predTs_rename/075.nii.gz\r\n",
      "[47/50] Convert file from /kaggle/working/Dataset110_CTImage/predTs/covid19_0516.nii.gz to /kaggle/working//predTs_rename/516.nii.gz\r\n",
      "[48/50] Convert file from /kaggle/working/Dataset110_CTImage/predTs/covid19_0189.nii.gz to /kaggle/working//predTs_rename/189_0.nii.gz\r\n",
      "[49/50] Convert file from /kaggle/working/Dataset110_CTImage/predTs/covid19_0376.nii.gz to /kaggle/working//predTs_rename/376.nii.gz\r\n",
      "[50/50] Convert file from /kaggle/working/Dataset110_CTImage/predTs/covid19_0064.nii.gz to /kaggle/working//predTs_rename/064.nii.gz\r\n",
      "  adding: predTs_rename/ (stored 0%)\r\n",
      "  adding: predTs_rename/343.nii.gz (deflated 81%)\r\n",
      "  adding: predTs_rename/330.nii.gz (deflated 67%)\r\n",
      "  adding: predTs_rename/004.nii.gz (deflated 60%)\r\n",
      "  adding: predTs_rename/297.nii.gz (deflated 83%)\r\n",
      "  adding: predTs_rename/082.nii.gz (deflated 77%)\r\n",
      "  adding: predTs_rename/026.nii.gz (deflated 76%)\r\n",
      "  adding: predTs_rename/143.nii.gz (deflated 85%)\r\n",
      "  adding: predTs_rename/489.nii.gz (deflated 68%)\r\n",
      "  adding: predTs_rename/170.nii.gz (deflated 91%)\r\n",
      "  adding: predTs_rename/287_0.nii.gz (deflated 43%)\r\n",
      "  adding: predTs_rename/516.nii.gz (deflated 46%)\r\n",
      "  adding: predTs_rename/156.nii.gz (deflated 50%)\r\n",
      "  adding: predTs_rename/229.nii.gz (deflated 44%)\r\n",
      "  adding: predTs_rename/369_1.nii.gz (deflated 95%)\r\n",
      "  adding: predTs_rename/523.nii.gz (deflated 84%)\r\n",
      "  adding: predTs_rename/620.nii.gz (deflated 50%)\r\n",
      "  adding: predTs_rename/543.nii.gz (deflated 76%)\r\n",
      "  adding: predTs_rename/318_0.nii.gz (deflated 82%)\r\n",
      "  adding: predTs_rename/189_0.nii.gz (deflated 86%)\r\n",
      "  adding: predTs_rename/676.nii.gz (deflated 69%)\r\n",
      "  adding: predTs_rename/302.nii.gz (deflated 42%)\r\n",
      "  adding: predTs_rename/180_0.nii.gz (deflated 77%)\r\n",
      "  adding: predTs_rename/513.nii.gz (deflated 93%)\r\n",
      "  adding: predTs_rename/089.nii.gz (deflated 89%)\r\n",
      "  adding: predTs_rename/257.nii.gz (deflated 84%)\r\n",
      "  adding: predTs_rename/654.nii.gz (deflated 89%)\r\n",
      "  adding: predTs_rename/441.nii.gz (deflated 84%)\r\n",
      "  adding: predTs_rename/033.nii.gz (deflated 79%)\r\n",
      "  adding: predTs_rename/584.nii.gz (deflated 94%)\r\n",
      "  adding: predTs_rename/075.nii.gz (deflated 73%)\r\n",
      "  adding: predTs_rename/268.nii.gz (deflated 85%)\r\n",
      "  adding: predTs_rename/218.nii.gz (deflated 19%)\r\n",
      "  adding: predTs_rename/457.nii.gz (deflated 77%)\r\n",
      "  adding: predTs_rename/420.nii.gz (deflated 83%)\r\n",
      "  adding: predTs_rename/631.nii.gz (deflated 74%)\r\n",
      "  adding: predTs_rename/345.nii.gz (deflated 61%)\r\n",
      "  adding: predTs_rename/091.nii.gz (deflated 93%)\r\n",
      "  adding: predTs_rename/108.nii.gz (deflated 63%)\r\n",
      "  adding: predTs_rename/064.nii.gz (deflated 93%)\r\n",
      "  adding: predTs_rename/697.nii.gz (deflated 45%)\r\n",
      "  adding: predTs_rename/294.nii.gz (deflated 93%)\r\n",
      "  adding: predTs_rename/673.nii.gz (deflated 67%)\r\n",
      "  adding: predTs_rename/509.nii.gz (deflated 76%)\r\n",
      "  adding: predTs_rename/538.nii.gz (deflated 65%)\r\n",
      "  adding: predTs_rename/451.nii.gz (deflated 89%)\r\n",
      "  adding: predTs_rename/259.nii.gz (deflated 72%)\r\n",
      "  adding: predTs_rename/690.nii.gz (deflated 89%)\r\n",
      "  adding: predTs_rename/490.nii.gz (deflated 88%)\r\n",
      "  adding: predTs_rename/376.nii.gz (deflated 85%)\r\n",
      "  adding: predTs_rename/408.nii.gz (deflated 50%)\r\n"
     ]
    }
   ],
   "source": [
    "!python ./createSubmissionFile.py -s \"{nnUNet_results}{dataset_name}/predTs\" -d \"{nnUNet_results}/predTs_rename\"\n",
    "!(cd {nnUNet_results} && zip -r pred.zip predTs_rename/)"
   ]
  }
 ],
 "metadata": {
  "kaggle": {
   "accelerator": "nvidiaTeslaT4",
   "dataSources": [
    {
     "datasetId": 4751735,
     "sourceId": 8489663,
     "sourceType": "datasetVersion"
    }
   ],
   "dockerImageVersionId": 30674,
   "isGpuEnabled": true,
   "isInternetEnabled": true,
   "language": "python",
   "sourceType": "notebook"
  },
  "kernelspec": {
   "display_name": "Python 3",
   "language": "python",
   "name": "python3"
  },
  "language_info": {
   "codemirror_mode": {
    "name": "ipython",
    "version": 3
   },
   "file_extension": ".py",
   "mimetype": "text/x-python",
   "name": "python",
   "nbconvert_exporter": "python",
   "pygments_lexer": "ipython3",
   "version": "3.10.13"
  },
  "papermill": {
   "default_parameters": {},
   "duration": 15578.819026,
   "end_time": "2024-05-22T23:33:02.689186",
   "environment_variables": {},
   "exception": null,
   "input_path": "__notebook__.ipynb",
   "output_path": "__notebook__.ipynb",
   "parameters": {},
   "start_time": "2024-05-22T19:13:23.870160",
   "version": "2.5.0"
  }
 },
 "nbformat": 4,
 "nbformat_minor": 5
}
