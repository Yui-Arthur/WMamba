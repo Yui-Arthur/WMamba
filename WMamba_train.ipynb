{
 "cells": [
  {
   "cell_type": "markdown",
   "id": "d18496b4",
   "metadata": {
    "papermill": {
     "duration": 0.005184,
     "end_time": "2024-06-08T19:46:02.455323",
     "exception": false,
     "start_time": "2024-06-08T19:46:02.450139",
     "status": "completed"
    },
    "tags": []
   },
   "source": [
    "## Device use T4 * 2"
   ]
  },
  {
   "cell_type": "markdown",
   "id": "4ddb21b7",
   "metadata": {
    "papermill": {
     "duration": 0.004322,
     "end_time": "2024-06-08T19:46:02.464405",
     "exception": false,
     "start_time": "2024-06-08T19:46:02.460083",
     "status": "completed"
    },
    "tags": []
   },
   "source": [
    "#### Clone WMamba & U-Mamba Repo"
   ]
  },
  {
   "cell_type": "code",
   "execution_count": 1,
   "id": "0c422724",
   "metadata": {
    "_cell_guid": "b1076dfc-b9ad-4769-8c92-a6c4dae69d19",
    "_uuid": "8f2839f25d086af736a60e9eeb907d3b93b6e0e5",
    "execution": {
     "iopub.execute_input": "2024-06-08T19:46:02.475244Z",
     "iopub.status.busy": "2024-06-08T19:46:02.474439Z",
     "iopub.status.idle": "2024-06-08T19:46:05.462332Z",
     "shell.execute_reply": "2024-06-08T19:46:05.461424Z"
    },
    "papermill": {
     "duration": 2.995365,
     "end_time": "2024-06-08T19:46:05.464270",
     "exception": false,
     "start_time": "2024-06-08T19:46:02.468905",
     "status": "completed"
    },
    "tags": []
   },
   "outputs": [
    {
     "name": "stdout",
     "output_type": "stream",
     "text": [
      "Cloning into 'WMamba'...\r\n",
      "remote: Enumerating objects: 208, done.\u001b[K\r\n",
      "remote: Counting objects: 100% (61/61), done.\u001b[K\r\n",
      "remote: Compressing objects: 100% (48/48), done.\u001b[K\r\n",
      "remote: Total 208 (delta 27), reused 21 (delta 13), pack-reused 147\u001b[K\r\n",
      "Receiving objects: 100% (208/208), 160.05 KiB | 6.40 MiB/s, done.\r\n",
      "Resolving deltas: 100% (106/106), done.\r\n",
      "/kaggle/working/WMamba\n",
      "Cloning into 'U-Mamba'...\r\n",
      "remote: Enumerating objects: 301, done.\u001b[K\r\n",
      "remote: Counting objects: 100% (60/60), done.\u001b[K\r\n",
      "remote: Compressing objects: 100% (45/45), done.\u001b[K\r\n",
      "remote: Total 301 (delta 46), reused 15 (delta 15), pack-reused 241\u001b[K\r\n",
      "Receiving objects: 100% (301/301), 2.91 MiB | 28.94 MiB/s, done.\r\n",
      "Resolving deltas: 100% (81/81), done.\r\n"
     ]
    }
   ],
   "source": [
    "!git clone https://github.com/Yui-Arthur/WMamba.git > /dev/null\n",
    "%cd WMamba\n",
    "!git clone https://github.com/bowang-lab/U-Mamba.git > /dev/null"
   ]
  },
  {
   "cell_type": "code",
   "execution_count": 2,
   "id": "848395f4",
   "metadata": {
    "execution": {
     "iopub.execute_input": "2024-06-08T19:46:05.477273Z",
     "iopub.status.busy": "2024-06-08T19:46:05.476976Z",
     "iopub.status.idle": "2024-06-08T19:46:06.411468Z",
     "shell.execute_reply": "2024-06-08T19:46:06.410629Z"
    },
    "papermill": {
     "duration": 0.943503,
     "end_time": "2024-06-08T19:46:06.413690",
     "exception": false,
     "start_time": "2024-06-08T19:46:05.470187",
     "status": "completed"
    },
    "tags": []
   },
   "outputs": [
    {
     "name": "stdout",
     "output_type": "stream",
     "text": [
      "Branch 'Kaggle' set up to track remote branch 'Kaggle' from 'origin'.\r\n",
      "Switched to a new branch 'Kaggle'\r\n"
     ]
    }
   ],
   "source": [
    "!git checkout Kaggle"
   ]
  },
  {
   "cell_type": "markdown",
   "id": "068604ee",
   "metadata": {
    "papermill": {
     "duration": 0.005875,
     "end_time": "2024-06-08T19:46:06.425546",
     "exception": false,
     "start_time": "2024-06-08T19:46:06.419671",
     "status": "completed"
    },
    "tags": []
   },
   "source": [
    "#### Mabma & U-Mamba & WMamba reqirement"
   ]
  },
  {
   "cell_type": "code",
   "execution_count": 3,
   "id": "c29739df",
   "metadata": {
    "execution": {
     "iopub.execute_input": "2024-06-08T19:46:06.438579Z",
     "iopub.status.busy": "2024-06-08T19:46:06.438301Z",
     "iopub.status.idle": "2024-06-08T19:47:44.469358Z",
     "shell.execute_reply": "2024-06-08T19:47:44.468116Z"
    },
    "papermill": {
     "duration": 98.040481,
     "end_time": "2024-06-08T19:47:44.471875",
     "exception": false,
     "start_time": "2024-06-08T19:46:06.431394",
     "status": "completed"
    },
    "tags": []
   },
   "outputs": [],
   "source": [
    "!pip install causal-conv1d>=1.2.0 --no-cache-dir > /dev/null\n",
    "!pip install mamba-ssm --no-cache-dir > /dev/null\n",
    "!cd U-Mamba/umamba && (pip install -e .) > /dev/null"
   ]
  },
  {
   "cell_type": "code",
   "execution_count": 4,
   "id": "d002d103",
   "metadata": {
    "execution": {
     "iopub.execute_input": "2024-06-08T19:47:44.485814Z",
     "iopub.status.busy": "2024-06-08T19:47:44.485494Z",
     "iopub.status.idle": "2024-06-08T19:48:09.517683Z",
     "shell.execute_reply": "2024-06-08T19:48:09.516436Z"
    },
    "papermill": {
     "duration": 25.041836,
     "end_time": "2024-06-08T19:48:09.520093",
     "exception": false,
     "start_time": "2024-06-08T19:47:44.478257",
     "status": "completed"
    },
    "tags": []
   },
   "outputs": [
    {
     "name": "stdout",
     "output_type": "stream",
     "text": [
      "\u001b[31mERROR: pip's dependency resolver does not currently take into account all the packages that are installed. This behaviour is the source of the following dependency conflicts.\r\n",
      "jupyterlab 4.1.5 requires jupyter-lsp>=2.0.0, but you have jupyter-lsp 1.5.1 which is incompatible.\r\n",
      "jupyterlab-lsp 5.1.0 requires jupyter-lsp>=2.0.0, but you have jupyter-lsp 1.5.1 which is incompatible.\r\n",
      "libpysal 4.9.2 requires packaging>=22, but you have packaging 21.3 which is incompatible.\r\n",
      "libpysal 4.9.2 requires shapely>=2.0.1, but you have shapely 1.8.5.post1 which is incompatible.\r\n",
      "momepy 0.7.0 requires shapely>=2, but you have shapely 1.8.5.post1 which is incompatible.\r\n",
      "spopt 0.6.0 requires shapely>=2.0.1, but you have shapely 1.8.5.post1 which is incompatible.\u001b[0m\u001b[31m\r\n",
      "\u001b[0m"
     ]
    }
   ],
   "source": [
    "!pip install ptwt >  /dev/null\n",
    "!pip install PyWavelets >  /dev/null"
   ]
  },
  {
   "cell_type": "code",
   "execution_count": 5,
   "id": "8b83d93b",
   "metadata": {
    "execution": {
     "iopub.execute_input": "2024-06-08T19:48:09.535807Z",
     "iopub.status.busy": "2024-06-08T19:48:09.535016Z",
     "iopub.status.idle": "2024-06-08T19:48:10.528678Z",
     "shell.execute_reply": "2024-06-08T19:48:10.527809Z"
    },
    "papermill": {
     "duration": 1.003265,
     "end_time": "2024-06-08T19:48:10.530783",
     "exception": false,
     "start_time": "2024-06-08T19:48:09.527518",
     "status": "completed"
    },
    "tags": []
   },
   "outputs": [
    {
     "name": "stdout",
     "output_type": "stream",
     "text": [
      "Setup WMamba\r\n",
      "CP File From W-Mamba to U-Mamba\r\n",
      "Trainer:\r\n",
      "  nnUNetTrainerWMambaBase.py\r\n",
      "  nnUNetTrainerUMambaEnc.py\r\n",
      "  nnUNetTrainerWMambaBot.py\r\n",
      "  nnUNetTrainerUMambaEncNoAMP.py\r\n",
      "  nnUNetTrainerUMambaBot.py\r\n",
      "Nets:\r\n",
      "  WMambaBot_3d.py\r\n",
      "Others:\r\n",
      "  paths.py\r\n",
      "  waveletLayer.py\r\n"
     ]
    }
   ],
   "source": [
    "!sudo bash setup_wmamba.sh"
   ]
  },
  {
   "cell_type": "markdown",
   "id": "4cabff7a",
   "metadata": {
    "papermill": {
     "duration": 0.007415,
     "end_time": "2024-06-08T19:48:10.544654",
     "exception": false,
     "start_time": "2024-06-08T19:48:10.537239",
     "status": "completed"
    },
    "tags": []
   },
   "source": [
    "### set env variable"
   ]
  },
  {
   "cell_type": "code",
   "execution_count": 6,
   "id": "de36d3ad",
   "metadata": {
    "execution": {
     "iopub.execute_input": "2024-06-08T19:48:10.559094Z",
     "iopub.status.busy": "2024-06-08T19:48:10.558412Z",
     "iopub.status.idle": "2024-06-08T19:48:10.567563Z",
     "shell.execute_reply": "2024-06-08T19:48:10.566757Z"
    },
    "papermill": {
     "duration": 0.018519,
     "end_time": "2024-06-08T19:48:10.569598",
     "exception": false,
     "start_time": "2024-06-08T19:48:10.551079",
     "status": "completed"
    },
    "tags": []
   },
   "outputs": [
    {
     "name": "stdout",
     "output_type": "stream",
     "text": [
      "env: ipynb=1\n",
      "env: nnUNet_preprocessed=/home/nnUNet_preprocessed/\n",
      "env: nnUNet_raw=/home/nnUNet_raw/\n",
      "env: nnUNet_results=/kaggle/working/\n"
     ]
    }
   ],
   "source": [
    "### DO NOT EDIT !!! ###\n",
    "nnUNet_preprocessed=\"/home/nnUNet_preprocessed/\"\n",
    "nnUNet_raw=\"/home/nnUNet_raw/\"\n",
    "nnUNet_results=\"/kaggle/working/\"\n",
    "\n",
    "%env ipynb=1\n",
    "%env nnUNet_preprocessed={nnUNet_preprocessed}\n",
    "%env nnUNet_raw={nnUNet_raw}\n",
    "%env nnUNet_results={nnUNet_results}\n",
    "\n"
   ]
  },
  {
   "cell_type": "markdown",
   "id": "47fe233d",
   "metadata": {
    "papermill": {
     "duration": 0.006203,
     "end_time": "2024-06-08T19:48:10.582273",
     "exception": false,
     "start_time": "2024-06-08T19:48:10.576070",
     "status": "completed"
    },
    "tags": []
   },
   "source": [
    "### parameter (can modify)"
   ]
  },
  {
   "cell_type": "code",
   "execution_count": 7,
   "id": "13c79dbc",
   "metadata": {
    "execution": {
     "iopub.execute_input": "2024-06-08T19:48:10.596164Z",
     "iopub.status.busy": "2024-06-08T19:48:10.595879Z",
     "iopub.status.idle": "2024-06-08T19:48:10.602708Z",
     "shell.execute_reply": "2024-06-08T19:48:10.601951Z"
    },
    "papermill": {
     "duration": 0.016393,
     "end_time": "2024-06-08T19:48:10.604990",
     "exception": false,
     "start_time": "2024-06-08T19:48:10.588597",
     "status": "completed"
    },
    "tags": []
   },
   "outputs": [
    {
     "name": "stdout",
     "output_type": "stream",
     "text": [
      "env: training_epochs=300\n",
      "env: checkpoint_save_every=10\n"
     ]
    }
   ],
   "source": [
    "### Epoch ###\n",
    "# **the maximum epoch include all train epoch in every session** #\n",
    "%env training_epochs=300\n",
    "\n",
    "### Checkpoint ###\n",
    "# every {checkpoint_save_every} epochs will save one checkpoint\n",
    "%env checkpoint_save_every = 10\n",
    "load_checkpoint = True\n",
    "\n",
    "prev_checkpoint_f0 = \"/kaggle/input/0603/checkpoint_latest_0.pth\"\n",
    "prev_checkpoint_f1 = \"/kaggle/input/0603/checkpoint_latest_1.pth\"\n",
    "\n",
    "### Kaggle Dataset Input Path ###\n",
    "dataset_path = \"/kaggle/input/Dataset110_CTImage.mp4\"\n",
    "### Dataset ID ###\n",
    "dataset_id = 110\n",
    "\n",
    "### Set Trainer/Model ###\n",
    "trainer = \"nnUNetTrainerWMambaBot\"\n",
    "\n",
    "### Set GPU DRAM for dataset preproccess ###\n",
    "gpu_dram = 8\n"
   ]
  },
  {
   "cell_type": "markdown",
   "id": "a983682b",
   "metadata": {
    "papermill": {
     "duration": 0.006366,
     "end_time": "2024-06-08T19:48:10.617954",
     "exception": false,
     "start_time": "2024-06-08T19:48:10.611588",
     "status": "completed"
    },
    "tags": []
   },
   "source": [
    "### dataset prepaired"
   ]
  },
  {
   "cell_type": "code",
   "execution_count": 8,
   "id": "2e876d70",
   "metadata": {
    "execution": {
     "iopub.execute_input": "2024-06-08T19:48:10.632219Z",
     "iopub.status.busy": "2024-06-08T19:48:10.631939Z",
     "iopub.status.idle": "2024-06-08T20:02:51.224994Z",
     "shell.execute_reply": "2024-06-08T20:02:51.223884Z"
    },
    "papermill": {
     "duration": 880.60292,
     "end_time": "2024-06-08T20:02:51.227393",
     "exception": false,
     "start_time": "2024-06-08T19:48:10.624473",
     "status": "completed"
    },
    "tags": []
   },
   "outputs": [
    {
     "name": "stdout",
     "output_type": "stream",
     "text": [
      "\r\n",
      "\r\n",
      "\r\n",
      "The following NEW packages will be installed:\r\n",
      "  unrar\r\n",
      "0 upgraded, 1 newly installed, 0 to remove and 51 not upgraded.\r\n",
      "Need to get 113 kB of archives.\r\n",
      "After this operation, 406 kB of additional disk space will be used.\r\n",
      "Get:1 http://archive.ubuntu.com/ubuntu focal/multiverse amd64 unrar amd64 1:5.6.6-2build1 [113 kB]\r\n",
      "Fetched 113 kB in 0s (282 kB/s)\r\n",
      "\n",
      "\u001b7\u001b[0;23r\u001b8\u001b[1ASelecting previously unselected package unrar.\r\n",
      "(Reading database ... 113807 files and directories currently installed.)\r\n",
      "Preparing to unpack .../unrar_1%3a5.6.6-2build1_amd64.deb ...\r\n",
      "\u001b7\u001b[24;0f\u001b[42m\u001b[30mProgress: [  0%]\u001b[49m\u001b[39m [..........................................................] \u001b8\u001b7\u001b[24;0f\u001b[42m\u001b[30mProgress: [ 20%]\u001b[49m\u001b[39m [###########...............................................] \u001b8Unpacking unrar (1:5.6.6-2build1) ...\r\n",
      "\u001b7\u001b[24;0f\u001b[42m\u001b[30mProgress: [ 40%]\u001b[49m\u001b[39m [#######################...................................] \u001b8Setting up unrar (1:5.6.6-2build1) ...\r\n",
      "\u001b7\u001b[24;0f\u001b[42m\u001b[30mProgress: [ 60%]\u001b[49m\u001b[39m [##################################........................] \u001b8update-alternatives: using /usr/bin/unrar-nonfree to provide /usr/bin/unrar (unrar) in auto mode\r\n",
      "update-alternatives: warning: skip creation of /usr/share/man/man1/unrar.1.gz because associated file /usr/share/man/man1/unrar-nonfree.1.gz (of link group unrar) doesn't exist\r\n",
      "\u001b7\u001b[24;0f\u001b[42m\u001b[30mProgress: [ 80%]\u001b[49m\u001b[39m [##############################################............] \u001b8Processing triggers for man-db (2.9.1-1) ...\r\n",
      "\r\n",
      "100%|█████████████████████████████████████████| 199/199 [01:09<00:00,  2.85it/s]\r\n",
      "100%|█████████████████████████████████████████| 199/199 [11:15<00:00,  3.39s/it]\r\n"
     ]
    }
   ],
   "source": [
    "if dataset_id == 110:\n",
    "    \"\"\"===== Dataset 110 Covid-19 ====\"\"\"\n",
    "    \"\"\" unrar data folder and move to home. \"\"\"\n",
    "    !apt install unrar\n",
    "    !(unrar x {dataset_path} {nnUNet_raw}) >  /dev/null\n",
    "    \"\"\"dataset preoproccess about 20 mins.\"\"\"\n",
    "    !nnUNetv2_plan_and_preprocess -d 110 --verify_dataset_integrity -c 3d_fullres -gpu_memory_target {gpu_dram} > /dev/null\n",
    "    dataset_id = 110\n",
    "    dataset_name = \"Dataset110_CTImage\"\n",
    "else:\n",
    "    \"\"\"===== Dastaset 4 Hippocampus ====\"\"\"\n",
    "    \"\"\" unzip data folder and move to home. \"\"\"\n",
    "    !(tar -C  /home/ -xvf {dataset_path}) > /dev/null\n",
    "    \"\"\" dataset preoproccess. \"\"\"\n",
    "    !nnUNetv2_convert_MSD_dataset -i /home/Task04_Hippocampus \n",
    "    !nnUNetv2_plan_and_preprocess -d 4 --verify_dataset_integrity -c 3d_fullres -gpu_memory_target {gpu_dram} > /dev/null\n",
    "    dataset_id = 4\n",
    "    dataset_name = \"Dataset004_Hippocampus\"\n"
   ]
  },
  {
   "cell_type": "markdown",
   "id": "6e24b136",
   "metadata": {
    "papermill": {
     "duration": 0.037218,
     "end_time": "2024-06-08T20:02:51.302745",
     "exception": false,
     "start_time": "2024-06-08T20:02:51.265527",
     "status": "completed"
    },
    "tags": []
   },
   "source": [
    "### train"
   ]
  },
  {
   "cell_type": "code",
   "execution_count": 9,
   "id": "5769538c",
   "metadata": {
    "execution": {
     "iopub.execute_input": "2024-06-08T20:02:51.379442Z",
     "iopub.status.busy": "2024-06-08T20:02:51.379142Z",
     "iopub.status.idle": "2024-06-08T20:02:51.384425Z",
     "shell.execute_reply": "2024-06-08T20:02:51.383522Z"
    },
    "papermill": {
     "duration": 0.046397,
     "end_time": "2024-06-08T20:02:51.386337",
     "exception": false,
     "start_time": "2024-06-08T20:02:51.339940",
     "status": "completed"
    },
    "tags": []
   },
   "outputs": [],
   "source": [
    "# from pathlib import Path\n",
    "# if not load_checkpoint:\n",
    "#     ### first training (no checkpoint) ###\n",
    "#     !CUDA_VISIBLE_DEVICES=0 nnUNetv2_train {dataset_id} 3d_fullres 0 -tr {trainer} --npz & \\\n",
    "#     CUDA_VISIBLE_DEVICES=1 nnUNetv2_train {dataset_id} 3d_fullres 1 -tr {trainer} --npz\n",
    "# else:\n",
    "#     ### load checkpoint, continue train\n",
    "#     current_trainer_folder = f\"{nnUNet_results}{dataset_name}/{trainer}__nnUNetPlans__3d_fullres/\"\n",
    "\n",
    "#     !mkdir -p {current_trainer_folder}/fold_0\n",
    "#     !mkdir -p {current_trainer_folder}/fold_1\n",
    "\n",
    "#     !cp {prev_checkpoint_f0} {current_trainer_folder}/fold_0/checkpoint_best.pth\n",
    "#     !cp {prev_checkpoint_f1} {current_trainer_folder}/fold_1/checkpoint_best.pth\n",
    "    \n",
    "#     # check the checkpoint can be successful loaded\n",
    "#     f0 = [i.name for i in Path(current_trainer_folder+\"fold_0\").glob(\"*.pth\")]\n",
    "#     f1 = [i.name for i in Path(current_trainer_folder+\"fold_1\").glob(\"*.pth\")]\n",
    "#     print(\"Load Checkpoint fold 0\",f0)\n",
    "#     print(\"Load Checkpoint fold 1\",f1)\n",
    "#     if len(f0) <1 or len(f1) <1:\n",
    "#         raise ValueError(\"Load Checkpoint Failed\")\n",
    "    \n",
    "#     !CUDA_VISIBLE_DEVICES=0 nnUNetv2_train {dataset_id} 3d_fullres 0 -tr {trainer} --c --npz & \\\n",
    "#     CUDA_VISIBLE_DEVICES=1 nnUNetv2_train {dataset_id} 3d_fullres 1 -tr {trainer} --c  --npz"
   ]
  },
  {
   "cell_type": "markdown",
   "id": "480a535e",
   "metadata": {
    "papermill": {
     "duration": 0.037345,
     "end_time": "2024-06-08T20:02:51.461156",
     "exception": false,
     "start_time": "2024-06-08T20:02:51.423811",
     "status": "completed"
    },
    "tags": []
   },
   "source": [
    "### find best fold"
   ]
  },
  {
   "cell_type": "code",
   "execution_count": 10,
   "id": "90624344",
   "metadata": {
    "execution": {
     "iopub.execute_input": "2024-06-08T20:02:51.537214Z",
     "iopub.status.busy": "2024-06-08T20:02:51.536924Z",
     "iopub.status.idle": "2024-06-08T20:02:55.655859Z",
     "shell.execute_reply": "2024-06-08T20:02:55.654700Z"
    },
    "papermill": {
     "duration": 4.159988,
     "end_time": "2024-06-08T20:02:55.658473",
     "exception": false,
     "start_time": "2024-06-08T20:02:51.498485",
     "status": "completed"
    },
    "tags": []
   },
   "outputs": [
    {
     "name": "stdout",
     "output_type": "stream",
     "text": [
      "Traceback (most recent call last):\r\n",
      "  File \"/opt/conda/bin/nnUNetv2_find_best_configuration\", line 33, in <module>\r\n",
      "    sys.exit(load_entry_point('nnunetv2', 'console_scripts', 'nnUNetv2_find_best_configuration')())\r\n",
      "  File \"/kaggle/working/WMamba/U-Mamba/umamba/nnunetv2/evaluation/find_best_configuration.py\", line 295, in find_best_configuration_entry_point\r\n",
      "    find_best_configuration(dataset_name, model_dict, allow_ensembling=not args.disable_ensembling,\r\n",
      "  File \"/kaggle/working/WMamba/U-Mamba/umamba/nnunetv2/evaluation/find_best_configuration.py\", line 91, in find_best_configuration\r\n",
      "    allowed_trained_models = filter_available_models(deepcopy(allowed_trained_models), dataset_name_or_id)\r\n",
      "  File \"/kaggle/working/WMamba/U-Mamba/umamba/nnunetv2/evaluation/find_best_configuration.py\", line 43, in filter_available_models\r\n",
      "    raise RuntimeError(f\"Trained model {trained_model} does not have an output folder. \"\r\n",
      "RuntimeError: Trained model {'plans': 'nnUNetPlans', 'configuration': '3d_fullres', 'trainer': 'nnUNetTrainerWMambaBot'} does not have an output folder. Expected: /kaggle/working/Dataset110_CTImage/nnUNetTrainerWMambaBot__nnUNetPlans__3d_fullres. Please run the training for this model! (don't forget the --npz flag if you want to ensemble multiple configurations)\r\n"
     ]
    }
   ],
   "source": [
    "!nnUNetv2_find_best_configuration {dataset_id} -c 3d_fullres -tr {trainer} -f 0 1 2 3"
   ]
  },
  {
   "cell_type": "markdown",
   "id": "b55b1fa9",
   "metadata": {
    "papermill": {
     "duration": 0.037629,
     "end_time": "2024-06-08T20:02:55.734718",
     "exception": false,
     "start_time": "2024-06-08T20:02:55.697089",
     "status": "completed"
    },
    "tags": []
   },
   "source": [
    "### predict "
   ]
  },
  {
   "cell_type": "code",
   "execution_count": 11,
   "id": "564eded8",
   "metadata": {
    "execution": {
     "iopub.execute_input": "2024-06-08T20:02:55.812836Z",
     "iopub.status.busy": "2024-06-08T20:02:55.812179Z",
     "iopub.status.idle": "2024-06-08T20:03:02.647451Z",
     "shell.execute_reply": "2024-06-08T20:03:02.646341Z"
    },
    "papermill": {
     "duration": 6.877274,
     "end_time": "2024-06-08T20:03:02.649962",
     "exception": false,
     "start_time": "2024-06-08T20:02:55.772688",
     "status": "completed"
    },
    "tags": []
   },
   "outputs": [
    {
     "name": "stdout",
     "output_type": "stream",
     "text": [
      "Traceback (most recent call last):\r\n",
      "  File \"/opt/conda/bin/nnUNetv2_predict\", line 33, in <module>\r\n",
      "    sys.exit(load_entry_point('nnunetv2', 'console_scripts', 'nnUNetv2_predict')())\r\n",
      "  File \"/kaggle/working/WMamba/U-Mamba/umamba/nnunetv2/inference/predict_from_raw_data.py\", line 826, in predict_entry_point\r\n",
      "    predictor.initialize_from_trained_model_folder(\r\n",
      "  File \"/kaggle/working/WMamba/U-Mamba/umamba/nnunetv2/inference/predict_from_raw_data.py\", line 77, in initialize_from_trained_model_folder\r\n",
      "    dataset_json = load_json(join(model_training_output_dir, 'dataset.json'))\r\n",
      "  File \"/opt/conda/lib/python3.10/site-packages/batchgenerators/utilities/file_and_folder_operations.py\", line 68, in load_json\r\n",
      "    with open(file, 'r') as f:\r\n",
      "FileNotFoundError: [Errno 2] No such file or directory: '/kaggle/working/Dataset110_CTImage/nnUNetTrainerWMambaBot__nnUNetPlans__3d_fullres/dataset.json'\r\n"
     ]
    }
   ],
   "source": [
    "!nnUNetv2_predict -i \"{nnUNet_raw}{dataset_name}/imagesTs\"\\\n",
    "-o \"{nnUNet_results}{dataset_name}/predTs\" \\\n",
    "-d {dataset_id} -c 3d_fullres -tr {trainer} -f 0 1 > /dev/null"
   ]
  },
  {
   "cell_type": "code",
   "execution_count": 12,
   "id": "8e51c0af",
   "metadata": {
    "execution": {
     "iopub.execute_input": "2024-06-08T20:03:02.729820Z",
     "iopub.status.busy": "2024-06-08T20:03:02.729014Z",
     "iopub.status.idle": "2024-06-08T20:03:04.697196Z",
     "shell.execute_reply": "2024-06-08T20:03:04.696283Z"
    },
    "papermill": {
     "duration": 2.009552,
     "end_time": "2024-06-08T20:03:04.699441",
     "exception": false,
     "start_time": "2024-06-08T20:03:02.689889",
     "status": "completed"
    },
    "tags": []
   },
   "outputs": [
    {
     "name": "stdout",
     "output_type": "stream",
     "text": [
      "  adding: predTs_rename/ (stored 0%)\r\n"
     ]
    }
   ],
   "source": [
    "!python ./createSubmissionFile.py -s \"{nnUNet_results}{dataset_name}/predTs\" -d \"{nnUNet_results}/predTs_rename\"\n",
    "!(cd {nnUNet_results} && zip -r pred.zip predTs_rename/)"
   ]
  }
 ],
 "metadata": {
  "kaggle": {
   "accelerator": "nvidiaTeslaT4",
   "dataSources": [
    {
     "datasetId": 4751735,
     "sourceId": 8587980,
     "sourceType": "datasetVersion"
    }
   ],
   "dockerImageVersionId": 30674,
   "isGpuEnabled": true,
   "isInternetEnabled": true,
   "language": "python",
   "sourceType": "notebook"
  },
  "kernelspec": {
   "display_name": "Python 3",
   "language": "python",
   "name": "python3"
  },
  "language_info": {
   "codemirror_mode": {
    "name": "ipython",
    "version": 3
   },
   "file_extension": ".py",
   "mimetype": "text/x-python",
   "name": "python",
   "nbconvert_exporter": "python",
   "pygments_lexer": "ipython3",
   "version": "3.10.13"
  },
  "papermill": {
   "default_parameters": {},
   "duration": 1025.174098,
   "end_time": "2024-06-08T20:03:04.957456",
   "environment_variables": {},
   "exception": null,
   "input_path": "__notebook__.ipynb",
   "output_path": "__notebook__.ipynb",
   "parameters": {},
   "start_time": "2024-06-08T19:45:59.783358",
   "version": "2.5.0"
  }
 },
 "nbformat": 4,
 "nbformat_minor": 5
}
