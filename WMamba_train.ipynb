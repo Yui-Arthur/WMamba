{
 "cells": [
  {
   "cell_type": "markdown",
   "id": "96d5c4b9",
   "metadata": {
    "papermill": {
     "duration": 0.005919,
     "end_time": "2024-06-09T08:43:49.768136",
     "exception": false,
     "start_time": "2024-06-09T08:43:49.762217",
     "status": "completed"
    },
    "tags": []
   },
   "source": [
    "## Device use T4 * 2"
   ]
  },
  {
   "cell_type": "markdown",
   "id": "b399b098",
   "metadata": {
    "papermill": {
     "duration": 0.004599,
     "end_time": "2024-06-09T08:43:49.778106",
     "exception": false,
     "start_time": "2024-06-09T08:43:49.773507",
     "status": "completed"
    },
    "tags": []
   },
   "source": [
    "#### Clone WMamba & U-Mamba Repo"
   ]
  },
  {
   "cell_type": "code",
   "execution_count": 1,
   "id": "3bb51dd6",
   "metadata": {
    "_cell_guid": "b1076dfc-b9ad-4769-8c92-a6c4dae69d19",
    "_uuid": "8f2839f25d086af736a60e9eeb907d3b93b6e0e5",
    "execution": {
     "iopub.execute_input": "2024-06-09T08:43:49.789540Z",
     "iopub.status.busy": "2024-06-09T08:43:49.788822Z",
     "iopub.status.idle": "2024-06-09T08:43:52.741735Z",
     "shell.execute_reply": "2024-06-09T08:43:52.740746Z"
    },
    "papermill": {
     "duration": 2.961088,
     "end_time": "2024-06-09T08:43:52.744038",
     "exception": false,
     "start_time": "2024-06-09T08:43:49.782950",
     "status": "completed"
    },
    "tags": []
   },
   "outputs": [
    {
     "name": "stdout",
     "output_type": "stream",
     "text": [
      "Cloning into 'WMamba'...\r\n",
      "remote: Enumerating objects: 214, done.\u001b[K\r\n",
      "remote: Counting objects: 100% (67/67), done.\u001b[K\r\n",
      "remote: Compressing objects: 100% (54/54), done.\u001b[K\r\n",
      "remote: Total 214 (delta 30), reused 21 (delta 13), pack-reused 147\u001b[K\r\n",
      "Receiving objects: 100% (214/214), 164.65 KiB | 2.32 MiB/s, done.\r\n",
      "Resolving deltas: 100% (109/109), done.\r\n",
      "/kaggle/working/WMamba\n",
      "Cloning into 'U-Mamba'...\r\n",
      "remote: Enumerating objects: 301, done.\u001b[K\r\n",
      "remote: Counting objects: 100% (60/60), done.\u001b[K\r\n",
      "remote: Compressing objects: 100% (45/45), done.\u001b[K\r\n",
      "remote: Total 301 (delta 46), reused 15 (delta 15), pack-reused 241\u001b[K\r\n",
      "Receiving objects: 100% (301/301), 2.91 MiB | 15.21 MiB/s, done.\r\n",
      "Resolving deltas: 100% (81/81), done.\r\n"
     ]
    }
   ],
   "source": [
    "!git clone https://github.com/Yui-Arthur/WMamba.git > /dev/null\n",
    "%cd WMamba\n",
    "!git clone https://github.com/bowang-lab/U-Mamba.git > /dev/null"
   ]
  },
  {
   "cell_type": "code",
   "execution_count": 2,
   "id": "4fcd7418",
   "metadata": {
    "execution": {
     "iopub.execute_input": "2024-06-09T08:43:52.758201Z",
     "iopub.status.busy": "2024-06-09T08:43:52.757904Z",
     "iopub.status.idle": "2024-06-09T08:43:53.705123Z",
     "shell.execute_reply": "2024-06-09T08:43:53.703910Z"
    },
    "papermill": {
     "duration": 0.956693,
     "end_time": "2024-06-09T08:43:53.707354",
     "exception": false,
     "start_time": "2024-06-09T08:43:52.750661",
     "status": "completed"
    },
    "tags": []
   },
   "outputs": [
    {
     "name": "stdout",
     "output_type": "stream",
     "text": [
      "Branch 'Kaggle' set up to track remote branch 'Kaggle' from 'origin'.\r\n",
      "Switched to a new branch 'Kaggle'\r\n"
     ]
    }
   ],
   "source": [
    "!git checkout Kaggle"
   ]
  },
  {
   "cell_type": "markdown",
   "id": "97811ec2",
   "metadata": {
    "papermill": {
     "duration": 0.006787,
     "end_time": "2024-06-09T08:43:53.720890",
     "exception": false,
     "start_time": "2024-06-09T08:43:53.714103",
     "status": "completed"
    },
    "tags": []
   },
   "source": [
    "#### Mabma & U-Mamba & WMamba reqirement"
   ]
  },
  {
   "cell_type": "code",
   "execution_count": 3,
   "id": "2965102f",
   "metadata": {
    "execution": {
     "iopub.execute_input": "2024-06-09T08:43:53.735281Z",
     "iopub.status.busy": "2024-06-09T08:43:53.734958Z",
     "iopub.status.idle": "2024-06-09T08:45:32.266560Z",
     "shell.execute_reply": "2024-06-09T08:45:32.265303Z"
    },
    "papermill": {
     "duration": 98.542018,
     "end_time": "2024-06-09T08:45:32.269465",
     "exception": false,
     "start_time": "2024-06-09T08:43:53.727447",
     "status": "completed"
    },
    "tags": []
   },
   "outputs": [],
   "source": [
    "!pip install causal-conv1d>=1.2.0 --no-cache-dir > /dev/null\n",
    "!pip install mamba-ssm --no-cache-dir > /dev/null\n",
    "!cd U-Mamba/umamba && (pip install -e .) > /dev/null"
   ]
  },
  {
   "cell_type": "code",
   "execution_count": 4,
   "id": "77c2a50a",
   "metadata": {
    "execution": {
     "iopub.execute_input": "2024-06-09T08:45:32.285837Z",
     "iopub.status.busy": "2024-06-09T08:45:32.285467Z",
     "iopub.status.idle": "2024-06-09T08:45:58.319939Z",
     "shell.execute_reply": "2024-06-09T08:45:58.318714Z"
    },
    "papermill": {
     "duration": 26.045034,
     "end_time": "2024-06-09T08:45:58.322208",
     "exception": false,
     "start_time": "2024-06-09T08:45:32.277174",
     "status": "completed"
    },
    "tags": []
   },
   "outputs": [
    {
     "name": "stdout",
     "output_type": "stream",
     "text": [
      "\u001b[31mERROR: pip's dependency resolver does not currently take into account all the packages that are installed. This behaviour is the source of the following dependency conflicts.\r\n",
      "jupyterlab 4.1.5 requires jupyter-lsp>=2.0.0, but you have jupyter-lsp 1.5.1 which is incompatible.\r\n",
      "jupyterlab-lsp 5.1.0 requires jupyter-lsp>=2.0.0, but you have jupyter-lsp 1.5.1 which is incompatible.\r\n",
      "libpysal 4.9.2 requires packaging>=22, but you have packaging 21.3 which is incompatible.\r\n",
      "libpysal 4.9.2 requires shapely>=2.0.1, but you have shapely 1.8.5.post1 which is incompatible.\r\n",
      "momepy 0.7.0 requires shapely>=2, but you have shapely 1.8.5.post1 which is incompatible.\r\n",
      "spopt 0.6.0 requires shapely>=2.0.1, but you have shapely 1.8.5.post1 which is incompatible.\u001b[0m\u001b[31m\r\n",
      "\u001b[0m"
     ]
    }
   ],
   "source": [
    "!pip install ptwt >  /dev/null\n",
    "!pip install PyWavelets >  /dev/null"
   ]
  },
  {
   "cell_type": "code",
   "execution_count": 5,
   "id": "5ad785aa",
   "metadata": {
    "execution": {
     "iopub.execute_input": "2024-06-09T08:45:58.339048Z",
     "iopub.status.busy": "2024-06-09T08:45:58.338405Z",
     "iopub.status.idle": "2024-06-09T08:45:59.342894Z",
     "shell.execute_reply": "2024-06-09T08:45:59.341902Z"
    },
    "papermill": {
     "duration": 1.0156,
     "end_time": "2024-06-09T08:45:59.345064",
     "exception": false,
     "start_time": "2024-06-09T08:45:58.329464",
     "status": "completed"
    },
    "tags": []
   },
   "outputs": [
    {
     "name": "stdout",
     "output_type": "stream",
     "text": [
      "Setup WMamba\r\n",
      "CP File From W-Mamba to U-Mamba\r\n",
      "Trainer:\r\n",
      "  nnUNetTrainerWMambaBot.py\r\n",
      "  nnUNetTrainerUMambaBot.py\r\n",
      "  nnUNetTrainerUMambaEncNoAMP.py\r\n",
      "  nnUNetTrainerUMambaEnc.py\r\n",
      "  nnUNetTrainerWMambaBase.py\r\n",
      "Nets:\r\n",
      "  WMambaBot_3d.py\r\n",
      "Others:\r\n",
      "  paths.py\r\n",
      "  waveletLayer.py\r\n"
     ]
    }
   ],
   "source": [
    "!sudo bash setup_wmamba.sh"
   ]
  },
  {
   "cell_type": "markdown",
   "id": "7c813242",
   "metadata": {
    "papermill": {
     "duration": 0.006809,
     "end_time": "2024-06-09T08:45:59.358955",
     "exception": false,
     "start_time": "2024-06-09T08:45:59.352146",
     "status": "completed"
    },
    "tags": []
   },
   "source": [
    "### set env variable"
   ]
  },
  {
   "cell_type": "code",
   "execution_count": 6,
   "id": "d7311c04",
   "metadata": {
    "execution": {
     "iopub.execute_input": "2024-06-09T08:45:59.374701Z",
     "iopub.status.busy": "2024-06-09T08:45:59.374170Z",
     "iopub.status.idle": "2024-06-09T08:45:59.383904Z",
     "shell.execute_reply": "2024-06-09T08:45:59.383141Z"
    },
    "papermill": {
     "duration": 0.020335,
     "end_time": "2024-06-09T08:45:59.386436",
     "exception": false,
     "start_time": "2024-06-09T08:45:59.366101",
     "status": "completed"
    },
    "tags": []
   },
   "outputs": [
    {
     "name": "stdout",
     "output_type": "stream",
     "text": [
      "env: ipynb=1\n",
      "env: nnUNet_preprocessed=/home/nnUNet_preprocessed/\n",
      "env: nnUNet_raw=/home/nnUNet_raw/\n",
      "env: nnUNet_results=/kaggle/working/\n"
     ]
    }
   ],
   "source": [
    "### DO NOT EDIT !!! ###\n",
    "nnUNet_preprocessed=\"/home/nnUNet_preprocessed/\"\n",
    "nnUNet_raw=\"/home/nnUNet_raw/\"\n",
    "nnUNet_results=\"/kaggle/working/\"\n",
    "\n",
    "%env ipynb=1\n",
    "%env nnUNet_preprocessed={nnUNet_preprocessed}\n",
    "%env nnUNet_raw={nnUNet_raw}\n",
    "%env nnUNet_results={nnUNet_results}\n",
    "\n"
   ]
  },
  {
   "cell_type": "markdown",
   "id": "5372f23d",
   "metadata": {
    "papermill": {
     "duration": 0.006822,
     "end_time": "2024-06-09T08:45:59.401199",
     "exception": false,
     "start_time": "2024-06-09T08:45:59.394377",
     "status": "completed"
    },
    "tags": []
   },
   "source": [
    "### parameter (can modify)"
   ]
  },
  {
   "cell_type": "code",
   "execution_count": 7,
   "id": "e1bab595",
   "metadata": {
    "execution": {
     "iopub.execute_input": "2024-06-09T08:45:59.416465Z",
     "iopub.status.busy": "2024-06-09T08:45:59.415942Z",
     "iopub.status.idle": "2024-06-09T08:45:59.423168Z",
     "shell.execute_reply": "2024-06-09T08:45:59.422342Z"
    },
    "papermill": {
     "duration": 0.017119,
     "end_time": "2024-06-09T08:45:59.425322",
     "exception": false,
     "start_time": "2024-06-09T08:45:59.408203",
     "status": "completed"
    },
    "tags": []
   },
   "outputs": [
    {
     "name": "stdout",
     "output_type": "stream",
     "text": [
      "env: training_epochs=300\n",
      "env: checkpoint_save_every=10\n"
     ]
    }
   ],
   "source": [
    "### Epoch ###\n",
    "# **the maximum epoch include all train epoch in every session** #\n",
    "%env training_epochs=300\n",
    "\n",
    "### Checkpoint ###\n",
    "# every {checkpoint_save_every} epochs will save one checkpoint\n",
    "%env checkpoint_save_every = 10\n",
    "load_checkpoint = True\n",
    "\n",
    "prev_checkpoint_f0 = \"/kaggle/input/0603/checkpoint_latest_0.pth\"\n",
    "prev_checkpoint_f1 = \"/kaggle/input/0603/checkpoint_latest_1.pth\"\n",
    "\n",
    "### Kaggle Dataset Input Path ###\n",
    "dataset_path = \"/kaggle/input/Dataset110_CTImage.mp4\"\n",
    "### Dataset ID ###\n",
    "dataset_id = 110\n",
    "\n",
    "### Set Trainer/Model ###\n",
    "trainer = \"nnUNetTrainerWMambaBot\"\n",
    "\n",
    "### Set GPU DRAM for dataset preproccess ###\n",
    "gpu_dram = 8\n"
   ]
  },
  {
   "cell_type": "markdown",
   "id": "3ca2c4d9",
   "metadata": {
    "papermill": {
     "duration": 0.006739,
     "end_time": "2024-06-09T08:45:59.439261",
     "exception": false,
     "start_time": "2024-06-09T08:45:59.432522",
     "status": "completed"
    },
    "tags": []
   },
   "source": [
    "### dataset prepaired"
   ]
  },
  {
   "cell_type": "code",
   "execution_count": 8,
   "id": "e040254b",
   "metadata": {
    "execution": {
     "iopub.execute_input": "2024-06-09T08:45:59.455031Z",
     "iopub.status.busy": "2024-06-09T08:45:59.454370Z",
     "iopub.status.idle": "2024-06-09T09:00:56.706096Z",
     "shell.execute_reply": "2024-06-09T09:00:56.704923Z"
    },
    "papermill": {
     "duration": 897.262075,
     "end_time": "2024-06-09T09:00:56.708442",
     "exception": false,
     "start_time": "2024-06-09T08:45:59.446367",
     "status": "completed"
    },
    "tags": []
   },
   "outputs": [
    {
     "name": "stdout",
     "output_type": "stream",
     "text": [
      "\r\n",
      "\r\n",
      "\r\n",
      "The following NEW packages will be installed:\r\n",
      "  unrar\r\n",
      "0 upgraded, 1 newly installed, 0 to remove and 51 not upgraded.\r\n",
      "Need to get 113 kB of archives.\r\n",
      "After this operation, 406 kB of additional disk space will be used.\r\n",
      "Get:1 http://archive.ubuntu.com/ubuntu focal/multiverse amd64 unrar amd64 1:5.6.6-2build1 [113 kB]\r\n",
      "Fetched 113 kB in 0s (507 kB/s)\r\n",
      "\n",
      "\u001b7\u001b[0;23r\u001b8\u001b[1ASelecting previously unselected package unrar.\r\n",
      "(Reading database ... 113807 files and directories currently installed.)\r\n",
      "Preparing to unpack .../unrar_1%3a5.6.6-2build1_amd64.deb ...\r\n",
      "\u001b7\u001b[24;0f\u001b[42m\u001b[30mProgress: [  0%]\u001b[49m\u001b[39m [..........................................................] \u001b8\u001b7\u001b[24;0f\u001b[42m\u001b[30mProgress: [ 20%]\u001b[49m\u001b[39m [###########...............................................] \u001b8Unpacking unrar (1:5.6.6-2build1) ...\r\n",
      "\u001b7\u001b[24;0f\u001b[42m\u001b[30mProgress: [ 40%]\u001b[49m\u001b[39m [#######################...................................] \u001b8Setting up unrar (1:5.6.6-2build1) ...\r\n",
      "\u001b7\u001b[24;0f\u001b[42m\u001b[30mProgress: [ 60%]\u001b[49m\u001b[39m [##################################........................] \u001b8update-alternatives: using /usr/bin/unrar-nonfree to provide /usr/bin/unrar (unrar) in auto mode\r\n",
      "update-alternatives: warning: skip creation of /usr/share/man/man1/unrar.1.gz because associated file /usr/share/man/man1/unrar-nonfree.1.gz (of link group unrar) doesn't exist\r\n",
      "\u001b7\u001b[24;0f\u001b[42m\u001b[30mProgress: [ 80%]\u001b[49m\u001b[39m [##############################################............] \u001b8Processing triggers for man-db (2.9.1-1) ...\r\n",
      "\r\n",
      "100%|█████████████████████████████████████████| 199/199 [01:11<00:00,  2.80it/s]\r\n",
      "100%|█████████████████████████████████████████| 199/199 [11:28<00:00,  3.46s/it]\r\n"
     ]
    }
   ],
   "source": [
    "if dataset_id == 110:\n",
    "    \"\"\"===== Dataset 110 Covid-19 ====\"\"\"\n",
    "    \"\"\" unrar data folder and move to home. \"\"\"\n",
    "    !apt install unrar\n",
    "    !(unrar x {dataset_path} {nnUNet_raw}) >  /dev/null\n",
    "    \"\"\"dataset preoproccess about 20 mins.\"\"\"\n",
    "    !nnUNetv2_plan_and_preprocess -d 110 --verify_dataset_integrity -c 3d_fullres -gpu_memory_target {gpu_dram} > /dev/null\n",
    "    dataset_id = 110\n",
    "    dataset_name = \"Dataset110_CTImage\"\n",
    "else:\n",
    "    \"\"\"===== Dastaset 4 Hippocampus ====\"\"\"\n",
    "    \"\"\" unzip data folder and move to home. \"\"\"\n",
    "    !(tar -C  /home/ -xvf {dataset_path}) > /dev/null\n",
    "    \"\"\" dataset preoproccess. \"\"\"\n",
    "    !nnUNetv2_convert_MSD_dataset -i /home/Task04_Hippocampus \n",
    "    !nnUNetv2_plan_and_preprocess -d 4 --verify_dataset_integrity -c 3d_fullres -gpu_memory_target {gpu_dram} > /dev/null\n",
    "    dataset_id = 4\n",
    "    dataset_name = \"Dataset004_Hippocampus\"\n"
   ]
  },
  {
   "cell_type": "markdown",
   "id": "c3a60387",
   "metadata": {
    "papermill": {
     "duration": 0.038946,
     "end_time": "2024-06-09T09:00:56.786561",
     "exception": false,
     "start_time": "2024-06-09T09:00:56.747615",
     "status": "completed"
    },
    "tags": []
   },
   "source": [
    "### train"
   ]
  },
  {
   "cell_type": "code",
   "execution_count": 9,
   "id": "1bf4a0a6",
   "metadata": {
    "execution": {
     "iopub.execute_input": "2024-06-09T09:00:56.864899Z",
     "iopub.status.busy": "2024-06-09T09:00:56.864530Z",
     "iopub.status.idle": "2024-06-09T09:00:56.869789Z",
     "shell.execute_reply": "2024-06-09T09:00:56.868953Z"
    },
    "papermill": {
     "duration": 0.046916,
     "end_time": "2024-06-09T09:00:56.871616",
     "exception": false,
     "start_time": "2024-06-09T09:00:56.824700",
     "status": "completed"
    },
    "tags": []
   },
   "outputs": [],
   "source": [
    "# from pathlib import Path\n",
    "# if not load_checkpoint:\n",
    "#     ### first training (no checkpoint) ###\n",
    "#     !CUDA_VISIBLE_DEVICES=0 nnUNetv2_train {dataset_id} 3d_fullres 0 -tr {trainer} --npz & \\\n",
    "#     CUDA_VISIBLE_DEVICES=1 nnUNetv2_train {dataset_id} 3d_fullres 1 -tr {trainer} --npz\n",
    "# else:\n",
    "#     ### load checkpoint, continue train\n",
    "#     current_trainer_folder = f\"{nnUNet_results}{dataset_name}/{trainer}__nnUNetPlans__3d_fullres/\"\n",
    "\n",
    "#     !mkdir -p {current_trainer_folder}/fold_0\n",
    "#     !mkdir -p {current_trainer_folder}/fold_1\n",
    "\n",
    "#     !cp {prev_checkpoint_f0} {current_trainer_folder}/fold_0/checkpoint_best.pth\n",
    "#     !cp {prev_checkpoint_f1} {current_trainer_folder}/fold_1/checkpoint_best.pth\n",
    "    \n",
    "#     # check the checkpoint can be successful loaded\n",
    "#     f0 = [i.name for i in Path(current_trainer_folder+\"fold_0\").glob(\"*.pth\")]\n",
    "#     f1 = [i.name for i in Path(current_trainer_folder+\"fold_1\").glob(\"*.pth\")]\n",
    "#     print(\"Load Checkpoint fold 0\",f0)\n",
    "#     print(\"Load Checkpoint fold 1\",f1)\n",
    "#     if len(f0) <1 or len(f1) <1:\n",
    "#         raise ValueError(\"Load Checkpoint Failed\")\n",
    "    \n",
    "#     !CUDA_VISIBLE_DEVICES=0 nnUNetv2_train {dataset_id} 3d_fullres 0 -tr {trainer} --c --npz & \\\n",
    "#     CUDA_VISIBLE_DEVICES=1 nnUNetv2_train {dataset_id} 3d_fullres 1 -tr {trainer} --c  --npz"
   ]
  },
  {
   "cell_type": "code",
   "execution_count": 10,
   "id": "2ebe1af1",
   "metadata": {
    "execution": {
     "iopub.execute_input": "2024-06-09T09:00:56.948414Z",
     "iopub.status.busy": "2024-06-09T09:00:56.948151Z",
     "iopub.status.idle": "2024-06-09T09:03:37.107094Z",
     "shell.execute_reply": "2024-06-09T09:03:37.105763Z"
    },
    "papermill": {
     "duration": 160.200087,
     "end_time": "2024-06-09T09:03:37.109923",
     "exception": false,
     "start_time": "2024-06-09T09:00:56.909836",
     "status": "completed"
    },
    "tags": []
   },
   "outputs": [],
   "source": [
    "current_trainer_folder = f\"{nnUNet_results}{dataset_name}/{trainer}__nnUNetPlans__3d_fullres/\"\n",
    "!mkdir -p {current_trainer_folder}\n",
    "!cp -r /kaggle/input/fold_0 {current_trainer_folder}/\n",
    "!cp -r /kaggle/input/fold_1 {current_trainer_folder}/\n",
    "!cp -r /kaggle/input/fold_2 {current_trainer_folder}/\n",
    "!cp -r /kaggle/input/fold_3 {current_trainer_folder}/\n",
    "!cp -r /kaggle/input/fold_4 {current_trainer_folder}/\n"
   ]
  },
  {
   "cell_type": "markdown",
   "id": "e880c29e",
   "metadata": {
    "papermill": {
     "duration": 0.038143,
     "end_time": "2024-06-09T09:03:37.189155",
     "exception": false,
     "start_time": "2024-06-09T09:03:37.151012",
     "status": "completed"
    },
    "tags": []
   },
   "source": [
    "### find best fold"
   ]
  },
  {
   "cell_type": "code",
   "execution_count": 11,
   "id": "b6cc7ccd",
   "metadata": {
    "execution": {
     "iopub.execute_input": "2024-06-09T09:03:37.268090Z",
     "iopub.status.busy": "2024-06-09T09:03:37.267465Z",
     "iopub.status.idle": "2024-06-09T09:03:43.455181Z",
     "shell.execute_reply": "2024-06-09T09:03:43.454197Z"
    },
    "papermill": {
     "duration": 6.230144,
     "end_time": "2024-06-09T09:03:43.457623",
     "exception": false,
     "start_time": "2024-06-09T09:03:37.227479",
     "status": "completed"
    },
    "tags": []
   },
   "outputs": [
    {
     "name": "stdout",
     "output_type": "stream",
     "text": [
      "Traceback (most recent call last):\r\n",
      "  File \"/opt/conda/bin/nnUNetv2_find_best_configuration\", line 33, in <module>\r\n",
      "    sys.exit(load_entry_point('nnunetv2', 'console_scripts', 'nnUNetv2_find_best_configuration')())\r\n",
      "  File \"/kaggle/working/WMamba/U-Mamba/umamba/nnunetv2/evaluation/find_best_configuration.py\", line 295, in find_best_configuration_entry_point\r\n",
      "    find_best_configuration(dataset_name, model_dict, allow_ensembling=not args.disable_ensembling,\r\n",
      "  File \"/kaggle/working/WMamba/U-Mamba/umamba/nnunetv2/evaluation/find_best_configuration.py\", line 100, in find_best_configuration\r\n",
      "    accumulate_cv_results(output_folder, merged_output_folder, folds, num_processes, overwrite)\r\n",
      "  File \"/kaggle/working/WMamba/U-Mamba/umamba/nnunetv2/evaluation/accumulate_cv_results.py\", line 26, in accumulate_cv_results\r\n",
      "    dataset_json = load_json(join(trained_model_folder, 'dataset.json'))\r\n",
      "  File \"/opt/conda/lib/python3.10/site-packages/batchgenerators/utilities/file_and_folder_operations.py\", line 68, in load_json\r\n",
      "    with open(file, 'r') as f:\r\n",
      "FileNotFoundError: [Errno 2] No such file or directory: '/kaggle/working/Dataset110_CTImage/nnUNetTrainerWMambaBot__nnUNetPlans__3d_fullres/dataset.json'\r\n"
     ]
    }
   ],
   "source": [
    "!nnUNetv2_find_best_configuration {dataset_id} -c 3d_fullres -tr {trainer} -f 0 1 2 3"
   ]
  },
  {
   "cell_type": "markdown",
   "id": "1e106eb3",
   "metadata": {
    "papermill": {
     "duration": 0.038483,
     "end_time": "2024-06-09T09:03:43.535539",
     "exception": false,
     "start_time": "2024-06-09T09:03:43.497056",
     "status": "completed"
    },
    "tags": []
   },
   "source": [
    "### predict "
   ]
  },
  {
   "cell_type": "code",
   "execution_count": 12,
   "id": "44d894e3",
   "metadata": {
    "execution": {
     "iopub.execute_input": "2024-06-09T09:03:43.613639Z",
     "iopub.status.busy": "2024-06-09T09:03:43.613287Z",
     "iopub.status.idle": "2024-06-09T09:03:50.697437Z",
     "shell.execute_reply": "2024-06-09T09:03:50.696487Z"
    },
    "papermill": {
     "duration": 7.125937,
     "end_time": "2024-06-09T09:03:50.699695",
     "exception": false,
     "start_time": "2024-06-09T09:03:43.573758",
     "status": "completed"
    },
    "tags": []
   },
   "outputs": [
    {
     "name": "stdout",
     "output_type": "stream",
     "text": [
      "Traceback (most recent call last):\r\n",
      "  File \"/opt/conda/bin/nnUNetv2_predict\", line 33, in <module>\r\n",
      "    sys.exit(load_entry_point('nnunetv2', 'console_scripts', 'nnUNetv2_predict')())\r\n",
      "  File \"/kaggle/working/WMamba/U-Mamba/umamba/nnunetv2/inference/predict_from_raw_data.py\", line 826, in predict_entry_point\r\n",
      "    predictor.initialize_from_trained_model_folder(\r\n",
      "  File \"/kaggle/working/WMamba/U-Mamba/umamba/nnunetv2/inference/predict_from_raw_data.py\", line 77, in initialize_from_trained_model_folder\r\n",
      "    dataset_json = load_json(join(model_training_output_dir, 'dataset.json'))\r\n",
      "  File \"/opt/conda/lib/python3.10/site-packages/batchgenerators/utilities/file_and_folder_operations.py\", line 68, in load_json\r\n",
      "    with open(file, 'r') as f:\r\n",
      "FileNotFoundError: [Errno 2] No such file or directory: '/kaggle/working/Dataset110_CTImage/nnUNetTrainerWMambaBot__nnUNetPlans__3d_fullres/dataset.json'\r\n"
     ]
    }
   ],
   "source": [
    "!nnUNetv2_predict -i \"{nnUNet_raw}{dataset_name}/imagesTs\"\\\n",
    "-o \"{nnUNet_results}{dataset_name}/predTs\" \\\n",
    "-d {dataset_id} -c 3d_fullres -tr {trainer} -f 0 1 > /dev/null"
   ]
  },
  {
   "cell_type": "code",
   "execution_count": 13,
   "id": "577a47c0",
   "metadata": {
    "execution": {
     "iopub.execute_input": "2024-06-09T09:03:50.780371Z",
     "iopub.status.busy": "2024-06-09T09:03:50.780071Z",
     "iopub.status.idle": "2024-06-09T09:03:52.763442Z",
     "shell.execute_reply": "2024-06-09T09:03:52.762238Z"
    },
    "papermill": {
     "duration": 2.026679,
     "end_time": "2024-06-09T09:03:52.765941",
     "exception": false,
     "start_time": "2024-06-09T09:03:50.739262",
     "status": "completed"
    },
    "tags": []
   },
   "outputs": [
    {
     "name": "stdout",
     "output_type": "stream",
     "text": [
      "  adding: predTs_rename/ (stored 0%)\r\n"
     ]
    }
   ],
   "source": [
    "!python ./createSubmissionFile.py -s \"{nnUNet_results}{dataset_name}/predTs\" -d \"{nnUNet_results}/predTs_rename\"\n",
    "!(cd {nnUNet_results} && zip -r pred.zip predTs_rename/)"
   ]
  }
 ],
 "metadata": {
  "kaggle": {
   "accelerator": "nvidiaTeslaT4",
   "dataSources": [
    {
     "datasetId": 4751735,
     "sourceId": 8645318,
     "sourceType": "datasetVersion"
    }
   ],
   "dockerImageVersionId": 30674,
   "isGpuEnabled": true,
   "isInternetEnabled": true,
   "language": "python",
   "sourceType": "notebook"
  },
  "kernelspec": {
   "display_name": "Python 3",
   "language": "python",
   "name": "python3"
  },
  "language_info": {
   "codemirror_mode": {
    "name": "ipython",
    "version": 3
   },
   "file_extension": ".py",
   "mimetype": "text/x-python",
   "name": "python",
   "nbconvert_exporter": "python",
   "pygments_lexer": "ipython3",
   "version": "3.10.13"
  },
  "papermill": {
   "default_parameters": {},
   "duration": 1205.923957,
   "end_time": "2024-06-09T09:03:53.026305",
   "environment_variables": {},
   "exception": null,
   "input_path": "__notebook__.ipynb",
   "output_path": "__notebook__.ipynb",
   "parameters": {},
   "start_time": "2024-06-09T08:43:47.102348",
   "version": "2.5.0"
  }
 },
 "nbformat": 4,
 "nbformat_minor": 5
}
