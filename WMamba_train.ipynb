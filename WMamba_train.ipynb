{
 "cells": [
  {
   "cell_type": "markdown",
   "id": "5812a26a",
   "metadata": {
    "papermill": {
     "duration": 0.006641,
     "end_time": "2024-06-11T05:31:33.019068",
     "exception": false,
     "start_time": "2024-06-11T05:31:33.012427",
     "status": "completed"
    },
    "tags": []
   },
   "source": [
    "## Device use T4 * 2"
   ]
  },
  {
   "cell_type": "markdown",
   "id": "d1844d6e",
   "metadata": {
    "papermill": {
     "duration": 0.005553,
     "end_time": "2024-06-11T05:31:33.030701",
     "exception": false,
     "start_time": "2024-06-11T05:31:33.025148",
     "status": "completed"
    },
    "tags": []
   },
   "source": [
    "#### Clone WMamba & U-Mamba Repo"
   ]
  },
  {
   "cell_type": "code",
   "execution_count": 1,
   "id": "463b8fcd",
   "metadata": {
    "_cell_guid": "b1076dfc-b9ad-4769-8c92-a6c4dae69d19",
    "_uuid": "8f2839f25d086af736a60e9eeb907d3b93b6e0e5",
    "execution": {
     "iopub.execute_input": "2024-06-11T05:31:33.044198Z",
     "iopub.status.busy": "2024-06-11T05:31:33.043797Z",
     "iopub.status.idle": "2024-06-11T05:31:36.107351Z",
     "shell.execute_reply": "2024-06-11T05:31:36.106396Z"
    },
    "papermill": {
     "duration": 3.073343,
     "end_time": "2024-06-11T05:31:36.109711",
     "exception": false,
     "start_time": "2024-06-11T05:31:33.036368",
     "status": "completed"
    },
    "tags": []
   },
   "outputs": [
    {
     "name": "stdout",
     "output_type": "stream",
     "text": [
      "Cloning into 'WMamba'...\r\n",
      "remote: Enumerating objects: 226, done.\u001b[K\r\n",
      "remote: Counting objects: 100% (93/93), done.\u001b[K\r\n",
      "remote: Compressing objects: 100% (35/35), done.\u001b[K\r\n",
      "remote: Total 226 (delta 68), reused 58 (delta 58), pack-reused 133\u001b[K\r\n",
      "Receiving objects: 100% (226/226), 165.63 KiB | 2.15 MiB/s, done.\r\n",
      "Resolving deltas: 100% (123/123), done.\r\n",
      "/kaggle/working/WMamba\n",
      "Cloning into 'U-Mamba'...\r\n",
      "remote: Enumerating objects: 301, done.\u001b[K\r\n",
      "remote: Counting objects: 100% (60/60), done.\u001b[K\r\n",
      "remote: Compressing objects: 100% (45/45), done.\u001b[K\r\n",
      "remote: Total 301 (delta 46), reused 15 (delta 15), pack-reused 241\u001b[K\r\n",
      "Receiving objects: 100% (301/301), 2.91 MiB | 15.77 MiB/s, done.\r\n",
      "Resolving deltas: 100% (81/81), done.\r\n"
     ]
    }
   ],
   "source": [
    "!git clone https://github.com/Yui-Arthur/WMamba.git > /dev/null\n",
    "%cd WMamba\n",
    "!git clone https://github.com/bowang-lab/U-Mamba.git > /dev/null"
   ]
  },
  {
   "cell_type": "code",
   "execution_count": 2,
   "id": "e905305d",
   "metadata": {
    "execution": {
     "iopub.execute_input": "2024-06-11T05:31:36.126771Z",
     "iopub.status.busy": "2024-06-11T05:31:36.126458Z",
     "iopub.status.idle": "2024-06-11T05:31:37.133330Z",
     "shell.execute_reply": "2024-06-11T05:31:37.132084Z"
    },
    "papermill": {
     "duration": 1.018069,
     "end_time": "2024-06-11T05:31:37.135723",
     "exception": false,
     "start_time": "2024-06-11T05:31:36.117654",
     "status": "completed"
    },
    "tags": []
   },
   "outputs": [
    {
     "name": "stdout",
     "output_type": "stream",
     "text": [
      "Branch 'Kaggle' set up to track remote branch 'Kaggle' from 'origin'.\r\n",
      "Switched to a new branch 'Kaggle'\r\n"
     ]
    }
   ],
   "source": [
    "!git checkout Kaggle"
   ]
  },
  {
   "cell_type": "markdown",
   "id": "20d4403a",
   "metadata": {
    "papermill": {
     "duration": 0.009597,
     "end_time": "2024-06-11T05:31:37.153716",
     "exception": false,
     "start_time": "2024-06-11T05:31:37.144119",
     "status": "completed"
    },
    "tags": []
   },
   "source": [
    "#### Mabma & U-Mamba & WMamba reqirement"
   ]
  },
  {
   "cell_type": "code",
   "execution_count": 3,
   "id": "d491ea8a",
   "metadata": {
    "execution": {
     "iopub.execute_input": "2024-06-11T05:31:37.174545Z",
     "iopub.status.busy": "2024-06-11T05:31:37.174076Z",
     "iopub.status.idle": "2024-06-11T05:33:25.058466Z",
     "shell.execute_reply": "2024-06-11T05:33:25.057198Z"
    },
    "papermill": {
     "duration": 107.897862,
     "end_time": "2024-06-11T05:33:25.061034",
     "exception": false,
     "start_time": "2024-06-11T05:31:37.163172",
     "status": "completed"
    },
    "tags": []
   },
   "outputs": [],
   "source": [
    "!pip install causal-conv1d>=1.2.0 --no-cache-dir > /dev/null\n",
    "!pip install mamba-ssm --no-cache-dir > /dev/null\n",
    "!cd U-Mamba/umamba && (pip install -e .) > /dev/null"
   ]
  },
  {
   "cell_type": "code",
   "execution_count": 4,
   "id": "55eab046",
   "metadata": {
    "execution": {
     "iopub.execute_input": "2024-06-11T05:33:25.078780Z",
     "iopub.status.busy": "2024-06-11T05:33:25.078012Z",
     "iopub.status.idle": "2024-06-11T05:33:51.653458Z",
     "shell.execute_reply": "2024-06-11T05:33:51.652150Z"
    },
    "papermill": {
     "duration": 26.587254,
     "end_time": "2024-06-11T05:33:51.655900",
     "exception": false,
     "start_time": "2024-06-11T05:33:25.068646",
     "status": "completed"
    },
    "tags": []
   },
   "outputs": [
    {
     "name": "stdout",
     "output_type": "stream",
     "text": [
      "\u001b[31mERROR: pip's dependency resolver does not currently take into account all the packages that are installed. This behaviour is the source of the following dependency conflicts.\r\n",
      "jupyterlab 4.1.5 requires jupyter-lsp>=2.0.0, but you have jupyter-lsp 1.5.1 which is incompatible.\r\n",
      "jupyterlab-lsp 5.1.0 requires jupyter-lsp>=2.0.0, but you have jupyter-lsp 1.5.1 which is incompatible.\r\n",
      "libpysal 4.9.2 requires packaging>=22, but you have packaging 21.3 which is incompatible.\r\n",
      "libpysal 4.9.2 requires shapely>=2.0.1, but you have shapely 1.8.5.post1 which is incompatible.\r\n",
      "momepy 0.7.0 requires shapely>=2, but you have shapely 1.8.5.post1 which is incompatible.\r\n",
      "spopt 0.6.0 requires shapely>=2.0.1, but you have shapely 1.8.5.post1 which is incompatible.\u001b[0m\u001b[31m\r\n",
      "\u001b[0m"
     ]
    }
   ],
   "source": [
    "!pip install ptwt >  /dev/null\n",
    "!pip install PyWavelets >  /dev/null"
   ]
  },
  {
   "cell_type": "code",
   "execution_count": 5,
   "id": "7a8a38d5",
   "metadata": {
    "execution": {
     "iopub.execute_input": "2024-06-11T05:33:51.672878Z",
     "iopub.status.busy": "2024-06-11T05:33:51.672553Z",
     "iopub.status.idle": "2024-06-11T05:33:52.719787Z",
     "shell.execute_reply": "2024-06-11T05:33:52.718694Z"
    },
    "papermill": {
     "duration": 1.058498,
     "end_time": "2024-06-11T05:33:52.722290",
     "exception": false,
     "start_time": "2024-06-11T05:33:51.663792",
     "status": "completed"
    },
    "tags": []
   },
   "outputs": [
    {
     "name": "stdout",
     "output_type": "stream",
     "text": [
      "Setup WMamba\r\n",
      "CP File From W-Mamba to U-Mamba\r\n",
      "Trainer:\r\n",
      "  nnUNetTrainerWMambaBot.py\r\n",
      "  nnUNetTrainerUMambaBot.py\r\n",
      "  nnUNetTrainerUMambaEnc.py\r\n",
      "  nnUNetTrainerUMambaEncNoAMP.py\r\n",
      "  nnUNetTrainerWMambaBase.py\r\n",
      "Nets:\r\n",
      "  WMambaBot_3d.py\r\n",
      "Others:\r\n",
      "  paths.py\r\n",
      "  waveletLayer.py\r\n"
     ]
    }
   ],
   "source": [
    "!sudo bash setup_wmamba.sh"
   ]
  },
  {
   "cell_type": "markdown",
   "id": "a75c7e37",
   "metadata": {
    "papermill": {
     "duration": 0.008291,
     "end_time": "2024-06-11T05:33:52.739398",
     "exception": false,
     "start_time": "2024-06-11T05:33:52.731107",
     "status": "completed"
    },
    "tags": []
   },
   "source": [
    "### set env variable"
   ]
  },
  {
   "cell_type": "code",
   "execution_count": 6,
   "id": "03f16c59",
   "metadata": {
    "execution": {
     "iopub.execute_input": "2024-06-11T05:33:52.757994Z",
     "iopub.status.busy": "2024-06-11T05:33:52.757624Z",
     "iopub.status.idle": "2024-06-11T05:33:52.768942Z",
     "shell.execute_reply": "2024-06-11T05:33:52.767827Z"
    },
    "papermill": {
     "duration": 0.023324,
     "end_time": "2024-06-11T05:33:52.771244",
     "exception": false,
     "start_time": "2024-06-11T05:33:52.747920",
     "status": "completed"
    },
    "tags": []
   },
   "outputs": [
    {
     "name": "stdout",
     "output_type": "stream",
     "text": [
      "env: ipynb=1\n",
      "env: nnUNet_preprocessed=/home/nnUNet_preprocessed/\n",
      "env: nnUNet_raw=/home/nnUNet_raw/\n",
      "env: nnUNet_results=/kaggle/working/\n"
     ]
    }
   ],
   "source": [
    "### DO NOT EDIT !!! ###\n",
    "nnUNet_preprocessed=\"/home/nnUNet_preprocessed/\"\n",
    "nnUNet_raw=\"/home/nnUNet_raw/\"\n",
    "nnUNet_results=\"/kaggle/working/\"\n",
    "\n",
    "%env ipynb=1\n",
    "%env nnUNet_preprocessed={nnUNet_preprocessed}\n",
    "%env nnUNet_raw={nnUNet_raw}\n",
    "%env nnUNet_results={nnUNet_results}\n",
    "\n"
   ]
  },
  {
   "cell_type": "markdown",
   "id": "ce95b20b",
   "metadata": {
    "papermill": {
     "duration": 0.008371,
     "end_time": "2024-06-11T05:33:52.788113",
     "exception": false,
     "start_time": "2024-06-11T05:33:52.779742",
     "status": "completed"
    },
    "tags": []
   },
   "source": [
    "### parameter (can modify)"
   ]
  },
  {
   "cell_type": "code",
   "execution_count": 7,
   "id": "aacef60b",
   "metadata": {
    "execution": {
     "iopub.execute_input": "2024-06-11T05:33:52.806472Z",
     "iopub.status.busy": "2024-06-11T05:33:52.806176Z",
     "iopub.status.idle": "2024-06-11T05:33:52.813929Z",
     "shell.execute_reply": "2024-06-11T05:33:52.813039Z"
    },
    "papermill": {
     "duration": 0.019019,
     "end_time": "2024-06-11T05:33:52.816054",
     "exception": false,
     "start_time": "2024-06-11T05:33:52.797035",
     "status": "completed"
    },
    "tags": []
   },
   "outputs": [
    {
     "name": "stdout",
     "output_type": "stream",
     "text": [
      "env: training_epochs=300\n",
      "env: checkpoint_save_every=10\n"
     ]
    }
   ],
   "source": [
    "### Epoch ###\n",
    "# **the maximum epoch include all train epoch in every session** #\n",
    "%env training_epochs=300\n",
    "\n",
    "### Checkpoint ###\n",
    "# every {checkpoint_save_every} epochs will save one checkpoint\n",
    "%env checkpoint_save_every = 10\n",
    "load_checkpoint = True\n",
    "\n",
    "prev_checkpoint_f0 = \"/kaggle/input/0603/checkpoint_latest_0.pth\"\n",
    "prev_checkpoint_f1 = \"/kaggle/input/0603/checkpoint_latest_1.pth\"\n",
    "\n",
    "### Kaggle Dataset Input Path ###\n",
    "dataset_path = \"/kaggle/input/Dataset110_CTImage.mp4\"\n",
    "### Dataset ID ###\n",
    "dataset_id = 110\n",
    "\n",
    "### Set Trainer/Model ###\n",
    "trainer = \"nnUNetTrainerWMambaBot\"\n",
    "\n",
    "### Set GPU DRAM for dataset preproccess ###\n",
    "gpu_dram = 8\n"
   ]
  },
  {
   "cell_type": "markdown",
   "id": "0be167ed",
   "metadata": {
    "papermill": {
     "duration": 0.007688,
     "end_time": "2024-06-11T05:33:52.831737",
     "exception": false,
     "start_time": "2024-06-11T05:33:52.824049",
     "status": "completed"
    },
    "tags": []
   },
   "source": [
    "### dataset prepaired"
   ]
  },
  {
   "cell_type": "code",
   "execution_count": 8,
   "id": "5e10a21f",
   "metadata": {
    "execution": {
     "iopub.execute_input": "2024-06-11T05:33:52.848760Z",
     "iopub.status.busy": "2024-06-11T05:33:52.848499Z",
     "iopub.status.idle": "2024-06-11T05:49:06.875080Z",
     "shell.execute_reply": "2024-06-11T05:49:06.873653Z"
    },
    "papermill": {
     "duration": 914.038719,
     "end_time": "2024-06-11T05:49:06.878361",
     "exception": false,
     "start_time": "2024-06-11T05:33:52.839642",
     "status": "completed"
    },
    "tags": []
   },
   "outputs": [
    {
     "name": "stdout",
     "output_type": "stream",
     "text": [
      "\r\n",
      "\r\n",
      "\r\n",
      "The following NEW packages will be installed:\r\n",
      "  unrar\r\n",
      "0 upgraded, 1 newly installed, 0 to remove and 51 not upgraded.\r\n",
      "Need to get 113 kB of archives.\r\n",
      "After this operation, 406 kB of additional disk space will be used.\r\n",
      "Get:1 http://archive.ubuntu.com/ubuntu focal/multiverse amd64 unrar amd64 1:5.6.6-2build1 [113 kB]\r\n",
      "Fetched 113 kB in 0s (511 kB/s)\r\n",
      "\n",
      "\u001b7\u001b[0;23r\u001b8\u001b[1ASelecting previously unselected package unrar.\r\n",
      "(Reading database ... 113807 files and directories currently installed.)\r\n",
      "Preparing to unpack .../unrar_1%3a5.6.6-2build1_amd64.deb ...\r\n",
      "\u001b7\u001b[24;0f\u001b[42m\u001b[30mProgress: [  0%]\u001b[49m\u001b[39m [..........................................................] \u001b8\u001b7\u001b[24;0f\u001b[42m\u001b[30mProgress: [ 20%]\u001b[49m\u001b[39m [###########...............................................] \u001b8Unpacking unrar (1:5.6.6-2build1) ...\r\n",
      "\u001b7\u001b[24;0f\u001b[42m\u001b[30mProgress: [ 40%]\u001b[49m\u001b[39m [#######################...................................] \u001b8Setting up unrar (1:5.6.6-2build1) ...\r\n",
      "\u001b7\u001b[24;0f\u001b[42m\u001b[30mProgress: [ 60%]\u001b[49m\u001b[39m [##################################........................] \u001b8update-alternatives: using /usr/bin/unrar-nonfree to provide /usr/bin/unrar (unrar) in auto mode\r\n",
      "update-alternatives: warning: skip creation of /usr/share/man/man1/unrar.1.gz because associated file /usr/share/man/man1/unrar-nonfree.1.gz (of link group unrar) doesn't exist\r\n",
      "\u001b7\u001b[24;0f\u001b[42m\u001b[30mProgress: [ 80%]\u001b[49m\u001b[39m [##############################################............] \u001b8Processing triggers for man-db (2.9.1-1) ...\r\n",
      "\r\n",
      "100%|█████████████████████████████████████████| 199/199 [01:14<00:00,  2.67it/s]\r\n",
      "100%|█████████████████████████████████████████| 199/199 [11:39<00:00,  3.52s/it]\r\n"
     ]
    }
   ],
   "source": [
    "if dataset_id == 110:\n",
    "    \"\"\"===== Dataset 110 Covid-19 ====\"\"\"\n",
    "    \"\"\" unrar data folder and move to home. \"\"\"\n",
    "    !apt install unrar\n",
    "    !(unrar x {dataset_path} {nnUNet_raw}) >  /dev/null\n",
    "    \"\"\"dataset preoproccess about 20 mins.\"\"\"\n",
    "    !nnUNetv2_plan_and_preprocess -d 110 --verify_dataset_integrity -c 3d_fullres -gpu_memory_target {gpu_dram} > /dev/null\n",
    "    dataset_id = 110\n",
    "    dataset_name = \"Dataset110_CTImage\"\n",
    "else:\n",
    "    \"\"\"===== Dastaset 4 Hippocampus ====\"\"\"\n",
    "    \"\"\" unzip data folder and move to home. \"\"\"\n",
    "    !(tar -C  /home/ -xvf {dataset_path}) > /dev/null\n",
    "    \"\"\" dataset preoproccess. \"\"\"\n",
    "    !nnUNetv2_convert_MSD_dataset -i /home/Task04_Hippocampus \n",
    "    !nnUNetv2_plan_and_preprocess -d 4 --verify_dataset_integrity -c 3d_fullres -gpu_memory_target {gpu_dram} > /dev/null\n",
    "    dataset_id = 4\n",
    "    dataset_name = \"Dataset004_Hippocampus\"\n"
   ]
  },
  {
   "cell_type": "markdown",
   "id": "3ce9a6a3",
   "metadata": {
    "papermill": {
     "duration": 0.040632,
     "end_time": "2024-06-11T05:49:06.964267",
     "exception": false,
     "start_time": "2024-06-11T05:49:06.923635",
     "status": "completed"
    },
    "tags": []
   },
   "source": [
    "### train"
   ]
  },
  {
   "cell_type": "code",
   "execution_count": 9,
   "id": "582c9751",
   "metadata": {
    "execution": {
     "iopub.execute_input": "2024-06-11T05:49:07.045617Z",
     "iopub.status.busy": "2024-06-11T05:49:07.045230Z",
     "iopub.status.idle": "2024-06-11T05:49:07.050825Z",
     "shell.execute_reply": "2024-06-11T05:49:07.049925Z"
    },
    "papermill": {
     "duration": 0.048565,
     "end_time": "2024-06-11T05:49:07.052941",
     "exception": false,
     "start_time": "2024-06-11T05:49:07.004376",
     "status": "completed"
    },
    "tags": []
   },
   "outputs": [],
   "source": [
    "# from pathlib import Path\n",
    "# if not load_checkpoint:\n",
    "#     ### first training (no checkpoint) ###\n",
    "#     !CUDA_VISIBLE_DEVICES=0 nnUNetv2_train {dataset_id} 3d_fullres 0 -tr {trainer} --npz & \\\n",
    "#     CUDA_VISIBLE_DEVICES=1 nnUNetv2_train {dataset_id} 3d_fullres 1 -tr {trainer} --npz\n",
    "# else:\n",
    "#     ### load checkpoint, continue train\n",
    "#     current_trainer_folder = f\"{nnUNet_results}{dataset_name}/{trainer}__nnUNetPlans__3d_fullres/\"\n",
    "\n",
    "#     !mkdir -p {current_trainer_folder}/fold_0\n",
    "#     !mkdir -p {current_trainer_folder}/fold_1\n",
    "\n",
    "#     !cp {prev_checkpoint_f0} {current_trainer_folder}/fold_0/checkpoint_best.pth\n",
    "#     !cp {prev_checkpoint_f1} {current_trainer_folder}/fold_1/checkpoint_best.pth\n",
    "    \n",
    "#     # check the checkpoint can be successful loaded\n",
    "#     f0 = [i.name for i in Path(current_trainer_folder+\"fold_0\").glob(\"*.pth\")]\n",
    "#     f1 = [i.name for i in Path(current_trainer_folder+\"fold_1\").glob(\"*.pth\")]\n",
    "#     print(\"Load Checkpoint fold 0\",f0)\n",
    "#     print(\"Load Checkpoint fold 1\",f1)\n",
    "#     if len(f0) <1 or len(f1) <1:\n",
    "#         raise ValueError(\"Load Checkpoint Failed\")\n",
    "    \n",
    "#     !CUDA_VISIBLE_DEVICES=0 nnUNetv2_train {dataset_id} 3d_fullres 0 -tr {trainer} --c --npz & \\\n",
    "#     CUDA_VISIBLE_DEVICES=1 nnUNetv2_train {dataset_id} 3d_fullres 1 -tr {trainer} --c  --npz"
   ]
  },
  {
   "cell_type": "code",
   "execution_count": 10,
   "id": "92f8a9fc",
   "metadata": {
    "execution": {
     "iopub.execute_input": "2024-06-11T05:49:07.136439Z",
     "iopub.status.busy": "2024-06-11T05:49:07.136099Z",
     "iopub.status.idle": "2024-06-11T05:54:00.416809Z",
     "shell.execute_reply": "2024-06-11T05:54:00.412678Z"
    },
    "papermill": {
     "duration": 293.32723,
     "end_time": "2024-06-11T05:54:00.419722",
     "exception": false,
     "start_time": "2024-06-11T05:49:07.092492",
     "status": "completed"
    },
    "tags": []
   },
   "outputs": [],
   "source": [
    "current_trainer_folder = f\"{nnUNet_results}{dataset_name}/{trainer}__nnUNetPlans__3d_fullres/\"\n",
    "!mkdir -p {current_trainer_folder}\n",
    "!(unzip /kaggle/input/W-Maba-Bot-5fold.mp4 -d {current_trainer_folder}/) > /dev/null\n",
    "!mv {current_trainer_folder}/W-Maba-Bot-5fold/* {current_trainer_folder}\n",
    "!rmdir {current_trainer_folder}/W-Maba-Bot-5fold\n",
    "!cp /kaggle/input/dataset.json {current_trainer_folder}/\n",
    "!cp /kaggle/input/dataset_fingerprint.json {current_trainer_folder}/\n",
    "!cp /kaggle/input/plans.json {current_trainer_folder}/\n",
    "\n"
   ]
  },
  {
   "cell_type": "markdown",
   "id": "5a17598a",
   "metadata": {
    "papermill": {
     "duration": 0.03912,
     "end_time": "2024-06-11T05:54:00.498158",
     "exception": false,
     "start_time": "2024-06-11T05:54:00.459038",
     "status": "completed"
    },
    "tags": []
   },
   "source": [
    "### find best fold"
   ]
  },
  {
   "cell_type": "code",
   "execution_count": 11,
   "id": "638a3f6e",
   "metadata": {
    "execution": {
     "iopub.execute_input": "2024-06-11T05:54:00.578040Z",
     "iopub.status.busy": "2024-06-11T05:54:00.577666Z",
     "iopub.status.idle": "2024-06-11T05:55:58.079021Z",
     "shell.execute_reply": "2024-06-11T05:55:58.077520Z"
    },
    "papermill": {
     "duration": 117.544558,
     "end_time": "2024-06-11T05:55:58.081744",
     "exception": false,
     "start_time": "2024-06-11T05:54:00.537186",
     "status": "completed"
    },
    "tags": []
   },
   "outputs": [
    {
     "name": "stdout",
     "output_type": "stream",
     "text": [
      "\r\n",
      "***All results:***\r\n",
      "nnUNetTrainerWMambaBot__nnUNetPlans__3d_fullres: 0.7309665093224192\r\n",
      "\r\n",
      "*Best*: nnUNetTrainerWMambaBot__nnUNetPlans__3d_fullres: 0.7309665093224192\r\n",
      "\r\n",
      "***Determining postprocessing for best model/ensemble***\r\n",
      "WARNING: Not all files in folder_ref were found in folder_predictions. Determining postprocessing should always be done on the entire dataset!\r\n",
      "Removing all but the largest foreground region did not improve results!\r\n",
      "\r\n",
      "***Run inference like this:***\r\n",
      "\r\n",
      "nnUNetv2_predict -d Dataset110_CTImage -i INPUT_FOLDER -o OUTPUT_FOLDER -f  0 1 2 3 4 -tr nnUNetTrainerWMambaBot -c 3d_fullres -p nnUNetPlans\r\n",
      "\r\n",
      "***Once inference is completed, run postprocessing like this:***\r\n",
      "\r\n",
      "nnUNetv2_apply_postprocessing -i OUTPUT_FOLDER -o OUTPUT_FOLDER_PP -pp_pkl_file /kaggle/working/Dataset110_CTImage/nnUNetTrainerWMambaBot__nnUNetPlans__3d_fullres/crossval_results_folds_0_1_2_3_4/postprocessing.pkl -np 8 -plans_json /kaggle/working/Dataset110_CTImage/nnUNetTrainerWMambaBot__nnUNetPlans__3d_fullres/crossval_results_folds_0_1_2_3_4/plans.json\r\n"
     ]
    }
   ],
   "source": [
    "!nnUNetv2_find_best_configuration {dataset_id} -c 3d_fullres -tr {trainer} -f 0 1 2 3 4"
   ]
  },
  {
   "cell_type": "markdown",
   "id": "3e052b47",
   "metadata": {
    "papermill": {
     "duration": 0.044415,
     "end_time": "2024-06-11T05:55:58.171933",
     "exception": false,
     "start_time": "2024-06-11T05:55:58.127518",
     "status": "completed"
    },
    "tags": []
   },
   "source": [
    "### predict "
   ]
  },
  {
   "cell_type": "code",
   "execution_count": 12,
   "id": "5d2f6dea",
   "metadata": {
    "execution": {
     "iopub.execute_input": "2024-06-11T05:55:58.260274Z",
     "iopub.status.busy": "2024-06-11T05:55:58.259455Z",
     "iopub.status.idle": "2024-06-11T12:49:33.413079Z",
     "shell.execute_reply": "2024-06-11T12:49:33.411684Z"
    },
    "papermill": {
     "duration": 24815.200165,
     "end_time": "2024-06-11T12:49:33.415643",
     "exception": false,
     "start_time": "2024-06-11T05:55:58.215478",
     "status": "completed"
    },
    "tags": []
   },
   "outputs": [
    {
     "name": "stdout",
     "output_type": "stream",
     "text": [
      "2024-06-11 05:57:00.182566: E external/local_xla/xla/stream_executor/cuda/cuda_dnn.cc:9261] Unable to register cuDNN factory: Attempting to register factory for plugin cuDNN when one has already been registered\r\n",
      "2024-06-11 05:57:00.182727: E external/local_xla/xla/stream_executor/cuda/cuda_fft.cc:607] Unable to register cuFFT factory: Attempting to register factory for plugin cuFFT when one has already been registered\r\n",
      "2024-06-11 05:57:00.316935: E external/local_xla/xla/stream_executor/cuda/cuda_blas.cc:1515] Unable to register cuBLAS factory: Attempting to register factory for plugin cuBLAS when one has already been registered\r\n",
      "/kaggle/working/WMamba/U-Mamba/umamba/nnunetv2/waveletLayer.py:30: UserWarning: The wavelet_level is zero, auto set one to avoid error\r\n",
      "  warnings.warn(\"The wavelet_level is zero, auto set one to avoid error\")\r\n",
      "100%|█████████████████████████████████████████████| 1/1 [00:03<00:00,  3.26s/it]\r\n",
      "100%|█████████████████████████████████████████████| 1/1 [00:01<00:00,  1.84s/it]\r\n",
      "100%|█████████████████████████████████████████████| 1/1 [00:01<00:00,  1.83s/it]\r\n",
      "100%|█████████████████████████████████████████████| 1/1 [00:01<00:00,  1.84s/it]\r\n",
      "100%|█████████████████████████████████████████████| 1/1 [00:01<00:00,  1.84s/it]\r\n",
      "100%|███████████████████████████████████████████| 48/48 [01:40<00:00,  2.09s/it]\r\n",
      "100%|███████████████████████████████████████████| 48/48 [01:47<00:00,  2.24s/it]\r\n",
      "100%|███████████████████████████████████████████| 48/48 [01:47<00:00,  2.24s/it]\r\n",
      "100%|███████████████████████████████████████████| 48/48 [01:47<00:00,  2.23s/it]\r\n",
      "100%|███████████████████████████████████████████| 48/48 [01:47<00:00,  2.23s/it]\r\n",
      "100%|███████████████████████████████████████████| 64/64 [02:22<00:00,  2.23s/it]\r\n",
      "100%|███████████████████████████████████████████| 64/64 [02:22<00:00,  2.23s/it]\r\n",
      "100%|███████████████████████████████████████████| 64/64 [02:22<00:00,  2.23s/it]\r\n",
      "100%|███████████████████████████████████████████| 64/64 [02:23<00:00,  2.24s/it]\r\n",
      "100%|███████████████████████████████████████████| 64/64 [02:23<00:00,  2.24s/it]\r\n",
      "100%|███████████████████████████████████████████| 48/48 [01:47<00:00,  2.24s/it]\r\n",
      "100%|███████████████████████████████████████████| 48/48 [01:47<00:00,  2.24s/it]\r\n",
      "100%|███████████████████████████████████████████| 48/48 [01:47<00:00,  2.24s/it]\r\n",
      "100%|███████████████████████████████████████████| 48/48 [01:47<00:00,  2.24s/it]\r\n",
      "100%|███████████████████████████████████████████| 48/48 [01:47<00:00,  2.24s/it]\r\n",
      "100%|███████████████████████████████████████████| 36/36 [01:20<00:00,  2.23s/it]\r\n",
      "100%|███████████████████████████████████████████| 36/36 [01:20<00:00,  2.24s/it]\r\n",
      "100%|███████████████████████████████████████████| 36/36 [01:20<00:00,  2.24s/it]\r\n",
      "100%|███████████████████████████████████████████| 36/36 [01:20<00:00,  2.24s/it]\r\n",
      "100%|███████████████████████████████████████████| 36/36 [01:20<00:00,  2.24s/it]\r\n",
      "100%|███████████████████████████████████████████| 64/64 [02:23<00:00,  2.24s/it]\r\n",
      "100%|███████████████████████████████████████████| 64/64 [02:23<00:00,  2.24s/it]\r\n",
      "100%|███████████████████████████████████████████| 64/64 [02:23<00:00,  2.24s/it]\r\n",
      "100%|███████████████████████████████████████████| 64/64 [02:23<00:00,  2.24s/it]\r\n",
      "100%|███████████████████████████████████████████| 64/64 [02:23<00:00,  2.24s/it]\r\n",
      "100%|███████████████████████████████████████████| 27/27 [01:00<00:00,  2.23s/it]\r\n",
      "100%|███████████████████████████████████████████| 27/27 [01:00<00:00,  2.24s/it]\r\n",
      "100%|███████████████████████████████████████████| 27/27 [01:00<00:00,  2.24s/it]\r\n",
      "100%|███████████████████████████████████████████| 27/27 [01:00<00:00,  2.24s/it]\r\n",
      "100%|███████████████████████████████████████████| 27/27 [01:00<00:00,  2.23s/it]\r\n",
      "100%|███████████████████████████████████████████| 64/64 [02:22<00:00,  2.23s/it]\r\n",
      "100%|███████████████████████████████████████████| 64/64 [02:23<00:00,  2.24s/it]\r\n",
      "100%|███████████████████████████████████████████| 64/64 [02:23<00:00,  2.24s/it]\r\n",
      "100%|███████████████████████████████████████████| 64/64 [02:23<00:00,  2.24s/it]\r\n",
      "100%|███████████████████████████████████████████| 64/64 [02:22<00:00,  2.23s/it]\r\n",
      "100%|█████████████████████████████████████████████| 4/4 [00:08<00:00,  2.21s/it]\r\n",
      "100%|█████████████████████████████████████████████| 4/4 [00:08<00:00,  2.20s/it]\r\n",
      "100%|█████████████████████████████████████████████| 4/4 [00:08<00:00,  2.20s/it]\r\n",
      "100%|█████████████████████████████████████████████| 4/4 [00:08<00:00,  2.20s/it]\r\n",
      "100%|█████████████████████████████████████████████| 4/4 [00:08<00:00,  2.21s/it]\r\n",
      "100%|███████████████████████████████████████████| 27/27 [01:00<00:00,  2.23s/it]\r\n",
      "100%|███████████████████████████████████████████| 27/27 [01:00<00:00,  2.23s/it]\r\n",
      "100%|███████████████████████████████████████████| 27/27 [01:00<00:00,  2.24s/it]\r\n",
      "100%|███████████████████████████████████████████| 27/27 [01:00<00:00,  2.24s/it]\r\n",
      "100%|███████████████████████████████████████████| 27/27 [01:00<00:00,  2.23s/it]\r\n",
      "100%|███████████████████████████████████████████| 64/64 [02:22<00:00,  2.23s/it]\r\n",
      "100%|███████████████████████████████████████████| 64/64 [02:23<00:00,  2.24s/it]\r\n",
      "100%|███████████████████████████████████████████| 64/64 [02:23<00:00,  2.23s/it]\r\n",
      "100%|███████████████████████████████████████████| 64/64 [02:23<00:00,  2.23s/it]\r\n",
      "100%|███████████████████████████████████████████| 64/64 [02:23<00:00,  2.24s/it]\r\n",
      "100%|███████████████████████████████████████████| 64/64 [02:22<00:00,  2.23s/it]\r\n",
      "100%|███████████████████████████████████████████| 64/64 [02:22<00:00,  2.22s/it]\r\n",
      "100%|███████████████████████████████████████████| 64/64 [02:21<00:00,  2.22s/it]\r\n",
      "100%|███████████████████████████████████████████| 64/64 [02:22<00:00,  2.23s/it]\r\n",
      "100%|███████████████████████████████████████████| 64/64 [02:22<00:00,  2.22s/it]\r\n",
      "100%|███████████████████████████████████████████| 36/36 [01:19<00:00,  2.22s/it]\r\n",
      "100%|███████████████████████████████████████████| 36/36 [01:20<00:00,  2.22s/it]\r\n",
      "100%|███████████████████████████████████████████| 36/36 [01:20<00:00,  2.22s/it]\r\n",
      "100%|███████████████████████████████████████████| 36/36 [01:20<00:00,  2.23s/it]\r\n",
      "100%|███████████████████████████████████████████| 36/36 [01:20<00:00,  2.24s/it]\r\n",
      "100%|███████████████████████████████████████████| 64/64 [02:22<00:00,  2.23s/it]\r\n",
      "100%|███████████████████████████████████████████| 64/64 [02:23<00:00,  2.24s/it]\r\n",
      "100%|███████████████████████████████████████████| 64/64 [02:22<00:00,  2.23s/it]\r\n",
      "100%|███████████████████████████████████████████| 64/64 [02:23<00:00,  2.24s/it]\r\n",
      "100%|███████████████████████████████████████████| 64/64 [02:22<00:00,  2.23s/it]\r\n",
      "100%|███████████████████████████████████████████| 27/27 [01:00<00:00,  2.23s/it]\r\n",
      "100%|███████████████████████████████████████████| 27/27 [01:00<00:00,  2.24s/it]\r\n",
      "100%|███████████████████████████████████████████| 27/27 [01:00<00:00,  2.23s/it]\r\n",
      "100%|███████████████████████████████████████████| 27/27 [01:00<00:00,  2.24s/it]\r\n",
      "100%|███████████████████████████████████████████| 27/27 [01:00<00:00,  2.23s/it]\r\n",
      "100%|███████████████████████████████████████████| 45/45 [01:40<00:00,  2.23s/it]\r\n",
      "100%|███████████████████████████████████████████| 45/45 [01:40<00:00,  2.23s/it]\r\n",
      "100%|███████████████████████████████████████████| 45/45 [01:40<00:00,  2.23s/it]\r\n",
      "100%|███████████████████████████████████████████| 45/45 [01:40<00:00,  2.23s/it]\r\n",
      "100%|███████████████████████████████████████████| 45/45 [01:40<00:00,  2.23s/it]\r\n",
      "100%|███████████████████████████████████████████| 64/64 [02:22<00:00,  2.23s/it]\r\n",
      "100%|███████████████████████████████████████████| 64/64 [02:23<00:00,  2.24s/it]\r\n",
      "100%|███████████████████████████████████████████| 64/64 [02:22<00:00,  2.23s/it]\r\n",
      "100%|███████████████████████████████████████████| 64/64 [02:22<00:00,  2.23s/it]\r\n",
      "100%|███████████████████████████████████████████| 64/64 [02:22<00:00,  2.23s/it]\r\n",
      "100%|███████████████████████████████████████████| 64/64 [02:22<00:00,  2.23s/it]\r\n",
      "100%|███████████████████████████████████████████| 64/64 [02:23<00:00,  2.25s/it]\r\n",
      "100%|███████████████████████████████████████████| 64/64 [02:23<00:00,  2.24s/it]\r\n",
      "100%|███████████████████████████████████████████| 64/64 [02:23<00:00,  2.24s/it]\r\n",
      "100%|███████████████████████████████████████████| 64/64 [02:23<00:00,  2.24s/it]\r\n",
      "100%|█████████████████████████████████████████████| 8/8 [00:17<00:00,  2.23s/it]\r\n",
      "100%|█████████████████████████████████████████████| 8/8 [00:17<00:00,  2.24s/it]\r\n",
      "100%|█████████████████████████████████████████████| 8/8 [00:17<00:00,  2.24s/it]\r\n",
      "100%|█████████████████████████████████████████████| 8/8 [00:17<00:00,  2.24s/it]\r\n",
      "100%|█████████████████████████████████████████████| 8/8 [00:17<00:00,  2.24s/it]\r\n",
      "100%|███████████████████████████████████████████| 27/27 [01:00<00:00,  2.23s/it]\r\n",
      "100%|███████████████████████████████████████████| 27/27 [01:00<00:00,  2.23s/it]\r\n",
      "100%|███████████████████████████████████████████| 27/27 [01:00<00:00,  2.23s/it]\r\n",
      "100%|███████████████████████████████████████████| 27/27 [01:00<00:00,  2.22s/it]\r\n",
      "100%|███████████████████████████████████████████| 27/27 [01:00<00:00,  2.22s/it]\r\n",
      "100%|███████████████████████████████████████████| 64/64 [02:22<00:00,  2.22s/it]\r\n",
      "100%|███████████████████████████████████████████| 64/64 [02:23<00:00,  2.24s/it]\r\n",
      "100%|███████████████████████████████████████████| 64/64 [02:22<00:00,  2.23s/it]\r\n",
      "100%|███████████████████████████████████████████| 64/64 [02:23<00:00,  2.24s/it]\r\n",
      "100%|███████████████████████████████████████████| 64/64 [02:22<00:00,  2.23s/it]\r\n",
      "100%|███████████████████████████████████████████| 64/64 [02:22<00:00,  2.23s/it]\r\n",
      "100%|███████████████████████████████████████████| 64/64 [02:23<00:00,  2.24s/it]\r\n",
      "100%|███████████████████████████████████████████| 64/64 [02:23<00:00,  2.24s/it]\r\n",
      "100%|███████████████████████████████████████████| 64/64 [02:23<00:00,  2.24s/it]\r\n",
      "100%|███████████████████████████████████████████| 64/64 [02:22<00:00,  2.23s/it]\r\n",
      "100%|███████████████████████████████████████████| 36/36 [01:20<00:00,  2.23s/it]\r\n",
      "100%|███████████████████████████████████████████| 36/36 [01:20<00:00,  2.23s/it]\r\n",
      "100%|███████████████████████████████████████████| 36/36 [01:20<00:00,  2.23s/it]\r\n",
      "100%|███████████████████████████████████████████| 36/36 [01:20<00:00,  2.23s/it]\r\n",
      "100%|███████████████████████████████████████████| 36/36 [01:20<00:00,  2.23s/it]\r\n",
      "100%|███████████████████████████████████████████| 64/64 [02:22<00:00,  2.23s/it]\r\n",
      "100%|███████████████████████████████████████████| 64/64 [02:22<00:00,  2.23s/it]\r\n",
      "100%|███████████████████████████████████████████| 64/64 [02:22<00:00,  2.23s/it]\r\n",
      "100%|███████████████████████████████████████████| 64/64 [02:22<00:00,  2.23s/it]\r\n",
      "100%|███████████████████████████████████████████| 64/64 [02:22<00:00,  2.23s/it]\r\n",
      "100%|███████████████████████████████████████████| 27/27 [01:00<00:00,  2.23s/it]\r\n",
      "100%|███████████████████████████████████████████| 27/27 [01:00<00:00,  2.24s/it]\r\n",
      "100%|███████████████████████████████████████████| 27/27 [01:00<00:00,  2.24s/it]\r\n",
      "100%|███████████████████████████████████████████| 27/27 [01:00<00:00,  2.23s/it]\r\n",
      "100%|███████████████████████████████████████████| 27/27 [01:00<00:00,  2.22s/it]\r\n",
      "100%|█████████████████████████████████████████| 100/100 [03:41<00:00,  2.22s/it]\r\n",
      "100%|█████████████████████████████████████████| 100/100 [03:43<00:00,  2.24s/it]\r\n",
      "100%|█████████████████████████████████████████| 100/100 [03:42<00:00,  2.23s/it]\r\n",
      "100%|█████████████████████████████████████████| 100/100 [03:43<00:00,  2.23s/it]\r\n",
      "100%|█████████████████████████████████████████| 100/100 [03:42<00:00,  2.23s/it]\r\n",
      "100%|███████████████████████████████████████████| 36/36 [01:20<00:00,  2.23s/it]\r\n",
      "100%|███████████████████████████████████████████| 36/36 [01:20<00:00,  2.24s/it]\r\n",
      "100%|███████████████████████████████████████████| 36/36 [01:20<00:00,  2.24s/it]\r\n",
      "100%|███████████████████████████████████████████| 36/36 [01:20<00:00,  2.24s/it]\r\n",
      "100%|███████████████████████████████████████████| 36/36 [01:20<00:00,  2.25s/it]\r\n",
      "100%|███████████████████████████████████████████| 36/36 [01:20<00:00,  2.24s/it]\r\n",
      "100%|███████████████████████████████████████████| 36/36 [01:20<00:00,  2.24s/it]\r\n",
      "100%|███████████████████████████████████████████| 36/36 [01:20<00:00,  2.24s/it]\r\n",
      "100%|███████████████████████████████████████████| 36/36 [01:20<00:00,  2.24s/it]\r\n",
      "100%|███████████████████████████████████████████| 36/36 [01:20<00:00,  2.23s/it]\r\n",
      "100%|███████████████████████████████████████████| 64/64 [02:23<00:00,  2.24s/it]\r\n",
      "100%|███████████████████████████████████████████| 64/64 [02:23<00:00,  2.25s/it]\r\n",
      "100%|███████████████████████████████████████████| 64/64 [02:23<00:00,  2.24s/it]\r\n",
      "100%|███████████████████████████████████████████| 64/64 [02:23<00:00,  2.24s/it]\r\n",
      "100%|███████████████████████████████████████████| 64/64 [02:23<00:00,  2.24s/it]\r\n",
      "100%|█████████████████████████████████████████| 100/100 [03:43<00:00,  2.23s/it]\r\n",
      "100%|█████████████████████████████████████████| 100/100 [03:43<00:00,  2.24s/it]\r\n",
      "100%|█████████████████████████████████████████| 100/100 [03:43<00:00,  2.24s/it]\r\n",
      "100%|█████████████████████████████████████████| 100/100 [03:43<00:00,  2.24s/it]\r\n",
      "100%|█████████████████████████████████████████| 100/100 [03:43<00:00,  2.24s/it]\r\n",
      "100%|███████████████████████████████████████████| 80/80 [02:58<00:00,  2.23s/it]\r\n",
      "100%|███████████████████████████████████████████| 80/80 [02:58<00:00,  2.23s/it]\r\n",
      "100%|███████████████████████████████████████████| 80/80 [02:58<00:00,  2.23s/it]\r\n",
      "100%|███████████████████████████████████████████| 80/80 [02:58<00:00,  2.23s/it]\r\n",
      "100%|███████████████████████████████████████████| 80/80 [02:58<00:00,  2.23s/it]\r\n",
      "100%|███████████████████████████████████████████| 27/27 [00:59<00:00,  2.21s/it]\r\n",
      "100%|███████████████████████████████████████████| 27/27 [00:59<00:00,  2.22s/it]\r\n",
      "100%|███████████████████████████████████████████| 27/27 [00:59<00:00,  2.22s/it]\r\n",
      "100%|███████████████████████████████████████████| 27/27 [00:59<00:00,  2.22s/it]\r\n",
      "100%|███████████████████████████████████████████| 27/27 [00:59<00:00,  2.21s/it]\r\n",
      "100%|███████████████████████████████████████████| 36/36 [01:20<00:00,  2.23s/it]\r\n",
      "100%|███████████████████████████████████████████| 36/36 [01:20<00:00,  2.23s/it]\r\n",
      "100%|███████████████████████████████████████████| 36/36 [01:20<00:00,  2.23s/it]\r\n",
      "100%|███████████████████████████████████████████| 36/36 [01:20<00:00,  2.23s/it]\r\n",
      "100%|███████████████████████████████████████████| 36/36 [01:20<00:00,  2.23s/it]\r\n",
      "100%|█████████████████████████████████████████████| 8/8 [00:17<00:00,  2.23s/it]\r\n",
      "100%|█████████████████████████████████████████████| 8/8 [00:17<00:00,  2.23s/it]\r\n",
      "100%|█████████████████████████████████████████████| 8/8 [00:17<00:00,  2.23s/it]\r\n",
      "100%|█████████████████████████████████████████████| 8/8 [00:17<00:00,  2.23s/it]\r\n",
      "100%|█████████████████████████████████████████████| 8/8 [00:17<00:00,  2.23s/it]\r\n",
      "100%|███████████████████████████████████████████| 36/36 [01:20<00:00,  2.24s/it]\r\n",
      "100%|███████████████████████████████████████████| 36/36 [01:20<00:00,  2.24s/it]\r\n",
      "100%|███████████████████████████████████████████| 36/36 [01:20<00:00,  2.23s/it]\r\n",
      "100%|███████████████████████████████████████████| 36/36 [01:20<00:00,  2.23s/it]\r\n",
      "100%|███████████████████████████████████████████| 36/36 [01:20<00:00,  2.24s/it]\r\n",
      "100%|███████████████████████████████████████████| 36/36 [01:20<00:00,  2.24s/it]\r\n",
      "100%|███████████████████████████████████████████| 36/36 [01:20<00:00,  2.24s/it]\r\n",
      "100%|███████████████████████████████████████████| 36/36 [01:20<00:00,  2.23s/it]\r\n",
      "100%|███████████████████████████████████████████| 36/36 [01:20<00:00,  2.23s/it]\r\n",
      "100%|███████████████████████████████████████████| 36/36 [01:20<00:00,  2.23s/it]\r\n",
      "100%|███████████████████████████████████████████| 64/64 [02:22<00:00,  2.23s/it]\r\n",
      "100%|███████████████████████████████████████████| 64/64 [02:23<00:00,  2.24s/it]\r\n",
      "100%|███████████████████████████████████████████| 64/64 [02:22<00:00,  2.23s/it]\r\n",
      "100%|███████████████████████████████████████████| 64/64 [02:23<00:00,  2.23s/it]\r\n",
      "100%|███████████████████████████████████████████| 64/64 [02:22<00:00,  2.23s/it]\r\n",
      "100%|███████████████████████████████████████████| 18/18 [00:39<00:00,  2.22s/it]\r\n",
      "100%|███████████████████████████████████████████| 18/18 [00:40<00:00,  2.22s/it]\r\n",
      "100%|███████████████████████████████████████████| 18/18 [00:39<00:00,  2.22s/it]\r\n",
      "100%|███████████████████████████████████████████| 18/18 [00:39<00:00,  2.22s/it]\r\n",
      "100%|███████████████████████████████████████████| 18/18 [00:39<00:00,  2.21s/it]\r\n",
      "100%|███████████████████████████████████████████| 27/27 [01:00<00:00,  2.23s/it]\r\n",
      "100%|███████████████████████████████████████████| 27/27 [01:00<00:00,  2.23s/it]\r\n",
      "100%|███████████████████████████████████████████| 27/27 [01:00<00:00,  2.23s/it]\r\n",
      "100%|███████████████████████████████████████████| 27/27 [01:00<00:00,  2.23s/it]\r\n",
      "100%|███████████████████████████████████████████| 27/27 [01:00<00:00,  2.23s/it]\r\n",
      "100%|█████████████████████████████████████████████| 8/8 [00:17<00:00,  2.22s/it]\r\n",
      "100%|█████████████████████████████████████████████| 8/8 [00:17<00:00,  2.23s/it]\r\n",
      "100%|█████████████████████████████████████████████| 8/8 [00:17<00:00,  2.23s/it]\r\n",
      "100%|█████████████████████████████████████████████| 8/8 [00:17<00:00,  2.23s/it]\r\n",
      "100%|█████████████████████████████████████████████| 8/8 [00:17<00:00,  2.23s/it]\r\n",
      "100%|███████████████████████████████████████████| 27/27 [01:00<00:00,  2.24s/it]\r\n",
      "100%|███████████████████████████████████████████| 27/27 [01:00<00:00,  2.25s/it]\r\n",
      "100%|███████████████████████████████████████████| 27/27 [01:00<00:00,  2.24s/it]\r\n",
      "100%|███████████████████████████████████████████| 27/27 [01:00<00:00,  2.24s/it]\r\n",
      "100%|███████████████████████████████████████████| 27/27 [01:00<00:00,  2.24s/it]\r\n",
      "100%|███████████████████████████████████████████| 80/80 [02:58<00:00,  2.23s/it]\r\n",
      "100%|███████████████████████████████████████████| 80/80 [02:58<00:00,  2.24s/it]\r\n",
      "100%|███████████████████████████████████████████| 80/80 [02:58<00:00,  2.23s/it]\r\n",
      "100%|███████████████████████████████████████████| 80/80 [02:58<00:00,  2.23s/it]\r\n",
      "100%|███████████████████████████████████████████| 80/80 [02:58<00:00,  2.23s/it]\r\n",
      "100%|███████████████████████████████████████████| 27/27 [01:00<00:00,  2.23s/it]\r\n",
      "100%|███████████████████████████████████████████| 27/27 [01:00<00:00,  2.24s/it]\r\n",
      "100%|███████████████████████████████████████████| 27/27 [01:00<00:00,  2.24s/it]\r\n",
      "100%|███████████████████████████████████████████| 27/27 [01:00<00:00,  2.24s/it]\r\n",
      "100%|███████████████████████████████████████████| 27/27 [01:00<00:00,  2.23s/it]\r\n",
      "100%|███████████████████████████████████████████| 64/64 [02:23<00:00,  2.23s/it]\r\n",
      "100%|███████████████████████████████████████████| 64/64 [02:23<00:00,  2.24s/it]\r\n",
      "100%|███████████████████████████████████████████| 64/64 [02:23<00:00,  2.24s/it]\r\n",
      "100%|███████████████████████████████████████████| 64/64 [02:23<00:00,  2.25s/it]\r\n",
      "100%|███████████████████████████████████████████| 64/64 [02:23<00:00,  2.24s/it]\r\n",
      "100%|███████████████████████████████████████████| 45/45 [01:40<00:00,  2.24s/it]\r\n",
      "100%|███████████████████████████████████████████| 45/45 [01:40<00:00,  2.24s/it]\r\n",
      "100%|███████████████████████████████████████████| 45/45 [01:40<00:00,  2.23s/it]\r\n",
      "100%|███████████████████████████████████████████| 45/45 [01:40<00:00,  2.23s/it]\r\n",
      "100%|███████████████████████████████████████████| 45/45 [01:40<00:00,  2.24s/it]\r\n",
      "100%|███████████████████████████████████████████| 36/36 [01:20<00:00,  2.23s/it]\r\n",
      "100%|███████████████████████████████████████████| 36/36 [01:20<00:00,  2.24s/it]\r\n",
      "100%|███████████████████████████████████████████| 36/36 [01:20<00:00,  2.24s/it]\r\n",
      "100%|███████████████████████████████████████████| 36/36 [01:20<00:00,  2.24s/it]\r\n",
      "100%|███████████████████████████████████████████| 36/36 [01:20<00:00,  2.23s/it]\r\n",
      "100%|███████████████████████████████████████████| 36/36 [01:20<00:00,  2.23s/it]\r\n",
      "100%|███████████████████████████████████████████| 36/36 [01:20<00:00,  2.24s/it]\r\n",
      "100%|███████████████████████████████████████████| 36/36 [01:20<00:00,  2.24s/it]\r\n",
      "100%|███████████████████████████████████████████| 36/36 [01:20<00:00,  2.24s/it]\r\n",
      "100%|███████████████████████████████████████████| 36/36 [01:20<00:00,  2.24s/it]\r\n",
      "100%|███████████████████████████████████████████| 48/48 [01:47<00:00,  2.23s/it]\r\n",
      "100%|███████████████████████████████████████████| 48/48 [01:47<00:00,  2.24s/it]\r\n",
      "100%|███████████████████████████████████████████| 48/48 [01:47<00:00,  2.24s/it]\r\n",
      "100%|███████████████████████████████████████████| 48/48 [01:47<00:00,  2.24s/it]\r\n",
      "100%|███████████████████████████████████████████| 48/48 [01:47<00:00,  2.24s/it]\r\n",
      "100%|███████████████████████████████████████████| 36/36 [01:20<00:00,  2.24s/it]\r\n",
      "100%|███████████████████████████████████████████| 36/36 [01:20<00:00,  2.24s/it]\r\n",
      "100%|███████████████████████████████████████████| 36/36 [01:20<00:00,  2.24s/it]\r\n",
      "100%|███████████████████████████████████████████| 36/36 [01:20<00:00,  2.24s/it]\r\n",
      "100%|███████████████████████████████████████████| 36/36 [01:20<00:00,  2.24s/it]\r\n",
      "100%|███████████████████████████████████████████| 27/27 [01:00<00:00,  2.24s/it]\r\n",
      "100%|███████████████████████████████████████████| 27/27 [01:00<00:00,  2.24s/it]\r\n",
      "100%|███████████████████████████████████████████| 27/27 [01:00<00:00,  2.24s/it]\r\n",
      "100%|███████████████████████████████████████████| 27/27 [01:00<00:00,  2.24s/it]\r\n",
      "100%|███████████████████████████████████████████| 27/27 [01:00<00:00,  2.24s/it]\r\n"
     ]
    }
   ],
   "source": [
    "!nnUNetv2_predict -i \"{nnUNet_raw}{dataset_name}/imagesTs\"\\\n",
    "-o \"{nnUNet_results}{dataset_name}/predTs\" \\\n",
    "-d {dataset_id} -c 3d_fullres -tr {trainer} -f 0 1 2 3 4 > /dev/null"
   ]
  },
  {
   "cell_type": "code",
   "execution_count": 13,
   "id": "dfff6b5d",
   "metadata": {
    "execution": {
     "iopub.execute_input": "2024-06-11T12:49:35.288478Z",
     "iopub.status.busy": "2024-06-11T12:49:35.287988Z",
     "iopub.status.idle": "2024-06-11T12:49:37.334774Z",
     "shell.execute_reply": "2024-06-11T12:49:37.333848Z"
    },
    "papermill": {
     "duration": 2.99598,
     "end_time": "2024-06-11T12:49:37.337067",
     "exception": false,
     "start_time": "2024-06-11T12:49:34.341087",
     "status": "completed"
    },
    "tags": []
   },
   "outputs": [
    {
     "name": "stdout",
     "output_type": "stream",
     "text": [
      "[01/50] Convert file from /kaggle/working/Dataset110_CTImage/predTs/covid19_0075.nii.gz to /kaggle/working//predTs_rename/075.nii.gz\r\n",
      "[02/50] Convert file from /kaggle/working/Dataset110_CTImage/predTs/covid19_0408.nii.gz to /kaggle/working//predTs_rename/408.nii.gz\r\n",
      "[03/50] Convert file from /kaggle/working/Dataset110_CTImage/predTs/covid19_0676.nii.gz to /kaggle/working//predTs_rename/676.nii.gz\r\n",
      "[04/50] Convert file from /kaggle/working/Dataset110_CTImage/predTs/covid19_0089.nii.gz to /kaggle/working//predTs_rename/089.nii.gz\r\n",
      "[05/50] Convert file from /kaggle/working/Dataset110_CTImage/predTs/covid19_0543.nii.gz to /kaggle/working//predTs_rename/543.nii.gz\r\n",
      "[06/50] Convert file from /kaggle/working/Dataset110_CTImage/predTs/covid19_0268.nii.gz to /kaggle/working//predTs_rename/268.nii.gz\r\n",
      "[07/50] Convert file from /kaggle/working/Dataset110_CTImage/predTs/covid19_0513.nii.gz to /kaggle/working//predTs_rename/513.nii.gz\r\n",
      "[08/50] Convert file from /kaggle/working/Dataset110_CTImage/predTs/covid19_0441.nii.gz to /kaggle/working//predTs_rename/441.nii.gz\r\n",
      "[09/50] Convert file from /kaggle/working/Dataset110_CTImage/predTs/covid19_0330.nii.gz to /kaggle/working//predTs_rename/330.nii.gz\r\n",
      "[10/50] Convert file from /kaggle/working/Dataset110_CTImage/predTs/covid19_0108.nii.gz to /kaggle/working//predTs_rename/108.nii.gz\r\n",
      "[11/50] Convert file from /kaggle/working/Dataset110_CTImage/predTs/covid19_0302.nii.gz to /kaggle/working//predTs_rename/302.nii.gz\r\n",
      "[12/50] Convert file from /kaggle/working/Dataset110_CTImage/predTs/covid19_0457.nii.gz to /kaggle/working//predTs_rename/457.nii.gz\r\n",
      "[13/50] Convert file from /kaggle/working/Dataset110_CTImage/predTs/covid19_0180.nii.gz to /kaggle/working//predTs_rename/180_0.nii.gz\r\n",
      "[14/50] Convert file from /kaggle/working/Dataset110_CTImage/predTs/covid19_0509.nii.gz to /kaggle/working//predTs_rename/509.nii.gz\r\n",
      "[15/50] Convert file from /kaggle/working/Dataset110_CTImage/predTs/covid19_0033.nii.gz to /kaggle/working//predTs_rename/033.nii.gz\r\n",
      "[16/50] Convert file from /kaggle/working/Dataset110_CTImage/predTs/covid19_0697.nii.gz to /kaggle/working//predTs_rename/697.nii.gz\r\n",
      "[17/50] Convert file from /kaggle/working/Dataset110_CTImage/predTs/covid19_0297.nii.gz to /kaggle/working//predTs_rename/297.nii.gz\r\n",
      "[18/50] Convert file from /kaggle/working/Dataset110_CTImage/predTs/covid19_0091.nii.gz to /kaggle/working//predTs_rename/091.nii.gz\r\n",
      "[19/50] Convert file from /kaggle/working/Dataset110_CTImage/predTs/covid19_0376.nii.gz to /kaggle/working//predTs_rename/376.nii.gz\r\n",
      "[20/50] Convert file from /kaggle/working/Dataset110_CTImage/predTs/covid19_0343.nii.gz to /kaggle/working//predTs_rename/343.nii.gz\r\n",
      "[21/50] Convert file from /kaggle/working/Dataset110_CTImage/predTs/covid19_0451.nii.gz to /kaggle/working//predTs_rename/451.nii.gz\r\n",
      "[22/50] Convert file from /kaggle/working/Dataset110_CTImage/predTs/covid19_0516.nii.gz to /kaggle/working//predTs_rename/516.nii.gz\r\n",
      "[23/50] Convert file from /kaggle/working/Dataset110_CTImage/predTs/covid19_0294.nii.gz to /kaggle/working//predTs_rename/294.nii.gz\r\n",
      "[24/50] Convert file from /kaggle/working/Dataset110_CTImage/predTs/covid19_0156.nii.gz to /kaggle/working//predTs_rename/156.nii.gz\r\n",
      "[25/50] Convert file from /kaggle/working/Dataset110_CTImage/predTs/covid19_0673.nii.gz to /kaggle/working//predTs_rename/673.nii.gz\r\n",
      "[26/50] Convert file from /kaggle/working/Dataset110_CTImage/predTs/covid19_0229.nii.gz to /kaggle/working//predTs_rename/229.nii.gz\r\n",
      "[27/50] Convert file from /kaggle/working/Dataset110_CTImage/predTs/covid19_0420.nii.gz to /kaggle/working//predTs_rename/420.nii.gz\r\n",
      "[28/50] Convert file from /kaggle/working/Dataset110_CTImage/predTs/covid19_0631.nii.gz to /kaggle/working//predTs_rename/631.nii.gz\r\n",
      "[29/50] Convert file from /kaggle/working/Dataset110_CTImage/predTs/covid19_0490.nii.gz to /kaggle/working//predTs_rename/490.nii.gz\r\n",
      "[30/50] Convert file from /kaggle/working/Dataset110_CTImage/predTs/covid19_0189.nii.gz to /kaggle/working//predTs_rename/189_0.nii.gz\r\n",
      "[31/50] Convert file from /kaggle/working/Dataset110_CTImage/predTs/covid19_0489.nii.gz to /kaggle/working//predTs_rename/489.nii.gz\r\n",
      "[32/50] Convert file from /kaggle/working/Dataset110_CTImage/predTs/covid19_0259.nii.gz to /kaggle/working//predTs_rename/259.nii.gz\r\n",
      "[33/50] Convert file from /kaggle/working/Dataset110_CTImage/predTs/covid19_0026.nii.gz to /kaggle/working//predTs_rename/026.nii.gz\r\n",
      "[34/50] Convert file from /kaggle/working/Dataset110_CTImage/predTs/covid19_0584.nii.gz to /kaggle/working//predTs_rename/584.nii.gz\r\n",
      "[35/50] Convert file from /kaggle/working/Dataset110_CTImage/predTs/covid19_0690.nii.gz to /kaggle/working//predTs_rename/690.nii.gz\r\n",
      "[36/50] Convert file from /kaggle/working/Dataset110_CTImage/predTs/covid19_0538.nii.gz to /kaggle/working//predTs_rename/538.nii.gz\r\n",
      "[37/50] Convert file from /kaggle/working/Dataset110_CTImage/predTs/covid19_0064.nii.gz to /kaggle/working//predTs_rename/064.nii.gz\r\n",
      "[38/50] Convert file from /kaggle/working/Dataset110_CTImage/predTs/covid19_0082.nii.gz to /kaggle/working//predTs_rename/082.nii.gz\r\n",
      "[39/50] Convert file from /kaggle/working/Dataset110_CTImage/predTs/covid19_0257.nii.gz to /kaggle/working//predTs_rename/257.nii.gz\r\n",
      "[40/50] Convert file from /kaggle/working/Dataset110_CTImage/predTs/covid19_0654.nii.gz to /kaggle/working//predTs_rename/654.nii.gz\r\n",
      "[41/50] Convert file from /kaggle/working/Dataset110_CTImage/predTs/covid19_0318.nii.gz to /kaggle/working//predTs_rename/318_0.nii.gz\r\n",
      "[42/50] Convert file from /kaggle/working/Dataset110_CTImage/predTs/covid19_0345.nii.gz to /kaggle/working//predTs_rename/345.nii.gz\r\n",
      "[43/50] Convert file from /kaggle/working/Dataset110_CTImage/predTs/covid19_0004.nii.gz to /kaggle/working//predTs_rename/004.nii.gz\r\n",
      "[44/50] Convert file from /kaggle/working/Dataset110_CTImage/predTs/covid19_0287.nii.gz to /kaggle/working//predTs_rename/287_0.nii.gz\r\n",
      "[45/50] Convert file from /kaggle/working/Dataset110_CTImage/predTs/covid19_0369.nii.gz to /kaggle/working//predTs_rename/369_1.nii.gz\r\n",
      "[46/50] Convert file from /kaggle/working/Dataset110_CTImage/predTs/covid19_0620.nii.gz to /kaggle/working//predTs_rename/620.nii.gz\r\n",
      "[47/50] Convert file from /kaggle/working/Dataset110_CTImage/predTs/covid19_0218.nii.gz to /kaggle/working//predTs_rename/218.nii.gz\r\n",
      "[48/50] Convert file from /kaggle/working/Dataset110_CTImage/predTs/covid19_0143.nii.gz to /kaggle/working//predTs_rename/143.nii.gz\r\n",
      "[49/50] Convert file from /kaggle/working/Dataset110_CTImage/predTs/covid19_0523.nii.gz to /kaggle/working//predTs_rename/523.nii.gz\r\n",
      "[50/50] Convert file from /kaggle/working/Dataset110_CTImage/predTs/covid19_0170.nii.gz to /kaggle/working//predTs_rename/170.nii.gz\r\n",
      "  adding: predTs_rename/ (stored 0%)\r\n",
      "  adding: predTs_rename/620.nii.gz (deflated 55%)\r\n",
      "  adding: predTs_rename/218.nii.gz (deflated 20%)\r\n",
      "  adding: predTs_rename/287_0.nii.gz (deflated 41%)\r\n",
      "  adding: predTs_rename/408.nii.gz (deflated 52%)\r\n",
      "  adding: predTs_rename/697.nii.gz (deflated 47%)\r\n",
      "  adding: predTs_rename/509.nii.gz (deflated 77%)\r\n",
      "  adding: predTs_rename/369_1.nii.gz (deflated 96%)\r\n",
      "  adding: predTs_rename/033.nii.gz (deflated 80%)\r\n",
      "  adding: predTs_rename/676.nii.gz (deflated 73%)\r\n",
      "  adding: predTs_rename/156.nii.gz (deflated 50%)\r\n",
      "  adding: predTs_rename/229.nii.gz (deflated 48%)\r\n",
      "  adding: predTs_rename/457.nii.gz (deflated 70%)\r\n",
      "  adding: predTs_rename/318_0.nii.gz (deflated 82%)\r\n",
      "  adding: predTs_rename/089.nii.gz (deflated 89%)\r\n",
      "  adding: predTs_rename/690.nii.gz (deflated 89%)\r\n",
      "  adding: predTs_rename/490.nii.gz (deflated 88%)\r\n",
      "  adding: predTs_rename/143.nii.gz (deflated 88%)\r\n",
      "  adding: predTs_rename/345.nii.gz (deflated 63%)\r\n",
      "  adding: predTs_rename/082.nii.gz (deflated 78%)\r\n",
      "  adding: predTs_rename/631.nii.gz (deflated 74%)\r\n",
      "  adding: predTs_rename/543.nii.gz (deflated 77%)\r\n",
      "  adding: predTs_rename/451.nii.gz (deflated 89%)\r\n",
      "  adding: predTs_rename/513.nii.gz (deflated 91%)\r\n",
      "  adding: predTs_rename/064.nii.gz (deflated 95%)\r\n",
      "  adding: predTs_rename/180_0.nii.gz (deflated 77%)\r\n",
      "  adding: predTs_rename/294.nii.gz (deflated 93%)\r\n",
      "  adding: predTs_rename/257.nii.gz (deflated 84%)\r\n",
      "  adding: predTs_rename/268.nii.gz (deflated 84%)\r\n",
      "  adding: predTs_rename/489.nii.gz (deflated 68%)\r\n",
      "  adding: predTs_rename/673.nii.gz (deflated 68%)\r\n",
      "  adding: predTs_rename/523.nii.gz (deflated 85%)\r\n",
      "  adding: predTs_rename/420.nii.gz (deflated 84%)\r\n",
      "  adding: predTs_rename/441.nii.gz (deflated 85%)\r\n",
      "  adding: predTs_rename/343.nii.gz (deflated 83%)\r\n",
      "  adding: predTs_rename/108.nii.gz (deflated 91%)\r\n",
      "  adding: predTs_rename/170.nii.gz (deflated 93%)\r\n",
      "  adding: predTs_rename/075.nii.gz (deflated 73%)\r\n",
      "  adding: predTs_rename/302.nii.gz (deflated 43%)\r\n",
      "  adding: predTs_rename/654.nii.gz (deflated 89%)\r\n",
      "  adding: predTs_rename/026.nii.gz (deflated 80%)\r\n",
      "  adding: predTs_rename/376.nii.gz (deflated 86%)\r\n",
      "  adding: predTs_rename/189_0.nii.gz (deflated 87%)\r\n",
      "  adding: predTs_rename/091.nii.gz (deflated 93%)\r\n",
      "  adding: predTs_rename/297.nii.gz (deflated 85%)\r\n",
      "  adding: predTs_rename/330.nii.gz (deflated 66%)\r\n",
      "  adding: predTs_rename/538.nii.gz (deflated 68%)\r\n",
      "  adding: predTs_rename/584.nii.gz (deflated 94%)\r\n",
      "  adding: predTs_rename/004.nii.gz (deflated 64%)\r\n",
      "  adding: predTs_rename/259.nii.gz (deflated 73%)\r\n",
      "  adding: predTs_rename/516.nii.gz (deflated 45%)\r\n"
     ]
    }
   ],
   "source": [
    "!python ./createSubmissionFile.py -s \"{nnUNet_results}{dataset_name}/predTs\" -d \"{nnUNet_results}/predTs_rename\"\n",
    "!(cd {nnUNet_results} && zip -r pred.zip predTs_rename/)"
   ]
  }
 ],
 "metadata": {
  "kaggle": {
   "accelerator": "nvidiaTeslaT4",
   "dataSources": [
    {
     "datasetId": 4751735,
     "sourceId": 8660298,
     "sourceType": "datasetVersion"
    }
   ],
   "dockerImageVersionId": 30674,
   "isGpuEnabled": true,
   "isInternetEnabled": true,
   "language": "python",
   "sourceType": "notebook"
  },
  "kernelspec": {
   "display_name": "Python 3",
   "language": "python",
   "name": "python3"
  },
  "language_info": {
   "codemirror_mode": {
    "name": "ipython",
    "version": 3
   },
   "file_extension": ".py",
   "mimetype": "text/x-python",
   "name": "python",
   "nbconvert_exporter": "python",
   "pygments_lexer": "ipython3",
   "version": "3.10.13"
  },
  "papermill": {
   "default_parameters": {},
   "duration": 26288.507594,
   "end_time": "2024-06-11T12:49:38.642963",
   "environment_variables": {},
   "exception": null,
   "input_path": "__notebook__.ipynb",
   "output_path": "__notebook__.ipynb",
   "parameters": {},
   "start_time": "2024-06-11T05:31:30.135369",
   "version": "2.5.0"
  }
 },
 "nbformat": 4,
 "nbformat_minor": 5
}
