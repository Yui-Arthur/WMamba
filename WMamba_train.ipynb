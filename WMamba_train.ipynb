{
 "cells": [
  {
   "cell_type": "markdown",
   "id": "ea80235a",
   "metadata": {
    "papermill": {
     "duration": 0.005296,
     "end_time": "2024-06-09T07:49:13.168359",
     "exception": false,
     "start_time": "2024-06-09T07:49:13.163063",
     "status": "completed"
    },
    "tags": []
   },
   "source": [
    "## Device use T4 * 2"
   ]
  },
  {
   "cell_type": "markdown",
   "id": "f5af48f3",
   "metadata": {
    "papermill": {
     "duration": 0.004758,
     "end_time": "2024-06-09T07:49:13.178225",
     "exception": false,
     "start_time": "2024-06-09T07:49:13.173467",
     "status": "completed"
    },
    "tags": []
   },
   "source": [
    "#### Clone WMamba & U-Mamba Repo"
   ]
  },
  {
   "cell_type": "code",
   "execution_count": 1,
   "id": "adbd01c9",
   "metadata": {
    "_cell_guid": "b1076dfc-b9ad-4769-8c92-a6c4dae69d19",
    "_uuid": "8f2839f25d086af736a60e9eeb907d3b93b6e0e5",
    "execution": {
     "iopub.execute_input": "2024-06-09T07:49:13.189303Z",
     "iopub.status.busy": "2024-06-09T07:49:13.188965Z",
     "iopub.status.idle": "2024-06-09T07:49:16.287372Z",
     "shell.execute_reply": "2024-06-09T07:49:16.286432Z"
    },
    "papermill": {
     "duration": 3.106286,
     "end_time": "2024-06-09T07:49:16.289601",
     "exception": false,
     "start_time": "2024-06-09T07:49:13.183315",
     "status": "completed"
    },
    "tags": []
   },
   "outputs": [
    {
     "name": "stdout",
     "output_type": "stream",
     "text": [
      "Cloning into 'WMamba'...\r\n",
      "remote: Enumerating objects: 211, done.\u001b[K\r\n",
      "remote: Counting objects: 100% (64/64), done.\u001b[K\r\n",
      "remote: Compressing objects: 100% (51/51), done.\u001b[K\r\n",
      "remote: Total 211 (delta 29), reused 21 (delta 13), pack-reused 147\u001b[K\r\n",
      "Receiving objects: 100% (211/211), 162.70 KiB | 2.32 MiB/s, done.\r\n",
      "Resolving deltas: 100% (108/108), done.\r\n",
      "/kaggle/working/WMamba\n",
      "Cloning into 'U-Mamba'...\r\n",
      "remote: Enumerating objects: 301, done.\u001b[K\r\n",
      "remote: Counting objects: 100% (60/60), done.\u001b[K\r\n",
      "remote: Compressing objects: 100% (45/45), done.\u001b[K\r\n",
      "remote: Total 301 (delta 46), reused 15 (delta 15), pack-reused 241\u001b[K\r\n",
      "Receiving objects: 100% (301/301), 2.91 MiB | 15.13 MiB/s, done.\r\n",
      "Resolving deltas: 100% (81/81), done.\r\n"
     ]
    }
   ],
   "source": [
    "!git clone https://github.com/Yui-Arthur/WMamba.git > /dev/null\n",
    "%cd WMamba\n",
    "!git clone https://github.com/bowang-lab/U-Mamba.git > /dev/null"
   ]
  },
  {
   "cell_type": "code",
   "execution_count": 2,
   "id": "24952e61",
   "metadata": {
    "execution": {
     "iopub.execute_input": "2024-06-09T07:49:16.304162Z",
     "iopub.status.busy": "2024-06-09T07:49:16.303575Z",
     "iopub.status.idle": "2024-06-09T07:49:17.275014Z",
     "shell.execute_reply": "2024-06-09T07:49:17.273922Z"
    },
    "papermill": {
     "duration": 0.981278,
     "end_time": "2024-06-09T07:49:17.277288",
     "exception": false,
     "start_time": "2024-06-09T07:49:16.296010",
     "status": "completed"
    },
    "tags": []
   },
   "outputs": [
    {
     "name": "stdout",
     "output_type": "stream",
     "text": [
      "Branch 'Kaggle' set up to track remote branch 'Kaggle' from 'origin'.\r\n",
      "Switched to a new branch 'Kaggle'\r\n"
     ]
    }
   ],
   "source": [
    "!git checkout Kaggle"
   ]
  },
  {
   "cell_type": "markdown",
   "id": "70971c71",
   "metadata": {
    "papermill": {
     "duration": 0.006167,
     "end_time": "2024-06-09T07:49:17.289996",
     "exception": false,
     "start_time": "2024-06-09T07:49:17.283829",
     "status": "completed"
    },
    "tags": []
   },
   "source": [
    "#### Mabma & U-Mamba & WMamba reqirement"
   ]
  },
  {
   "cell_type": "code",
   "execution_count": 3,
   "id": "d6bddc95",
   "metadata": {
    "execution": {
     "iopub.execute_input": "2024-06-09T07:49:17.304051Z",
     "iopub.status.busy": "2024-06-09T07:49:17.303734Z",
     "iopub.status.idle": "2024-06-09T07:50:58.124438Z",
     "shell.execute_reply": "2024-06-09T07:50:58.123124Z"
    },
    "papermill": {
     "duration": 100.830977,
     "end_time": "2024-06-09T07:50:58.127143",
     "exception": false,
     "start_time": "2024-06-09T07:49:17.296166",
     "status": "completed"
    },
    "tags": []
   },
   "outputs": [],
   "source": [
    "!pip install causal-conv1d>=1.2.0 --no-cache-dir > /dev/null\n",
    "!pip install mamba-ssm --no-cache-dir > /dev/null\n",
    "!cd U-Mamba/umamba && (pip install -e .) > /dev/null"
   ]
  },
  {
   "cell_type": "code",
   "execution_count": 4,
   "id": "f62508ee",
   "metadata": {
    "execution": {
     "iopub.execute_input": "2024-06-09T07:50:58.142322Z",
     "iopub.status.busy": "2024-06-09T07:50:58.142031Z",
     "iopub.status.idle": "2024-06-09T07:51:24.146404Z",
     "shell.execute_reply": "2024-06-09T07:51:24.145197Z"
    },
    "papermill": {
     "duration": 26.014441,
     "end_time": "2024-06-09T07:51:24.148697",
     "exception": false,
     "start_time": "2024-06-09T07:50:58.134256",
     "status": "completed"
    },
    "tags": []
   },
   "outputs": [
    {
     "name": "stdout",
     "output_type": "stream",
     "text": [
      "\u001b[31mERROR: pip's dependency resolver does not currently take into account all the packages that are installed. This behaviour is the source of the following dependency conflicts.\r\n",
      "jupyterlab 4.1.5 requires jupyter-lsp>=2.0.0, but you have jupyter-lsp 1.5.1 which is incompatible.\r\n",
      "jupyterlab-lsp 5.1.0 requires jupyter-lsp>=2.0.0, but you have jupyter-lsp 1.5.1 which is incompatible.\r\n",
      "libpysal 4.9.2 requires packaging>=22, but you have packaging 21.3 which is incompatible.\r\n",
      "libpysal 4.9.2 requires shapely>=2.0.1, but you have shapely 1.8.5.post1 which is incompatible.\r\n",
      "momepy 0.7.0 requires shapely>=2, but you have shapely 1.8.5.post1 which is incompatible.\r\n",
      "spopt 0.6.0 requires shapely>=2.0.1, but you have shapely 1.8.5.post1 which is incompatible.\u001b[0m\u001b[31m\r\n",
      "\u001b[0m"
     ]
    }
   ],
   "source": [
    "!pip install ptwt >  /dev/null\n",
    "!pip install PyWavelets >  /dev/null"
   ]
  },
  {
   "cell_type": "code",
   "execution_count": 5,
   "id": "fd7bcc43",
   "metadata": {
    "execution": {
     "iopub.execute_input": "2024-06-09T07:51:24.164694Z",
     "iopub.status.busy": "2024-06-09T07:51:24.164126Z",
     "iopub.status.idle": "2024-06-09T07:51:25.203258Z",
     "shell.execute_reply": "2024-06-09T07:51:25.202358Z"
    },
    "papermill": {
     "duration": 1.048961,
     "end_time": "2024-06-09T07:51:25.205436",
     "exception": false,
     "start_time": "2024-06-09T07:51:24.156475",
     "status": "completed"
    },
    "tags": []
   },
   "outputs": [
    {
     "name": "stdout",
     "output_type": "stream",
     "text": [
      "Setup WMamba\r\n",
      "CP File From W-Mamba to U-Mamba\r\n",
      "Trainer:\r\n",
      "  nnUNetTrainerUMambaBot.py\r\n",
      "  nnUNetTrainerWMambaBot.py\r\n",
      "  nnUNetTrainerUMambaEncNoAMP.py\r\n",
      "  nnUNetTrainerUMambaEnc.py\r\n",
      "  nnUNetTrainerWMambaBase.py\r\n",
      "Nets:\r\n",
      "  WMambaBot_3d.py\r\n",
      "Others:\r\n",
      "  paths.py\r\n",
      "  waveletLayer.py\r\n"
     ]
    }
   ],
   "source": [
    "!sudo bash setup_wmamba.sh"
   ]
  },
  {
   "cell_type": "markdown",
   "id": "d5948525",
   "metadata": {
    "papermill": {
     "duration": 0.006541,
     "end_time": "2024-06-09T07:51:25.220212",
     "exception": false,
     "start_time": "2024-06-09T07:51:25.213671",
     "status": "completed"
    },
    "tags": []
   },
   "source": [
    "### set env variable"
   ]
  },
  {
   "cell_type": "code",
   "execution_count": 6,
   "id": "ca784e1d",
   "metadata": {
    "execution": {
     "iopub.execute_input": "2024-06-09T07:51:25.235082Z",
     "iopub.status.busy": "2024-06-09T07:51:25.234738Z",
     "iopub.status.idle": "2024-06-09T07:51:25.245313Z",
     "shell.execute_reply": "2024-06-09T07:51:25.244236Z"
    },
    "papermill": {
     "duration": 0.020443,
     "end_time": "2024-06-09T07:51:25.247355",
     "exception": false,
     "start_time": "2024-06-09T07:51:25.226912",
     "status": "completed"
    },
    "tags": []
   },
   "outputs": [
    {
     "name": "stdout",
     "output_type": "stream",
     "text": [
      "env: ipynb=1\n",
      "env: nnUNet_preprocessed=/home/nnUNet_preprocessed/\n",
      "env: nnUNet_raw=/home/nnUNet_raw/\n",
      "env: nnUNet_results=/kaggle/working/\n"
     ]
    }
   ],
   "source": [
    "### DO NOT EDIT !!! ###\n",
    "nnUNet_preprocessed=\"/home/nnUNet_preprocessed/\"\n",
    "nnUNet_raw=\"/home/nnUNet_raw/\"\n",
    "nnUNet_results=\"/kaggle/working/\"\n",
    "\n",
    "%env ipynb=1\n",
    "%env nnUNet_preprocessed={nnUNet_preprocessed}\n",
    "%env nnUNet_raw={nnUNet_raw}\n",
    "%env nnUNet_results={nnUNet_results}\n",
    "\n"
   ]
  },
  {
   "cell_type": "markdown",
   "id": "754bf244",
   "metadata": {
    "papermill": {
     "duration": 0.006571,
     "end_time": "2024-06-09T07:51:25.261088",
     "exception": false,
     "start_time": "2024-06-09T07:51:25.254517",
     "status": "completed"
    },
    "tags": []
   },
   "source": [
    "### parameter (can modify)"
   ]
  },
  {
   "cell_type": "code",
   "execution_count": 7,
   "id": "830791ca",
   "metadata": {
    "execution": {
     "iopub.execute_input": "2024-06-09T07:51:25.275596Z",
     "iopub.status.busy": "2024-06-09T07:51:25.275355Z",
     "iopub.status.idle": "2024-06-09T07:51:25.282726Z",
     "shell.execute_reply": "2024-06-09T07:51:25.281820Z"
    },
    "papermill": {
     "duration": 0.016704,
     "end_time": "2024-06-09T07:51:25.284564",
     "exception": false,
     "start_time": "2024-06-09T07:51:25.267860",
     "status": "completed"
    },
    "tags": []
   },
   "outputs": [
    {
     "name": "stdout",
     "output_type": "stream",
     "text": [
      "env: training_epochs=300\n",
      "env: checkpoint_save_every=10\n"
     ]
    }
   ],
   "source": [
    "### Epoch ###\n",
    "# **the maximum epoch include all train epoch in every session** #\n",
    "%env training_epochs=300\n",
    "\n",
    "### Checkpoint ###\n",
    "# every {checkpoint_save_every} epochs will save one checkpoint\n",
    "%env checkpoint_save_every = 10\n",
    "load_checkpoint = True\n",
    "\n",
    "prev_checkpoint_f0 = \"/kaggle/input/0603/checkpoint_latest_0.pth\"\n",
    "prev_checkpoint_f1 = \"/kaggle/input/0603/checkpoint_latest_1.pth\"\n",
    "\n",
    "### Kaggle Dataset Input Path ###\n",
    "dataset_path = \"/kaggle/input/Dataset110_CTImage.mp4\"\n",
    "### Dataset ID ###\n",
    "dataset_id = 110\n",
    "\n",
    "### Set Trainer/Model ###\n",
    "trainer = \"nnUNetTrainerWMambaBot\"\n",
    "\n",
    "### Set GPU DRAM for dataset preproccess ###\n",
    "gpu_dram = 8\n"
   ]
  },
  {
   "cell_type": "markdown",
   "id": "b29e0a9a",
   "metadata": {
    "papermill": {
     "duration": 0.006687,
     "end_time": "2024-06-09T07:51:25.298109",
     "exception": false,
     "start_time": "2024-06-09T07:51:25.291422",
     "status": "completed"
    },
    "tags": []
   },
   "source": [
    "### dataset prepaired"
   ]
  },
  {
   "cell_type": "code",
   "execution_count": 8,
   "id": "cbe2fcc9",
   "metadata": {
    "execution": {
     "iopub.execute_input": "2024-06-09T07:51:25.312890Z",
     "iopub.status.busy": "2024-06-09T07:51:25.312616Z",
     "iopub.status.idle": "2024-06-09T08:06:51.613082Z",
     "shell.execute_reply": "2024-06-09T08:06:51.611835Z"
    },
    "papermill": {
     "duration": 926.310713,
     "end_time": "2024-06-09T08:06:51.615619",
     "exception": false,
     "start_time": "2024-06-09T07:51:25.304906",
     "status": "completed"
    },
    "tags": []
   },
   "outputs": [
    {
     "name": "stdout",
     "output_type": "stream",
     "text": [
      "\r\n",
      "\r\n",
      "\r\n",
      "The following NEW packages will be installed:\r\n",
      "  unrar\r\n",
      "0 upgraded, 1 newly installed, 0 to remove and 51 not upgraded.\r\n",
      "Need to get 113 kB of archives.\r\n",
      "After this operation, 406 kB of additional disk space will be used.\r\n",
      "Get:1 http://archive.ubuntu.com/ubuntu focal/multiverse amd64 unrar amd64 1:5.6.6-2build1 [113 kB]\r\n",
      "Fetched 113 kB in 1s (183 kB/s)\r\n",
      "\n",
      "\u001b7\u001b[0;23r\u001b8\u001b[1ASelecting previously unselected package unrar.\r\n",
      "(Reading database ... 113807 files and directories currently installed.)\r\n",
      "Preparing to unpack .../unrar_1%3a5.6.6-2build1_amd64.deb ...\r\n",
      "\u001b7\u001b[24;0f\u001b[42m\u001b[30mProgress: [  0%]\u001b[49m\u001b[39m [..........................................................] \u001b8\u001b7\u001b[24;0f\u001b[42m\u001b[30mProgress: [ 20%]\u001b[49m\u001b[39m [###########...............................................] \u001b8Unpacking unrar (1:5.6.6-2build1) ...\r\n",
      "\u001b7\u001b[24;0f\u001b[42m\u001b[30mProgress: [ 40%]\u001b[49m\u001b[39m [#######################...................................] \u001b8Setting up unrar (1:5.6.6-2build1) ...\r\n",
      "\u001b7\u001b[24;0f\u001b[42m\u001b[30mProgress: [ 60%]\u001b[49m\u001b[39m [##################################........................] \u001b8update-alternatives: using /usr/bin/unrar-nonfree to provide /usr/bin/unrar (unrar) in auto mode\r\n",
      "update-alternatives: warning: skip creation of /usr/share/man/man1/unrar.1.gz because associated file /usr/share/man/man1/unrar-nonfree.1.gz (of link group unrar) doesn't exist\r\n",
      "\u001b7\u001b[24;0f\u001b[42m\u001b[30mProgress: [ 80%]\u001b[49m\u001b[39m [##############################################............] \u001b8Processing triggers for man-db (2.9.1-1) ...\r\n",
      "\r\n",
      "100%|█████████████████████████████████████████| 199/199 [01:12<00:00,  2.74it/s]\r\n",
      "100%|█████████████████████████████████████████| 199/199 [11:43<00:00,  3.54s/it]\r\n"
     ]
    }
   ],
   "source": [
    "if dataset_id == 110:\n",
    "    \"\"\"===== Dataset 110 Covid-19 ====\"\"\"\n",
    "    \"\"\" unrar data folder and move to home. \"\"\"\n",
    "    !apt install unrar\n",
    "    !(unrar x {dataset_path} {nnUNet_raw}) >  /dev/null\n",
    "    \"\"\"dataset preoproccess about 20 mins.\"\"\"\n",
    "    !nnUNetv2_plan_and_preprocess -d 110 --verify_dataset_integrity -c 3d_fullres -gpu_memory_target {gpu_dram} > /dev/null\n",
    "    dataset_id = 110\n",
    "    dataset_name = \"Dataset110_CTImage\"\n",
    "else:\n",
    "    \"\"\"===== Dastaset 4 Hippocampus ====\"\"\"\n",
    "    \"\"\" unzip data folder and move to home. \"\"\"\n",
    "    !(tar -C  /home/ -xvf {dataset_path}) > /dev/null\n",
    "    \"\"\" dataset preoproccess. \"\"\"\n",
    "    !nnUNetv2_convert_MSD_dataset -i /home/Task04_Hippocampus \n",
    "    !nnUNetv2_plan_and_preprocess -d 4 --verify_dataset_integrity -c 3d_fullres -gpu_memory_target {gpu_dram} > /dev/null\n",
    "    dataset_id = 4\n",
    "    dataset_name = \"Dataset004_Hippocampus\"\n"
   ]
  },
  {
   "cell_type": "markdown",
   "id": "870154c2",
   "metadata": {
    "papermill": {
     "duration": 0.038187,
     "end_time": "2024-06-09T08:06:51.696045",
     "exception": false,
     "start_time": "2024-06-09T08:06:51.657858",
     "status": "completed"
    },
    "tags": []
   },
   "source": [
    "### train"
   ]
  },
  {
   "cell_type": "code",
   "execution_count": 9,
   "id": "17099c27",
   "metadata": {
    "execution": {
     "iopub.execute_input": "2024-06-09T08:06:51.774405Z",
     "iopub.status.busy": "2024-06-09T08:06:51.774047Z",
     "iopub.status.idle": "2024-06-09T08:06:51.779607Z",
     "shell.execute_reply": "2024-06-09T08:06:51.778730Z"
    },
    "papermill": {
     "duration": 0.04678,
     "end_time": "2024-06-09T08:06:51.781466",
     "exception": false,
     "start_time": "2024-06-09T08:06:51.734686",
     "status": "completed"
    },
    "tags": []
   },
   "outputs": [],
   "source": [
    "# from pathlib import Path\n",
    "# if not load_checkpoint:\n",
    "#     ### first training (no checkpoint) ###\n",
    "#     !CUDA_VISIBLE_DEVICES=0 nnUNetv2_train {dataset_id} 3d_fullres 0 -tr {trainer} --npz & \\\n",
    "#     CUDA_VISIBLE_DEVICES=1 nnUNetv2_train {dataset_id} 3d_fullres 1 -tr {trainer} --npz\n",
    "# else:\n",
    "#     ### load checkpoint, continue train\n",
    "#     current_trainer_folder = f\"{nnUNet_results}{dataset_name}/{trainer}__nnUNetPlans__3d_fullres/\"\n",
    "\n",
    "#     !mkdir -p {current_trainer_folder}/fold_0\n",
    "#     !mkdir -p {current_trainer_folder}/fold_1\n",
    "\n",
    "#     !cp {prev_checkpoint_f0} {current_trainer_folder}/fold_0/checkpoint_best.pth\n",
    "#     !cp {prev_checkpoint_f1} {current_trainer_folder}/fold_1/checkpoint_best.pth\n",
    "    \n",
    "#     # check the checkpoint can be successful loaded\n",
    "#     f0 = [i.name for i in Path(current_trainer_folder+\"fold_0\").glob(\"*.pth\")]\n",
    "#     f1 = [i.name for i in Path(current_trainer_folder+\"fold_1\").glob(\"*.pth\")]\n",
    "#     print(\"Load Checkpoint fold 0\",f0)\n",
    "#     print(\"Load Checkpoint fold 1\",f1)\n",
    "#     if len(f0) <1 or len(f1) <1:\n",
    "#         raise ValueError(\"Load Checkpoint Failed\")\n",
    "    \n",
    "#     !CUDA_VISIBLE_DEVICES=0 nnUNetv2_train {dataset_id} 3d_fullres 0 -tr {trainer} --c --npz & \\\n",
    "#     CUDA_VISIBLE_DEVICES=1 nnUNetv2_train {dataset_id} 3d_fullres 1 -tr {trainer} --c  --npz"
   ]
  },
  {
   "cell_type": "code",
   "execution_count": 10,
   "id": "bb1f7b6d",
   "metadata": {
    "execution": {
     "iopub.execute_input": "2024-06-09T08:06:51.860847Z",
     "iopub.status.busy": "2024-06-09T08:06:51.860528Z",
     "iopub.status.idle": "2024-06-09T08:06:56.802493Z",
     "shell.execute_reply": "2024-06-09T08:06:56.801349Z"
    },
    "papermill": {
     "duration": 4.984412,
     "end_time": "2024-06-09T08:06:56.804813",
     "exception": false,
     "start_time": "2024-06-09T08:06:51.820401",
     "status": "completed"
    },
    "tags": []
   },
   "outputs": [
    {
     "name": "stdout",
     "output_type": "stream",
     "text": [
      "cp: cannot create directory '/kaggle/working/Dataset110_CTImage/nnUNetTrainerWMambaBot__nnUNetPlans__3d_fullres//': No such file or directory\r\n",
      "cp: cannot create directory '/kaggle/working/Dataset110_CTImage/nnUNetTrainerWMambaBot__nnUNetPlans__3d_fullres//': No such file or directory\r\n",
      "cp: cannot create directory '/kaggle/working/Dataset110_CTImage/nnUNetTrainerWMambaBot__nnUNetPlans__3d_fullres//': No such file or directory\r\n",
      "cp: cannot create directory '/kaggle/working/Dataset110_CTImage/nnUNetTrainerWMambaBot__nnUNetPlans__3d_fullres//': No such file or directory\r\n",
      "cp: cannot create directory '/kaggle/working/Dataset110_CTImage/nnUNetTrainerWMambaBot__nnUNetPlans__3d_fullres//': No such file or directory\r\n"
     ]
    }
   ],
   "source": [
    "current_trainer_folder = f\"{nnUNet_results}{dataset_name}/{trainer}__nnUNetPlans__3d_fullres/\"\n",
    "!cp -r /kaggle/input/fold_0 {current_trainer_folder}/\n",
    "!cp -r /kaggle/input/fold_1 {current_trainer_folder}/\n",
    "!cp -r /kaggle/input/fold_2 {current_trainer_folder}/\n",
    "!cp -r /kaggle/input/fold_3 {current_trainer_folder}/\n",
    "!cp -r /kaggle/input/fold_4 {current_trainer_folder}/\n"
   ]
  },
  {
   "cell_type": "markdown",
   "id": "41407085",
   "metadata": {
    "papermill": {
     "duration": 0.038694,
     "end_time": "2024-06-09T08:06:56.883210",
     "exception": false,
     "start_time": "2024-06-09T08:06:56.844516",
     "status": "completed"
    },
    "tags": []
   },
   "source": [
    "### find best fold"
   ]
  },
  {
   "cell_type": "code",
   "execution_count": 11,
   "id": "9695336d",
   "metadata": {
    "execution": {
     "iopub.execute_input": "2024-06-09T08:06:56.963509Z",
     "iopub.status.busy": "2024-06-09T08:06:56.962624Z",
     "iopub.status.idle": "2024-06-09T08:07:01.520332Z",
     "shell.execute_reply": "2024-06-09T08:07:01.519206Z"
    },
    "papermill": {
     "duration": 4.600825,
     "end_time": "2024-06-09T08:07:01.522896",
     "exception": false,
     "start_time": "2024-06-09T08:06:56.922071",
     "status": "completed"
    },
    "tags": []
   },
   "outputs": [
    {
     "name": "stdout",
     "output_type": "stream",
     "text": [
      "Traceback (most recent call last):\r\n",
      "  File \"/opt/conda/bin/nnUNetv2_find_best_configuration\", line 33, in <module>\r\n",
      "    sys.exit(load_entry_point('nnunetv2', 'console_scripts', 'nnUNetv2_find_best_configuration')())\r\n",
      "  File \"/kaggle/working/WMamba/U-Mamba/umamba/nnunetv2/evaluation/find_best_configuration.py\", line 295, in find_best_configuration_entry_point\r\n",
      "    find_best_configuration(dataset_name, model_dict, allow_ensembling=not args.disable_ensembling,\r\n",
      "  File \"/kaggle/working/WMamba/U-Mamba/umamba/nnunetv2/evaluation/find_best_configuration.py\", line 91, in find_best_configuration\r\n",
      "    allowed_trained_models = filter_available_models(deepcopy(allowed_trained_models), dataset_name_or_id)\r\n",
      "  File \"/kaggle/working/WMamba/U-Mamba/umamba/nnunetv2/evaluation/find_best_configuration.py\", line 43, in filter_available_models\r\n",
      "    raise RuntimeError(f\"Trained model {trained_model} does not have an output folder. \"\r\n",
      "RuntimeError: Trained model {'plans': 'nnUNetPlans', 'configuration': '3d_fullres', 'trainer': 'nnUNetTrainerWMambaBot'} does not have an output folder. Expected: /kaggle/working/Dataset110_CTImage/nnUNetTrainerWMambaBot__nnUNetPlans__3d_fullres. Please run the training for this model! (don't forget the --npz flag if you want to ensemble multiple configurations)\r\n"
     ]
    }
   ],
   "source": [
    "!nnUNetv2_find_best_configuration {dataset_id} -c 3d_fullres -tr {trainer} -f 0 1 2 3"
   ]
  },
  {
   "cell_type": "markdown",
   "id": "52c17fbb",
   "metadata": {
    "papermill": {
     "duration": 0.039756,
     "end_time": "2024-06-09T08:07:01.603711",
     "exception": false,
     "start_time": "2024-06-09T08:07:01.563955",
     "status": "completed"
    },
    "tags": []
   },
   "source": [
    "### predict "
   ]
  },
  {
   "cell_type": "code",
   "execution_count": 12,
   "id": "71e89179",
   "metadata": {
    "execution": {
     "iopub.execute_input": "2024-06-09T08:07:01.690060Z",
     "iopub.status.busy": "2024-06-09T08:07:01.689277Z",
     "iopub.status.idle": "2024-06-09T08:07:09.393308Z",
     "shell.execute_reply": "2024-06-09T08:07:09.392148Z"
    },
    "papermill": {
     "duration": 7.752237,
     "end_time": "2024-06-09T08:07:09.395752",
     "exception": false,
     "start_time": "2024-06-09T08:07:01.643515",
     "status": "completed"
    },
    "tags": []
   },
   "outputs": [
    {
     "name": "stdout",
     "output_type": "stream",
     "text": [
      "Traceback (most recent call last):\r\n",
      "  File \"/opt/conda/bin/nnUNetv2_predict\", line 33, in <module>\r\n",
      "    sys.exit(load_entry_point('nnunetv2', 'console_scripts', 'nnUNetv2_predict')())\r\n",
      "  File \"/kaggle/working/WMamba/U-Mamba/umamba/nnunetv2/inference/predict_from_raw_data.py\", line 826, in predict_entry_point\r\n",
      "    predictor.initialize_from_trained_model_folder(\r\n",
      "  File \"/kaggle/working/WMamba/U-Mamba/umamba/nnunetv2/inference/predict_from_raw_data.py\", line 77, in initialize_from_trained_model_folder\r\n",
      "    dataset_json = load_json(join(model_training_output_dir, 'dataset.json'))\r\n",
      "  File \"/opt/conda/lib/python3.10/site-packages/batchgenerators/utilities/file_and_folder_operations.py\", line 68, in load_json\r\n",
      "    with open(file, 'r') as f:\r\n",
      "FileNotFoundError: [Errno 2] No such file or directory: '/kaggle/working/Dataset110_CTImage/nnUNetTrainerWMambaBot__nnUNetPlans__3d_fullres/dataset.json'\r\n"
     ]
    }
   ],
   "source": [
    "!nnUNetv2_predict -i \"{nnUNet_raw}{dataset_name}/imagesTs\"\\\n",
    "-o \"{nnUNet_results}{dataset_name}/predTs\" \\\n",
    "-d {dataset_id} -c 3d_fullres -tr {trainer} -f 0 1 > /dev/null"
   ]
  },
  {
   "cell_type": "code",
   "execution_count": 13,
   "id": "9fd8da1b",
   "metadata": {
    "execution": {
     "iopub.execute_input": "2024-06-09T08:07:09.476133Z",
     "iopub.status.busy": "2024-06-09T08:07:09.475761Z",
     "iopub.status.idle": "2024-06-09T08:07:11.528159Z",
     "shell.execute_reply": "2024-06-09T08:07:11.527010Z"
    },
    "papermill": {
     "duration": 2.095197,
     "end_time": "2024-06-09T08:07:11.530509",
     "exception": false,
     "start_time": "2024-06-09T08:07:09.435312",
     "status": "completed"
    },
    "tags": []
   },
   "outputs": [
    {
     "name": "stdout",
     "output_type": "stream",
     "text": [
      "  adding: predTs_rename/ (stored 0%)\r\n"
     ]
    }
   ],
   "source": [
    "!python ./createSubmissionFile.py -s \"{nnUNet_results}{dataset_name}/predTs\" -d \"{nnUNet_results}/predTs_rename\"\n",
    "!(cd {nnUNet_results} && zip -r pred.zip predTs_rename/)"
   ]
  }
 ],
 "metadata": {
  "kaggle": {
   "accelerator": "nvidiaTeslaT4",
   "dataSources": [
    {
     "datasetId": 4751735,
     "sourceId": 8645318,
     "sourceType": "datasetVersion"
    }
   ],
   "dockerImageVersionId": 30674,
   "isGpuEnabled": true,
   "isInternetEnabled": true,
   "language": "python",
   "sourceType": "notebook"
  },
  "kernelspec": {
   "display_name": "Python 3",
   "language": "python",
   "name": "python3"
  },
  "language_info": {
   "codemirror_mode": {
    "name": "ipython",
    "version": 3
   },
   "file_extension": ".py",
   "mimetype": "text/x-python",
   "name": "python",
   "nbconvert_exporter": "python",
   "pygments_lexer": "ipython3",
   "version": "3.10.13"
  },
  "papermill": {
   "default_parameters": {},
   "duration": 1081.802808,
   "end_time": "2024-06-09T08:07:11.892203",
   "environment_variables": {},
   "exception": null,
   "input_path": "__notebook__.ipynb",
   "output_path": "__notebook__.ipynb",
   "parameters": {},
   "start_time": "2024-06-09T07:49:10.089395",
   "version": "2.5.0"
  }
 },
 "nbformat": 4,
 "nbformat_minor": 5
}
